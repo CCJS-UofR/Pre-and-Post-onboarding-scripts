{
 "cells": [
  {
   "cell_type": "code",
   "execution_count": 1,
   "metadata": {
    "collapsed": true
   },
   "outputs": [],
   "source": [
    "# Importing libraries\n",
    "import numpy as np\n",
    "import pandas as pd\n",
    "from datetime import date, datetime\n",
    "import tkinter as tk\n",
    "import tkinter.filedialog\n",
    "import os\n",
    "import ntpath\n",
    "import numpy as np"
   ]
  },
  {
   "cell_type": "code",
   "execution_count": 2,
   "outputs": [
    {
     "data": {
      "text/plain": "''"
     },
     "execution_count": 2,
     "metadata": {},
     "output_type": "execute_result"
    }
   ],
   "source": [
    "# tkinter setup\n",
    "\n",
    "root = tk.Tk()\n",
    "root.withdraw()  # used to hide tkinter window"
   ],
   "metadata": {
    "collapsed": false,
    "pycharm": {
     "name": "#%%\n"
    }
   }
  },
  {
   "cell_type": "code",
   "execution_count": 3,
   "outputs": [],
   "source": [
    "# Write the troop name here\n",
    "troop_name = \"for the Troop \"+\"33 22-23\""
   ],
   "metadata": {
    "collapsed": false,
    "pycharm": {
     "name": "#%%\n"
    }
   }
  },
  {
   "cell_type": "code",
   "execution_count": 4,
   "outputs": [
    {
     "name": "stdout",
     "output_type": "stream",
     "text": [
      "Files output directory is set to: I:\\Templates, Scripts, and documents\\Report Scripts\\RCMP\\Consent and Onboarding data Script\\Post onboarding reports file output\n"
     ]
    }
   ],
   "source": [
    "output_dir_name = \"Post onboarding reports file output\"\n",
    "# create dir\n",
    "abs_path = os.getcwd()\n",
    "path = os.path.join(abs_path, output_dir_name)\n",
    "\n",
    "try:\n",
    "    if not os.path.exists(path):\n",
    "        os.mkdir(path)\n",
    "except OSError as error:\n",
    "    print(error)\n",
    "\n",
    "print(f\"Files output directory is set to: {path}\")"
   ],
   "metadata": {
    "collapsed": false,
    "pycharm": {
     "name": "#%%\n"
    }
   }
  },
  {
   "cell_type": "markdown",
   "source": [
    "### Generating the consent report"
   ],
   "metadata": {
    "collapsed": false
   }
  },
  {
   "cell_type": "code",
   "execution_count": 5,
   "outputs": [
    {
     "name": "stdout",
     "output_type": "stream",
     "text": [
      "You chose C:/Users/sam070/Downloads/user_acceptances (31).csv\n"
     ]
    }
   ],
   "source": [
    "currdir = os.getcwd()\n",
    "consent_file_path = tkinter.filedialog.askopenfilename(\n",
    "    parent=root, initialdir=currdir, title='Please choose the consent file collected from Moodle')\n",
    "if len(consent_file_path) > 0:\n",
    "    print(\"You chose %s\" % consent_file_path)\n",
    "\n",
    "consent_df = pd.read_csv(f'{consent_file_path}')"
   ],
   "metadata": {
    "collapsed": false,
    "pycharm": {
     "name": "#%%\n"
    }
   }
  },
  {
   "cell_type": "code",
   "execution_count": 6,
   "outputs": [],
   "source": [
    "consent_df['username'] = consent_df['User full name']"
   ],
   "metadata": {
    "collapsed": false,
    "pycharm": {
     "name": "#%%\n"
    }
   }
  },
  {
   "cell_type": "code",
   "execution_count": 7,
   "outputs": [],
   "source": [
    "consent_df.drop('Email address', axis=1,inplace=True)\n",
    "consent_df.drop('Respondent', axis=1,inplace=True)\n",
    "consent_df.drop('Remarks', axis=1,inplace=True)\n",
    "consent_df.drop('User full name', axis=1,inplace=True)"
   ],
   "metadata": {
    "collapsed": false,
    "pycharm": {
     "name": "#%%\n"
    }
   }
  },
  {
   "cell_type": "code",
   "execution_count": 8,
   "outputs": [],
   "source": [
    "consent_df['username'] = consent_df['username'].str.replace('Participant ID ','')"
   ],
   "metadata": {
    "collapsed": false,
    "pycharm": {
     "name": "#%%\n"
    }
   }
  },
  {
   "cell_type": "code",
   "execution_count": 9,
   "outputs": [
    {
     "data": {
      "text/plain": "      Response                     Date                        username\n0      Pending                      NaN                      Admin User\n1     Accepted  2020-02-29 11:12:57 CST                   Akiff Maredia\n2      Pending                      NaN    anonfirstname1 anonlastname1\n3      Pending                      NaN  anonfirstname32 anonlastname32\n4     Accepted  2021-05-25 15:22:19 CST                       Apple Dev\n...        ...                      ...                             ...\n3021  Accepted  2020-04-01 13:53:13 CST                  Test Developer\n3022   Pending                      NaN                       Test Test\n3023  Accepted  2021-03-02 09:26:41 CST                       Test user\n3024  Accepted  2021-03-02 10:04:00 CST                      Test User2\n3025  Accepted  2021-08-06 14:14:47 CST                     Web Service\n\n[3026 rows x 3 columns]",
      "text/html": "<div>\n<style scoped>\n    .dataframe tbody tr th:only-of-type {\n        vertical-align: middle;\n    }\n\n    .dataframe tbody tr th {\n        vertical-align: top;\n    }\n\n    .dataframe thead th {\n        text-align: right;\n    }\n</style>\n<table border=\"1\" class=\"dataframe\">\n  <thead>\n    <tr style=\"text-align: right;\">\n      <th></th>\n      <th>Response</th>\n      <th>Date</th>\n      <th>username</th>\n    </tr>\n  </thead>\n  <tbody>\n    <tr>\n      <th>0</th>\n      <td>Pending</td>\n      <td>NaN</td>\n      <td>Admin User</td>\n    </tr>\n    <tr>\n      <th>1</th>\n      <td>Accepted</td>\n      <td>2020-02-29 11:12:57 CST</td>\n      <td>Akiff Maredia</td>\n    </tr>\n    <tr>\n      <th>2</th>\n      <td>Pending</td>\n      <td>NaN</td>\n      <td>anonfirstname1 anonlastname1</td>\n    </tr>\n    <tr>\n      <th>3</th>\n      <td>Pending</td>\n      <td>NaN</td>\n      <td>anonfirstname32 anonlastname32</td>\n    </tr>\n    <tr>\n      <th>4</th>\n      <td>Accepted</td>\n      <td>2021-05-25 15:22:19 CST</td>\n      <td>Apple Dev</td>\n    </tr>\n    <tr>\n      <th>...</th>\n      <td>...</td>\n      <td>...</td>\n      <td>...</td>\n    </tr>\n    <tr>\n      <th>3021</th>\n      <td>Accepted</td>\n      <td>2020-04-01 13:53:13 CST</td>\n      <td>Test Developer</td>\n    </tr>\n    <tr>\n      <th>3022</th>\n      <td>Pending</td>\n      <td>NaN</td>\n      <td>Test Test</td>\n    </tr>\n    <tr>\n      <th>3023</th>\n      <td>Accepted</td>\n      <td>2021-03-02 09:26:41 CST</td>\n      <td>Test user</td>\n    </tr>\n    <tr>\n      <th>3024</th>\n      <td>Accepted</td>\n      <td>2021-03-02 10:04:00 CST</td>\n      <td>Test User2</td>\n    </tr>\n    <tr>\n      <th>3025</th>\n      <td>Accepted</td>\n      <td>2021-08-06 14:14:47 CST</td>\n      <td>Web Service</td>\n    </tr>\n  </tbody>\n</table>\n<p>3026 rows × 3 columns</p>\n</div>"
     },
     "execution_count": 9,
     "metadata": {},
     "output_type": "execute_result"
    }
   ],
   "source": [
    "consent_df"
   ],
   "metadata": {
    "collapsed": false,
    "pycharm": {
     "name": "#%%\n"
    }
   }
  },
  {
   "cell_type": "code",
   "execution_count": 10,
   "outputs": [
    {
     "name": "stdout",
     "output_type": "stream",
     "text": [
      "You chose T:/CCJS/RCMP/Participant and Inventory/Team 2 - Troop Folders/Troop 33 2022-23/Troop 33 2022-23.xlsx\n"
     ]
    }
   ],
   "source": [
    "currdir = os.getcwd()\n",
    "troop_file_path = tkinter.filedialog.askopenfilename(parent=root, initialdir=currdir, title='Please select a the Excel for current onboarding')\n",
    "if len(troop_file_path) > 0:\n",
    "    print(\"You chose %s\" % troop_file_path)"
   ],
   "metadata": {
    "collapsed": false,
    "pycharm": {
     "name": "#%%\n"
    }
   }
  },
  {
   "cell_type": "code",
   "execution_count": 11,
   "outputs": [],
   "source": [
    "troop_df = pd.read_excel(troop_file_path)\n",
    "troop_column = troop_df['Troop Number']"
   ],
   "metadata": {
    "collapsed": false,
    "pycharm": {
     "name": "#%%\n"
    }
   }
  },
  {
   "cell_type": "code",
   "execution_count": 12,
   "outputs": [
    {
     "data": {
      "text/plain": "    bag #    Participant ID    Troop Number\n0       1  w6dfed829cgjmvn7  Troop 33 22/23\n1       2  1f4fimo8703eod9i  Troop 33 22/23\n2       3  7uxir0o8y6t5jegh  Troop 33 22/23\n3       4  0n8713eqhj8wnc4u  Troop 33 22/23\n4       5  ko970fmccoxlw0r6  Troop 33 22/23\n5       6  x8qh0eo7zpsx21kr  Troop 33 22/23\n6       7  ayi2u3pq7u2ycord  Troop 33 22/23\n7       8  4ft4d5cywmwdbtyl  Troop 33 22/23\n8       9  qt32t8x3dyy7khkr  Troop 33 22/23\n9      10  1v1co8nsbvybqi33  Troop 33 22/23\n10     11  5hbpvfkyn2cy37aa  Troop 33 22/23\n11     12  cdr7014ofxui437i  Troop 33 22/23\n12     13  ytj8qo2wnnfpiwr8  Troop 33 22/23\n13     14  l62xtuz9wrmzrvcg  Troop 33 22/23\n14     15  bu190oam0fgo9mzp  Troop 33 22/23\n15     16  r2xfpt65i6uwflgc  Troop 33 22/23\n16     17  ipxfpiydwy7u6108  Troop 33 22/23\n17     18  4x335n1avkutv8q3  Troop 33 22/23\n18     19  krv9jp1sln4pm6ds  Troop 33 22/23\n19     20  4htlx3yszpp2f957  Troop 33 22/23\n20     21  bpp1nhh5v3t20bfk  Troop 33 22/23\n21     22  hgvr9d6wnl3ixd75  Troop 33 22/23\n22     23  hvi7peig0fjcgljy  Troop 33 22/23\n23     24  lz518ikc6pwr71b9  Troop 33 22/23\n24     25  8jhlbsnepywug5vz  Troop 33 22/23\n25     26  hhr24yrd4hgpevj4  Troop 33 22/23\n26     27  9iqi1ekd1rqoaxtc  Troop 33 22/23\n27     28  uewm8qv9igd7bm3p  Troop 33 22/23\n28     29  hzf1xbi1u9bar3xs  Troop 33 22/23\n29     30  kqezasw54mtpyo5d  Troop 33 22/23\n30     31  hoicwm462dzv11v0  Troop 33 22/23\n31     32  xro0pvxfdha2axzb  Troop 33 22/23",
      "text/html": "<div>\n<style scoped>\n    .dataframe tbody tr th:only-of-type {\n        vertical-align: middle;\n    }\n\n    .dataframe tbody tr th {\n        vertical-align: top;\n    }\n\n    .dataframe thead th {\n        text-align: right;\n    }\n</style>\n<table border=\"1\" class=\"dataframe\">\n  <thead>\n    <tr style=\"text-align: right;\">\n      <th></th>\n      <th>bag #</th>\n      <th>Participant ID</th>\n      <th>Troop Number</th>\n    </tr>\n  </thead>\n  <tbody>\n    <tr>\n      <th>0</th>\n      <td>1</td>\n      <td>w6dfed829cgjmvn7</td>\n      <td>Troop 33 22/23</td>\n    </tr>\n    <tr>\n      <th>1</th>\n      <td>2</td>\n      <td>1f4fimo8703eod9i</td>\n      <td>Troop 33 22/23</td>\n    </tr>\n    <tr>\n      <th>2</th>\n      <td>3</td>\n      <td>7uxir0o8y6t5jegh</td>\n      <td>Troop 33 22/23</td>\n    </tr>\n    <tr>\n      <th>3</th>\n      <td>4</td>\n      <td>0n8713eqhj8wnc4u</td>\n      <td>Troop 33 22/23</td>\n    </tr>\n    <tr>\n      <th>4</th>\n      <td>5</td>\n      <td>ko970fmccoxlw0r6</td>\n      <td>Troop 33 22/23</td>\n    </tr>\n    <tr>\n      <th>5</th>\n      <td>6</td>\n      <td>x8qh0eo7zpsx21kr</td>\n      <td>Troop 33 22/23</td>\n    </tr>\n    <tr>\n      <th>6</th>\n      <td>7</td>\n      <td>ayi2u3pq7u2ycord</td>\n      <td>Troop 33 22/23</td>\n    </tr>\n    <tr>\n      <th>7</th>\n      <td>8</td>\n      <td>4ft4d5cywmwdbtyl</td>\n      <td>Troop 33 22/23</td>\n    </tr>\n    <tr>\n      <th>8</th>\n      <td>9</td>\n      <td>qt32t8x3dyy7khkr</td>\n      <td>Troop 33 22/23</td>\n    </tr>\n    <tr>\n      <th>9</th>\n      <td>10</td>\n      <td>1v1co8nsbvybqi33</td>\n      <td>Troop 33 22/23</td>\n    </tr>\n    <tr>\n      <th>10</th>\n      <td>11</td>\n      <td>5hbpvfkyn2cy37aa</td>\n      <td>Troop 33 22/23</td>\n    </tr>\n    <tr>\n      <th>11</th>\n      <td>12</td>\n      <td>cdr7014ofxui437i</td>\n      <td>Troop 33 22/23</td>\n    </tr>\n    <tr>\n      <th>12</th>\n      <td>13</td>\n      <td>ytj8qo2wnnfpiwr8</td>\n      <td>Troop 33 22/23</td>\n    </tr>\n    <tr>\n      <th>13</th>\n      <td>14</td>\n      <td>l62xtuz9wrmzrvcg</td>\n      <td>Troop 33 22/23</td>\n    </tr>\n    <tr>\n      <th>14</th>\n      <td>15</td>\n      <td>bu190oam0fgo9mzp</td>\n      <td>Troop 33 22/23</td>\n    </tr>\n    <tr>\n      <th>15</th>\n      <td>16</td>\n      <td>r2xfpt65i6uwflgc</td>\n      <td>Troop 33 22/23</td>\n    </tr>\n    <tr>\n      <th>16</th>\n      <td>17</td>\n      <td>ipxfpiydwy7u6108</td>\n      <td>Troop 33 22/23</td>\n    </tr>\n    <tr>\n      <th>17</th>\n      <td>18</td>\n      <td>4x335n1avkutv8q3</td>\n      <td>Troop 33 22/23</td>\n    </tr>\n    <tr>\n      <th>18</th>\n      <td>19</td>\n      <td>krv9jp1sln4pm6ds</td>\n      <td>Troop 33 22/23</td>\n    </tr>\n    <tr>\n      <th>19</th>\n      <td>20</td>\n      <td>4htlx3yszpp2f957</td>\n      <td>Troop 33 22/23</td>\n    </tr>\n    <tr>\n      <th>20</th>\n      <td>21</td>\n      <td>bpp1nhh5v3t20bfk</td>\n      <td>Troop 33 22/23</td>\n    </tr>\n    <tr>\n      <th>21</th>\n      <td>22</td>\n      <td>hgvr9d6wnl3ixd75</td>\n      <td>Troop 33 22/23</td>\n    </tr>\n    <tr>\n      <th>22</th>\n      <td>23</td>\n      <td>hvi7peig0fjcgljy</td>\n      <td>Troop 33 22/23</td>\n    </tr>\n    <tr>\n      <th>23</th>\n      <td>24</td>\n      <td>lz518ikc6pwr71b9</td>\n      <td>Troop 33 22/23</td>\n    </tr>\n    <tr>\n      <th>24</th>\n      <td>25</td>\n      <td>8jhlbsnepywug5vz</td>\n      <td>Troop 33 22/23</td>\n    </tr>\n    <tr>\n      <th>25</th>\n      <td>26</td>\n      <td>hhr24yrd4hgpevj4</td>\n      <td>Troop 33 22/23</td>\n    </tr>\n    <tr>\n      <th>26</th>\n      <td>27</td>\n      <td>9iqi1ekd1rqoaxtc</td>\n      <td>Troop 33 22/23</td>\n    </tr>\n    <tr>\n      <th>27</th>\n      <td>28</td>\n      <td>uewm8qv9igd7bm3p</td>\n      <td>Troop 33 22/23</td>\n    </tr>\n    <tr>\n      <th>28</th>\n      <td>29</td>\n      <td>hzf1xbi1u9bar3xs</td>\n      <td>Troop 33 22/23</td>\n    </tr>\n    <tr>\n      <th>29</th>\n      <td>30</td>\n      <td>kqezasw54mtpyo5d</td>\n      <td>Troop 33 22/23</td>\n    </tr>\n    <tr>\n      <th>30</th>\n      <td>31</td>\n      <td>hoicwm462dzv11v0</td>\n      <td>Troop 33 22/23</td>\n    </tr>\n    <tr>\n      <th>31</th>\n      <td>32</td>\n      <td>xro0pvxfdha2axzb</td>\n      <td>Troop 33 22/23</td>\n    </tr>\n  </tbody>\n</table>\n</div>"
     },
     "execution_count": 12,
     "metadata": {},
     "output_type": "execute_result"
    }
   ],
   "source": [
    "troop_df"
   ],
   "metadata": {
    "collapsed": false,
    "pycharm": {
     "name": "#%%\n"
    }
   }
  },
  {
   "cell_type": "markdown",
   "source": [
    "#### Taking the usernames only from the Troop file"
   ],
   "metadata": {
    "collapsed": false
   }
  },
  {
   "cell_type": "code",
   "execution_count": 13,
   "outputs": [],
   "source": [
    "troop_df['username'] = troop_df['Participant ID'].str.lower()\n",
    "troop_df.drop('Participant ID', axis=1,inplace=True)\n",
    "troop_df.drop('Troop Number', axis=1,inplace=True)\n",
    "troop_df.drop('bag #', axis=1,inplace=True)"
   ],
   "metadata": {
    "collapsed": false,
    "pycharm": {
     "name": "#%%\n"
    }
   }
  },
  {
   "cell_type": "code",
   "execution_count": 14,
   "outputs": [
    {
     "data": {
      "text/plain": "            username\n0   w6dfed829cgjmvn7\n1   1f4fimo8703eod9i\n2   7uxir0o8y6t5jegh\n3   0n8713eqhj8wnc4u\n4   ko970fmccoxlw0r6\n5   x8qh0eo7zpsx21kr\n6   ayi2u3pq7u2ycord\n7   4ft4d5cywmwdbtyl\n8   qt32t8x3dyy7khkr\n9   1v1co8nsbvybqi33\n10  5hbpvfkyn2cy37aa\n11  cdr7014ofxui437i\n12  ytj8qo2wnnfpiwr8\n13  l62xtuz9wrmzrvcg\n14  bu190oam0fgo9mzp\n15  r2xfpt65i6uwflgc\n16  ipxfpiydwy7u6108\n17  4x335n1avkutv8q3\n18  krv9jp1sln4pm6ds\n19  4htlx3yszpp2f957\n20  bpp1nhh5v3t20bfk\n21  hgvr9d6wnl3ixd75\n22  hvi7peig0fjcgljy\n23  lz518ikc6pwr71b9\n24  8jhlbsnepywug5vz\n25  hhr24yrd4hgpevj4\n26  9iqi1ekd1rqoaxtc\n27  uewm8qv9igd7bm3p\n28  hzf1xbi1u9bar3xs\n29  kqezasw54mtpyo5d\n30  hoicwm462dzv11v0\n31  xro0pvxfdha2axzb",
      "text/html": "<div>\n<style scoped>\n    .dataframe tbody tr th:only-of-type {\n        vertical-align: middle;\n    }\n\n    .dataframe tbody tr th {\n        vertical-align: top;\n    }\n\n    .dataframe thead th {\n        text-align: right;\n    }\n</style>\n<table border=\"1\" class=\"dataframe\">\n  <thead>\n    <tr style=\"text-align: right;\">\n      <th></th>\n      <th>username</th>\n    </tr>\n  </thead>\n  <tbody>\n    <tr>\n      <th>0</th>\n      <td>w6dfed829cgjmvn7</td>\n    </tr>\n    <tr>\n      <th>1</th>\n      <td>1f4fimo8703eod9i</td>\n    </tr>\n    <tr>\n      <th>2</th>\n      <td>7uxir0o8y6t5jegh</td>\n    </tr>\n    <tr>\n      <th>3</th>\n      <td>0n8713eqhj8wnc4u</td>\n    </tr>\n    <tr>\n      <th>4</th>\n      <td>ko970fmccoxlw0r6</td>\n    </tr>\n    <tr>\n      <th>5</th>\n      <td>x8qh0eo7zpsx21kr</td>\n    </tr>\n    <tr>\n      <th>6</th>\n      <td>ayi2u3pq7u2ycord</td>\n    </tr>\n    <tr>\n      <th>7</th>\n      <td>4ft4d5cywmwdbtyl</td>\n    </tr>\n    <tr>\n      <th>8</th>\n      <td>qt32t8x3dyy7khkr</td>\n    </tr>\n    <tr>\n      <th>9</th>\n      <td>1v1co8nsbvybqi33</td>\n    </tr>\n    <tr>\n      <th>10</th>\n      <td>5hbpvfkyn2cy37aa</td>\n    </tr>\n    <tr>\n      <th>11</th>\n      <td>cdr7014ofxui437i</td>\n    </tr>\n    <tr>\n      <th>12</th>\n      <td>ytj8qo2wnnfpiwr8</td>\n    </tr>\n    <tr>\n      <th>13</th>\n      <td>l62xtuz9wrmzrvcg</td>\n    </tr>\n    <tr>\n      <th>14</th>\n      <td>bu190oam0fgo9mzp</td>\n    </tr>\n    <tr>\n      <th>15</th>\n      <td>r2xfpt65i6uwflgc</td>\n    </tr>\n    <tr>\n      <th>16</th>\n      <td>ipxfpiydwy7u6108</td>\n    </tr>\n    <tr>\n      <th>17</th>\n      <td>4x335n1avkutv8q3</td>\n    </tr>\n    <tr>\n      <th>18</th>\n      <td>krv9jp1sln4pm6ds</td>\n    </tr>\n    <tr>\n      <th>19</th>\n      <td>4htlx3yszpp2f957</td>\n    </tr>\n    <tr>\n      <th>20</th>\n      <td>bpp1nhh5v3t20bfk</td>\n    </tr>\n    <tr>\n      <th>21</th>\n      <td>hgvr9d6wnl3ixd75</td>\n    </tr>\n    <tr>\n      <th>22</th>\n      <td>hvi7peig0fjcgljy</td>\n    </tr>\n    <tr>\n      <th>23</th>\n      <td>lz518ikc6pwr71b9</td>\n    </tr>\n    <tr>\n      <th>24</th>\n      <td>8jhlbsnepywug5vz</td>\n    </tr>\n    <tr>\n      <th>25</th>\n      <td>hhr24yrd4hgpevj4</td>\n    </tr>\n    <tr>\n      <th>26</th>\n      <td>9iqi1ekd1rqoaxtc</td>\n    </tr>\n    <tr>\n      <th>27</th>\n      <td>uewm8qv9igd7bm3p</td>\n    </tr>\n    <tr>\n      <th>28</th>\n      <td>hzf1xbi1u9bar3xs</td>\n    </tr>\n    <tr>\n      <th>29</th>\n      <td>kqezasw54mtpyo5d</td>\n    </tr>\n    <tr>\n      <th>30</th>\n      <td>hoicwm462dzv11v0</td>\n    </tr>\n    <tr>\n      <th>31</th>\n      <td>xro0pvxfdha2axzb</td>\n    </tr>\n  </tbody>\n</table>\n</div>"
     },
     "execution_count": 14,
     "metadata": {},
     "output_type": "execute_result"
    }
   ],
   "source": [
    "troop_df"
   ],
   "metadata": {
    "collapsed": false,
    "pycharm": {
     "name": "#%%\n"
    }
   }
  },
  {
   "cell_type": "code",
   "execution_count": 15,
   "outputs": [],
   "source": [
    "merged_df = pd.merge(consent_df,troop_df, 'inner', 'username')"
   ],
   "metadata": {
    "collapsed": false,
    "pycharm": {
     "name": "#%%\n"
    }
   }
  },
  {
   "cell_type": "code",
   "execution_count": 16,
   "outputs": [
    {
     "data": {
      "text/plain": "    Response                     Date          username\n0    Pending                      NaN  w6dfed829cgjmvn7\n1   Accepted  2023-01-12 15:32:28 CST  1f4fimo8703eod9i\n2    Pending                      NaN  7uxir0o8y6t5jegh\n3    Pending                      NaN  0n8713eqhj8wnc4u\n4   Accepted  2023-01-12 15:32:02 CST  ko970fmccoxlw0r6\n5   Accepted  2023-01-12 15:31:32 CST  x8qh0eo7zpsx21kr\n6   Accepted  2023-01-12 15:32:03 CST  ayi2u3pq7u2ycord\n7    Pending                      NaN  4ft4d5cywmwdbtyl\n8   Accepted  2023-01-12 15:32:01 CST  qt32t8x3dyy7khkr\n9    Pending                      NaN  1v1co8nsbvybqi33\n10   Pending                      NaN  5hbpvfkyn2cy37aa\n11  Accepted  2023-01-12 15:32:00 CST  cdr7014ofxui437i\n12  Accepted  2023-01-12 15:32:02 CST  ytj8qo2wnnfpiwr8\n13  Accepted  2023-01-12 15:30:10 CST  l62xtuz9wrmzrvcg\n14  Accepted  2023-01-12 15:29:58 CST  bu190oam0fgo9mzp\n15   Pending                      NaN  r2xfpt65i6uwflgc\n16  Accepted  2023-01-12 15:32:02 CST  ipxfpiydwy7u6108\n17  Accepted  2023-01-12 15:32:11 CST  4x335n1avkutv8q3\n18  Accepted  2023-01-12 15:32:02 CST  krv9jp1sln4pm6ds\n19   Pending                      NaN  4htlx3yszpp2f957\n20  Accepted  2023-01-12 15:32:02 CST  bpp1nhh5v3t20bfk\n21  Accepted  2023-01-12 15:32:02 CST  hgvr9d6wnl3ixd75\n22  Accepted  2023-01-12 15:38:25 CST  hvi7peig0fjcgljy\n23   Pending                      NaN  lz518ikc6pwr71b9\n24   Pending                      NaN  8jhlbsnepywug5vz\n25   Pending                      NaN  hhr24yrd4hgpevj4\n26   Pending                      NaN  9iqi1ekd1rqoaxtc\n27   Pending                      NaN  uewm8qv9igd7bm3p\n28   Pending                      NaN  hzf1xbi1u9bar3xs\n29   Pending                      NaN  kqezasw54mtpyo5d\n30   Pending                      NaN  hoicwm462dzv11v0\n31   Pending                      NaN  xro0pvxfdha2axzb",
      "text/html": "<div>\n<style scoped>\n    .dataframe tbody tr th:only-of-type {\n        vertical-align: middle;\n    }\n\n    .dataframe tbody tr th {\n        vertical-align: top;\n    }\n\n    .dataframe thead th {\n        text-align: right;\n    }\n</style>\n<table border=\"1\" class=\"dataframe\">\n  <thead>\n    <tr style=\"text-align: right;\">\n      <th></th>\n      <th>Response</th>\n      <th>Date</th>\n      <th>username</th>\n    </tr>\n  </thead>\n  <tbody>\n    <tr>\n      <th>0</th>\n      <td>Pending</td>\n      <td>NaN</td>\n      <td>w6dfed829cgjmvn7</td>\n    </tr>\n    <tr>\n      <th>1</th>\n      <td>Accepted</td>\n      <td>2023-01-12 15:32:28 CST</td>\n      <td>1f4fimo8703eod9i</td>\n    </tr>\n    <tr>\n      <th>2</th>\n      <td>Pending</td>\n      <td>NaN</td>\n      <td>7uxir0o8y6t5jegh</td>\n    </tr>\n    <tr>\n      <th>3</th>\n      <td>Pending</td>\n      <td>NaN</td>\n      <td>0n8713eqhj8wnc4u</td>\n    </tr>\n    <tr>\n      <th>4</th>\n      <td>Accepted</td>\n      <td>2023-01-12 15:32:02 CST</td>\n      <td>ko970fmccoxlw0r6</td>\n    </tr>\n    <tr>\n      <th>5</th>\n      <td>Accepted</td>\n      <td>2023-01-12 15:31:32 CST</td>\n      <td>x8qh0eo7zpsx21kr</td>\n    </tr>\n    <tr>\n      <th>6</th>\n      <td>Accepted</td>\n      <td>2023-01-12 15:32:03 CST</td>\n      <td>ayi2u3pq7u2ycord</td>\n    </tr>\n    <tr>\n      <th>7</th>\n      <td>Pending</td>\n      <td>NaN</td>\n      <td>4ft4d5cywmwdbtyl</td>\n    </tr>\n    <tr>\n      <th>8</th>\n      <td>Accepted</td>\n      <td>2023-01-12 15:32:01 CST</td>\n      <td>qt32t8x3dyy7khkr</td>\n    </tr>\n    <tr>\n      <th>9</th>\n      <td>Pending</td>\n      <td>NaN</td>\n      <td>1v1co8nsbvybqi33</td>\n    </tr>\n    <tr>\n      <th>10</th>\n      <td>Pending</td>\n      <td>NaN</td>\n      <td>5hbpvfkyn2cy37aa</td>\n    </tr>\n    <tr>\n      <th>11</th>\n      <td>Accepted</td>\n      <td>2023-01-12 15:32:00 CST</td>\n      <td>cdr7014ofxui437i</td>\n    </tr>\n    <tr>\n      <th>12</th>\n      <td>Accepted</td>\n      <td>2023-01-12 15:32:02 CST</td>\n      <td>ytj8qo2wnnfpiwr8</td>\n    </tr>\n    <tr>\n      <th>13</th>\n      <td>Accepted</td>\n      <td>2023-01-12 15:30:10 CST</td>\n      <td>l62xtuz9wrmzrvcg</td>\n    </tr>\n    <tr>\n      <th>14</th>\n      <td>Accepted</td>\n      <td>2023-01-12 15:29:58 CST</td>\n      <td>bu190oam0fgo9mzp</td>\n    </tr>\n    <tr>\n      <th>15</th>\n      <td>Pending</td>\n      <td>NaN</td>\n      <td>r2xfpt65i6uwflgc</td>\n    </tr>\n    <tr>\n      <th>16</th>\n      <td>Accepted</td>\n      <td>2023-01-12 15:32:02 CST</td>\n      <td>ipxfpiydwy7u6108</td>\n    </tr>\n    <tr>\n      <th>17</th>\n      <td>Accepted</td>\n      <td>2023-01-12 15:32:11 CST</td>\n      <td>4x335n1avkutv8q3</td>\n    </tr>\n    <tr>\n      <th>18</th>\n      <td>Accepted</td>\n      <td>2023-01-12 15:32:02 CST</td>\n      <td>krv9jp1sln4pm6ds</td>\n    </tr>\n    <tr>\n      <th>19</th>\n      <td>Pending</td>\n      <td>NaN</td>\n      <td>4htlx3yszpp2f957</td>\n    </tr>\n    <tr>\n      <th>20</th>\n      <td>Accepted</td>\n      <td>2023-01-12 15:32:02 CST</td>\n      <td>bpp1nhh5v3t20bfk</td>\n    </tr>\n    <tr>\n      <th>21</th>\n      <td>Accepted</td>\n      <td>2023-01-12 15:32:02 CST</td>\n      <td>hgvr9d6wnl3ixd75</td>\n    </tr>\n    <tr>\n      <th>22</th>\n      <td>Accepted</td>\n      <td>2023-01-12 15:38:25 CST</td>\n      <td>hvi7peig0fjcgljy</td>\n    </tr>\n    <tr>\n      <th>23</th>\n      <td>Pending</td>\n      <td>NaN</td>\n      <td>lz518ikc6pwr71b9</td>\n    </tr>\n    <tr>\n      <th>24</th>\n      <td>Pending</td>\n      <td>NaN</td>\n      <td>8jhlbsnepywug5vz</td>\n    </tr>\n    <tr>\n      <th>25</th>\n      <td>Pending</td>\n      <td>NaN</td>\n      <td>hhr24yrd4hgpevj4</td>\n    </tr>\n    <tr>\n      <th>26</th>\n      <td>Pending</td>\n      <td>NaN</td>\n      <td>9iqi1ekd1rqoaxtc</td>\n    </tr>\n    <tr>\n      <th>27</th>\n      <td>Pending</td>\n      <td>NaN</td>\n      <td>uewm8qv9igd7bm3p</td>\n    </tr>\n    <tr>\n      <th>28</th>\n      <td>Pending</td>\n      <td>NaN</td>\n      <td>hzf1xbi1u9bar3xs</td>\n    </tr>\n    <tr>\n      <th>29</th>\n      <td>Pending</td>\n      <td>NaN</td>\n      <td>kqezasw54mtpyo5d</td>\n    </tr>\n    <tr>\n      <th>30</th>\n      <td>Pending</td>\n      <td>NaN</td>\n      <td>hoicwm462dzv11v0</td>\n    </tr>\n    <tr>\n      <th>31</th>\n      <td>Pending</td>\n      <td>NaN</td>\n      <td>xro0pvxfdha2axzb</td>\n    </tr>\n  </tbody>\n</table>\n</div>"
     },
     "execution_count": 16,
     "metadata": {},
     "output_type": "execute_result"
    }
   ],
   "source": [
    "merged_df"
   ],
   "metadata": {
    "collapsed": false,
    "pycharm": {
     "name": "#%%\n"
    }
   }
  },
  {
   "cell_type": "code",
   "execution_count": 17,
   "outputs": [],
   "source": [
    "merged_df.to_excel(f\"{path}/Consent stats {troop_name}.xlsx\",index=False)"
   ],
   "metadata": {
    "collapsed": false,
    "pycharm": {
     "name": "#%%\n"
    }
   }
  },
  {
   "cell_type": "markdown",
   "source": [
    "### Biometric report"
   ],
   "metadata": {
    "collapsed": false
   }
  },
  {
   "cell_type": "code",
   "execution_count": 18,
   "outputs": [
    {
     "name": "stdout",
     "output_type": "stream",
     "text": [
      "You chose C:/Users/sam070/Downloads/Users (19).csv\n"
     ]
    }
   ],
   "source": [
    "currdir = os.getcwd()\n",
    "user_file_path = tkinter.filedialog.askopenfilename(parent=root, initialdir=currdir, title='Please choose the users CSV file from moodle with current onboarding troop ')\n",
    "if len(user_file_path) > 0:\n",
    "    print(\"You chose %s\" % user_file_path)"
   ],
   "metadata": {
    "collapsed": false,
    "pycharm": {
     "name": "#%%\n"
    }
   }
  },
  {
   "cell_type": "code",
   "execution_count": 19,
   "outputs": [],
   "source": [
    "user_data_df = pd.read_csv(user_file_path)"
   ],
   "metadata": {
    "collapsed": false,
    "pycharm": {
     "name": "#%%\n"
    }
   }
  },
  {
   "cell_type": "code",
   "execution_count": 20,
   "outputs": [],
   "source": [
    "user_data_df['profile_field_Sex'] = user_data_df['profile_field_Sex'].str.replace('<span lang=\"en\" class=\"multilang\">Male</span><span lang=\"fr\" class=\"multilang\"> Masculin</span>','Male')\n",
    "user_data_df['profile_field_Sex'] = user_data_df['profile_field_Sex'].str.replace('<span lang=\"en\" class=\"multilang\">Female</span><span lang=\"fr\" class=\"multilang\"> Féminin</span>','Female')"
   ],
   "metadata": {
    "collapsed": false,
    "pycharm": {
     "name": "#%%\n"
    }
   }
  },
  {
   "cell_type": "code",
   "execution_count": 21,
   "outputs": [],
   "source": [
    "user_data_df['profile_field_language_pref'] = user_data_df['profile_field_language_pref'].str.replace('<span lang=\"en\" class=\"multilang\">English</span><span lang=\"fr\" class=\"multilang\"> Anglais</span>','English')\n",
    "user_data_df['profile_field_language_pref'] = user_data_df['profile_field_language_pref'].str.replace('<span lang=\"en\" class=\"multilang\">French</span><span lang=\"fr\" class=\"multilang\"> Français</span>','French')"
   ],
   "metadata": {
    "collapsed": false,
    "pycharm": {
     "name": "#%%\n"
    }
   }
  },
  {
   "cell_type": "code",
   "execution_count": 22,
   "outputs": [],
   "source": [
    "user_data_df.drop(['id', 'idnumber', 'institution','phone1','phone2','city','url','icq','skype','aim','yahoo','msn','country','profile_field_Deployment','profile_field_iPhone','profile_field_Apple_Watch','profile_field_scgdeviceserialnumber','profile_field_SQ_1','profile_field_PR_1','profile_field_troopnumber','profile_field_consent','profile_field_removedfromstudy','profile_field_numdailysurveys','profile_field_nummonthlysurveys','profile_field_signedcommconsent','profile_field_phonelocked','profile_field_comments','profile_field_name','profile_field_newtroop','profile_field_oldtroop','profile_field_byod','profile_field_backtrooped','profile_field_dateoflastmonthly','profile_field_time1initialsurvey','profile_field_time2predsurvey','profile_field_annualsurvey3','profile_field_annualsurvey4','profile_field_annualsurvey5','profile_field_annualsurvey6','profile_field_annualsurvey7','profile_field_time1initialinterview','profile_field_time2predinterview','profile_field_time3annualinterview','profile_field_dateoflastdaily','profile_field_llarecordingnumber','profile_field_llarecordingdate','profile_field_lastwatchuploaddate','profile_field_kitReturnPhone',\n",
    "                   'profile_field_kitReturnWatch','profile_field_kitReturnBIO','profile_field_annualinterviewT4','profile_field_annualinterviewT5','profile_field_annualinterviewT6','profile_field_annualinterviewT7','profile_field_datefrstmsegd','profile_field_datelstmsged','profile_field_totalreminders','profile_field_phnelockednotes','profile_field_activitiesreqd','profile_field_compliance','profile_field_legend','profile_field_legdtsts'], inplace=True, axis=1)"
   ],
   "metadata": {
    "collapsed": false,
    "pycharm": {
     "name": "#%%\n"
    }
   }
  },
  {
   "cell_type": "code",
   "execution_count": 23,
   "outputs": [
    {
     "data": {
      "text/plain": "            username                        email       firstname  \\\n0   0n8713eqhj8wnc4u  0n8713eqhj8wnc4u@uregina.ca  Participant ID   \n1   1f4fimo8703eod9i  1f4fimo8703eod9i@uregina.ca  Participant ID   \n2   1v1co8nsbvybqi33  1v1co8nsbvybqi33@uregina.ca  Participant ID   \n3   4ft4d5cywmwdbtyl  4ft4d5cywmwdbtyl@uregina.ca  Participant ID   \n4   4htlx3yszpp2f957  4htlx3yszpp2f957@uregina.ca  Participant ID   \n5   4x335n1avkutv8q3  4x335n1avkutv8q3@uregina.ca  Participant ID   \n6   5hbpvfkyn2cy37aa  5hbpvfkyn2cy37aa@uregina.ca  Participant ID   \n7   7uxir0o8y6t5jegh  7uxir0o8y6t5jegh@uregina.ca  Participant ID   \n8   8jhlbsnepywug5vz  8jhlbsnepywug5vz@uregina.ca  Participant ID   \n9   9iqi1ekd1rqoaxtc  9iqi1ekd1rqoaxtc@uregina.ca  Participant ID   \n10  ayi2u3pq7u2ycord  ayi2u3pq7u2ycord@uregina.ca  Participant ID   \n11  bpp1nhh5v3t20bfk  bpp1nhh5v3t20bfk@uregina.ca  Participant ID   \n12  bu190oam0fgo9mzp  bu190oam0fgo9mzp@uregina.ca  Participant ID   \n13  cdr7014ofxui437i  cdr7014ofxui437i@uregina.ca  Participant ID   \n14  hgvr9d6wnl3ixd75  hgvr9d6wnl3ixd75@uregina.ca  Participant ID   \n15  hhr24yrd4hgpevj4  hhr24yrd4hgpevj4@uregina.ca  Participant ID   \n16  hoicwm462dzv11v0  hoicwm462dzv11v0@uregina.ca  Participant ID   \n17  hvi7peig0fjcgljy  hvi7peig0fjcgljy@uregina.ca  Participant ID   \n18  hzf1xbi1u9bar3xs  hzf1xbi1u9bar3xs@uregina.ca  Participant ID   \n19  ipxfpiydwy7u6108  ipxfpiydwy7u6108@uregina.ca  Participant ID   \n20  ko970fmccoxlw0r6  ko970fmccoxlw0r6@uregina.ca  Participant ID   \n21  kqezasw54mtpyo5d  kqezasw54mtpyo5d@uregina.ca  Participant ID   \n22  krv9jp1sln4pm6ds  krv9jp1sln4pm6ds@uregina.ca  Participant ID   \n23  l62xtuz9wrmzrvcg  l62xtuz9wrmzrvcg@uregina.ca  Participant ID   \n24  lz518ikc6pwr71b9  lz518ikc6pwr71b9@uregina.ca  Participant ID   \n25  qt32t8x3dyy7khkr  qt32t8x3dyy7khkr@uregina.ca  Participant ID   \n26  r2xfpt65i6uwflgc  r2xfpt65i6uwflgc@uregina.ca  Participant ID   \n27  uewm8qv9igd7bm3p  uewm8qv9igd7bm3p@uregina.ca  Participant ID   \n28  w6dfed829cgjmvn7  w6dfed829cgjmvn7@uregina.ca  Participant ID   \n29  x8qh0eo7zpsx21kr  x8qh0eo7zpsx21kr@uregina.ca  Participant ID   \n30  xro0pvxfdha2axzb  xro0pvxfdha2axzb@uregina.ca  Participant ID   \n31  ytj8qo2wnnfpiwr8  ytj8qo2wnnfpiwr8@uregina.ca  Participant ID   \n\n            lastname      department  profile_field_Weight profile_field_Sex  \\\n0   0n8713eqhj8wnc4u  Troop 33 22/23                   NaN               NaN   \n1   1f4fimo8703eod9i  Troop 33 22/23                 132.0            Female   \n2   1v1co8nsbvybqi33  Troop 33 22/23                   NaN               NaN   \n3   4ft4d5cywmwdbtyl  Troop 33 22/23                   NaN               NaN   \n4   4htlx3yszpp2f957  Troop 33 22/23                   NaN               NaN   \n5   4x335n1avkutv8q3  Troop 33 22/23                 170.0              Male   \n6   5hbpvfkyn2cy37aa  Troop 33 22/23                   NaN               NaN   \n7   7uxir0o8y6t5jegh  Troop 33 22/23                   NaN               NaN   \n8   8jhlbsnepywug5vz  Troop 33 22/23                   NaN               NaN   \n9   9iqi1ekd1rqoaxtc  Troop 33 22/23                   NaN               NaN   \n10  ayi2u3pq7u2ycord  Troop 33 22/23                 175.0              Male   \n11  bpp1nhh5v3t20bfk  Troop 33 22/23                 190.0            Female   \n12  bu190oam0fgo9mzp  Troop 33 22/23                 230.0            Female   \n13  cdr7014ofxui437i  Troop 33 22/23                 133.0            Female   \n14  hgvr9d6wnl3ixd75  Troop 33 22/23                 175.0            Female   \n15  hhr24yrd4hgpevj4  Troop 33 22/23                   NaN               NaN   \n16  hoicwm462dzv11v0  Troop 33 22/23                   NaN               NaN   \n17  hvi7peig0fjcgljy  Troop 33 22/23                 180.0            Female   \n18  hzf1xbi1u9bar3xs  Troop 33 22/23                   NaN               NaN   \n19  ipxfpiydwy7u6108  Troop 33 22/23                 210.0              Male   \n20  ko970fmccoxlw0r6  Troop 33 22/23                 190.0            Female   \n21  kqezasw54mtpyo5d  Troop 33 22/23                   NaN               NaN   \n22  krv9jp1sln4pm6ds  Troop 33 22/23                 152.0              Male   \n23  l62xtuz9wrmzrvcg  Troop 33 22/23                 199.0              Male   \n24  lz518ikc6pwr71b9  Troop 33 22/23                   NaN               NaN   \n25  qt32t8x3dyy7khkr  Troop 33 22/23                 170.0              Male   \n26  r2xfpt65i6uwflgc  Troop 33 22/23                   NaN               NaN   \n27  uewm8qv9igd7bm3p  Troop 33 22/23                   NaN               NaN   \n28  w6dfed829cgjmvn7  Troop 33 22/23                   NaN               NaN   \n29  x8qh0eo7zpsx21kr  Troop 33 22/23                 136.0            Female   \n30  xro0pvxfdha2axzb  Troop 33 22/23                   NaN               NaN   \n31  ytj8qo2wnnfpiwr8  Troop 33 22/23                 130.0            Female   \n\n   profile_field_language_pref profile_field_Year_of_Birth2  \\\n0                          NaN                          NaN   \n1                      English                         1987   \n2                          NaN                          NaN   \n3                          NaN                          NaN   \n4                          NaN                          NaN   \n5                      English                March 2, q982   \n6                          NaN                          NaN   \n7                          NaN                          NaN   \n8                          NaN                          NaN   \n9                          NaN                          NaN   \n10                     English                         1997   \n11                     English                         1984   \n12                     English                         1990   \n13                     English                  1988-09-28    \n14                     English                   1997-11-25   \n15                         NaN                          NaN   \n16                         NaN                          NaN   \n17                     English                         2002   \n18                         NaN                          NaN   \n19                     English                         1992   \n20                     English                         1994   \n21                         NaN                          NaN   \n22                      French                         1995   \n23                     English                         1994   \n24                         NaN                          NaN   \n25                     English                         2000   \n26                         NaN                          NaN   \n27                         NaN                          NaN   \n28                         NaN                          NaN   \n29                     English                         1993   \n30                         NaN                          NaN   \n31                     English                         1974   \n\n    profile_field_Feet  profile_field_Inches  \n0                  NaN                   NaN  \n1                  5.0                   8.0  \n2                  NaN                   NaN  \n3                  NaN                   NaN  \n4                  NaN                   NaN  \n5                  5.0                  10.0  \n6                  NaN                   NaN  \n7                  NaN                   NaN  \n8                  NaN                   NaN  \n9                  NaN                   NaN  \n10                 5.0                  11.0  \n11                 5.0                   4.0  \n12                 5.0                   9.0  \n13                 5.0                   5.0  \n14                 5.0                   2.0  \n15                 NaN                   NaN  \n16                 NaN                   NaN  \n17                 5.0                   7.0  \n18                 NaN                   NaN  \n19                 6.0                   3.0  \n20                 5.0                   5.0  \n21                 NaN                   NaN  \n22                 5.0                   4.0  \n23                 5.0                   9.0  \n24                 NaN                   NaN  \n25                 5.0                   9.0  \n26                 NaN                   NaN  \n27                 NaN                   NaN  \n28                 NaN                   NaN  \n29                 5.0                   5.0  \n30                 NaN                   NaN  \n31                 5.0                   6.0  ",
      "text/html": "<div>\n<style scoped>\n    .dataframe tbody tr th:only-of-type {\n        vertical-align: middle;\n    }\n\n    .dataframe tbody tr th {\n        vertical-align: top;\n    }\n\n    .dataframe thead th {\n        text-align: right;\n    }\n</style>\n<table border=\"1\" class=\"dataframe\">\n  <thead>\n    <tr style=\"text-align: right;\">\n      <th></th>\n      <th>username</th>\n      <th>email</th>\n      <th>firstname</th>\n      <th>lastname</th>\n      <th>department</th>\n      <th>profile_field_Weight</th>\n      <th>profile_field_Sex</th>\n      <th>profile_field_language_pref</th>\n      <th>profile_field_Year_of_Birth2</th>\n      <th>profile_field_Feet</th>\n      <th>profile_field_Inches</th>\n    </tr>\n  </thead>\n  <tbody>\n    <tr>\n      <th>0</th>\n      <td>0n8713eqhj8wnc4u</td>\n      <td>0n8713eqhj8wnc4u@uregina.ca</td>\n      <td>Participant ID</td>\n      <td>0n8713eqhj8wnc4u</td>\n      <td>Troop 33 22/23</td>\n      <td>NaN</td>\n      <td>NaN</td>\n      <td>NaN</td>\n      <td>NaN</td>\n      <td>NaN</td>\n      <td>NaN</td>\n    </tr>\n    <tr>\n      <th>1</th>\n      <td>1f4fimo8703eod9i</td>\n      <td>1f4fimo8703eod9i@uregina.ca</td>\n      <td>Participant ID</td>\n      <td>1f4fimo8703eod9i</td>\n      <td>Troop 33 22/23</td>\n      <td>132.0</td>\n      <td>Female</td>\n      <td>English</td>\n      <td>1987</td>\n      <td>5.0</td>\n      <td>8.0</td>\n    </tr>\n    <tr>\n      <th>2</th>\n      <td>1v1co8nsbvybqi33</td>\n      <td>1v1co8nsbvybqi33@uregina.ca</td>\n      <td>Participant ID</td>\n      <td>1v1co8nsbvybqi33</td>\n      <td>Troop 33 22/23</td>\n      <td>NaN</td>\n      <td>NaN</td>\n      <td>NaN</td>\n      <td>NaN</td>\n      <td>NaN</td>\n      <td>NaN</td>\n    </tr>\n    <tr>\n      <th>3</th>\n      <td>4ft4d5cywmwdbtyl</td>\n      <td>4ft4d5cywmwdbtyl@uregina.ca</td>\n      <td>Participant ID</td>\n      <td>4ft4d5cywmwdbtyl</td>\n      <td>Troop 33 22/23</td>\n      <td>NaN</td>\n      <td>NaN</td>\n      <td>NaN</td>\n      <td>NaN</td>\n      <td>NaN</td>\n      <td>NaN</td>\n    </tr>\n    <tr>\n      <th>4</th>\n      <td>4htlx3yszpp2f957</td>\n      <td>4htlx3yszpp2f957@uregina.ca</td>\n      <td>Participant ID</td>\n      <td>4htlx3yszpp2f957</td>\n      <td>Troop 33 22/23</td>\n      <td>NaN</td>\n      <td>NaN</td>\n      <td>NaN</td>\n      <td>NaN</td>\n      <td>NaN</td>\n      <td>NaN</td>\n    </tr>\n    <tr>\n      <th>5</th>\n      <td>4x335n1avkutv8q3</td>\n      <td>4x335n1avkutv8q3@uregina.ca</td>\n      <td>Participant ID</td>\n      <td>4x335n1avkutv8q3</td>\n      <td>Troop 33 22/23</td>\n      <td>170.0</td>\n      <td>Male</td>\n      <td>English</td>\n      <td>March 2, q982</td>\n      <td>5.0</td>\n      <td>10.0</td>\n    </tr>\n    <tr>\n      <th>6</th>\n      <td>5hbpvfkyn2cy37aa</td>\n      <td>5hbpvfkyn2cy37aa@uregina.ca</td>\n      <td>Participant ID</td>\n      <td>5hbpvfkyn2cy37aa</td>\n      <td>Troop 33 22/23</td>\n      <td>NaN</td>\n      <td>NaN</td>\n      <td>NaN</td>\n      <td>NaN</td>\n      <td>NaN</td>\n      <td>NaN</td>\n    </tr>\n    <tr>\n      <th>7</th>\n      <td>7uxir0o8y6t5jegh</td>\n      <td>7uxir0o8y6t5jegh@uregina.ca</td>\n      <td>Participant ID</td>\n      <td>7uxir0o8y6t5jegh</td>\n      <td>Troop 33 22/23</td>\n      <td>NaN</td>\n      <td>NaN</td>\n      <td>NaN</td>\n      <td>NaN</td>\n      <td>NaN</td>\n      <td>NaN</td>\n    </tr>\n    <tr>\n      <th>8</th>\n      <td>8jhlbsnepywug5vz</td>\n      <td>8jhlbsnepywug5vz@uregina.ca</td>\n      <td>Participant ID</td>\n      <td>8jhlbsnepywug5vz</td>\n      <td>Troop 33 22/23</td>\n      <td>NaN</td>\n      <td>NaN</td>\n      <td>NaN</td>\n      <td>NaN</td>\n      <td>NaN</td>\n      <td>NaN</td>\n    </tr>\n    <tr>\n      <th>9</th>\n      <td>9iqi1ekd1rqoaxtc</td>\n      <td>9iqi1ekd1rqoaxtc@uregina.ca</td>\n      <td>Participant ID</td>\n      <td>9iqi1ekd1rqoaxtc</td>\n      <td>Troop 33 22/23</td>\n      <td>NaN</td>\n      <td>NaN</td>\n      <td>NaN</td>\n      <td>NaN</td>\n      <td>NaN</td>\n      <td>NaN</td>\n    </tr>\n    <tr>\n      <th>10</th>\n      <td>ayi2u3pq7u2ycord</td>\n      <td>ayi2u3pq7u2ycord@uregina.ca</td>\n      <td>Participant ID</td>\n      <td>ayi2u3pq7u2ycord</td>\n      <td>Troop 33 22/23</td>\n      <td>175.0</td>\n      <td>Male</td>\n      <td>English</td>\n      <td>1997</td>\n      <td>5.0</td>\n      <td>11.0</td>\n    </tr>\n    <tr>\n      <th>11</th>\n      <td>bpp1nhh5v3t20bfk</td>\n      <td>bpp1nhh5v3t20bfk@uregina.ca</td>\n      <td>Participant ID</td>\n      <td>bpp1nhh5v3t20bfk</td>\n      <td>Troop 33 22/23</td>\n      <td>190.0</td>\n      <td>Female</td>\n      <td>English</td>\n      <td>1984</td>\n      <td>5.0</td>\n      <td>4.0</td>\n    </tr>\n    <tr>\n      <th>12</th>\n      <td>bu190oam0fgo9mzp</td>\n      <td>bu190oam0fgo9mzp@uregina.ca</td>\n      <td>Participant ID</td>\n      <td>bu190oam0fgo9mzp</td>\n      <td>Troop 33 22/23</td>\n      <td>230.0</td>\n      <td>Female</td>\n      <td>English</td>\n      <td>1990</td>\n      <td>5.0</td>\n      <td>9.0</td>\n    </tr>\n    <tr>\n      <th>13</th>\n      <td>cdr7014ofxui437i</td>\n      <td>cdr7014ofxui437i@uregina.ca</td>\n      <td>Participant ID</td>\n      <td>cdr7014ofxui437i</td>\n      <td>Troop 33 22/23</td>\n      <td>133.0</td>\n      <td>Female</td>\n      <td>English</td>\n      <td>1988-09-28</td>\n      <td>5.0</td>\n      <td>5.0</td>\n    </tr>\n    <tr>\n      <th>14</th>\n      <td>hgvr9d6wnl3ixd75</td>\n      <td>hgvr9d6wnl3ixd75@uregina.ca</td>\n      <td>Participant ID</td>\n      <td>hgvr9d6wnl3ixd75</td>\n      <td>Troop 33 22/23</td>\n      <td>175.0</td>\n      <td>Female</td>\n      <td>English</td>\n      <td>1997-11-25</td>\n      <td>5.0</td>\n      <td>2.0</td>\n    </tr>\n    <tr>\n      <th>15</th>\n      <td>hhr24yrd4hgpevj4</td>\n      <td>hhr24yrd4hgpevj4@uregina.ca</td>\n      <td>Participant ID</td>\n      <td>hhr24yrd4hgpevj4</td>\n      <td>Troop 33 22/23</td>\n      <td>NaN</td>\n      <td>NaN</td>\n      <td>NaN</td>\n      <td>NaN</td>\n      <td>NaN</td>\n      <td>NaN</td>\n    </tr>\n    <tr>\n      <th>16</th>\n      <td>hoicwm462dzv11v0</td>\n      <td>hoicwm462dzv11v0@uregina.ca</td>\n      <td>Participant ID</td>\n      <td>hoicwm462dzv11v0</td>\n      <td>Troop 33 22/23</td>\n      <td>NaN</td>\n      <td>NaN</td>\n      <td>NaN</td>\n      <td>NaN</td>\n      <td>NaN</td>\n      <td>NaN</td>\n    </tr>\n    <tr>\n      <th>17</th>\n      <td>hvi7peig0fjcgljy</td>\n      <td>hvi7peig0fjcgljy@uregina.ca</td>\n      <td>Participant ID</td>\n      <td>hvi7peig0fjcgljy</td>\n      <td>Troop 33 22/23</td>\n      <td>180.0</td>\n      <td>Female</td>\n      <td>English</td>\n      <td>2002</td>\n      <td>5.0</td>\n      <td>7.0</td>\n    </tr>\n    <tr>\n      <th>18</th>\n      <td>hzf1xbi1u9bar3xs</td>\n      <td>hzf1xbi1u9bar3xs@uregina.ca</td>\n      <td>Participant ID</td>\n      <td>hzf1xbi1u9bar3xs</td>\n      <td>Troop 33 22/23</td>\n      <td>NaN</td>\n      <td>NaN</td>\n      <td>NaN</td>\n      <td>NaN</td>\n      <td>NaN</td>\n      <td>NaN</td>\n    </tr>\n    <tr>\n      <th>19</th>\n      <td>ipxfpiydwy7u6108</td>\n      <td>ipxfpiydwy7u6108@uregina.ca</td>\n      <td>Participant ID</td>\n      <td>ipxfpiydwy7u6108</td>\n      <td>Troop 33 22/23</td>\n      <td>210.0</td>\n      <td>Male</td>\n      <td>English</td>\n      <td>1992</td>\n      <td>6.0</td>\n      <td>3.0</td>\n    </tr>\n    <tr>\n      <th>20</th>\n      <td>ko970fmccoxlw0r6</td>\n      <td>ko970fmccoxlw0r6@uregina.ca</td>\n      <td>Participant ID</td>\n      <td>ko970fmccoxlw0r6</td>\n      <td>Troop 33 22/23</td>\n      <td>190.0</td>\n      <td>Female</td>\n      <td>English</td>\n      <td>1994</td>\n      <td>5.0</td>\n      <td>5.0</td>\n    </tr>\n    <tr>\n      <th>21</th>\n      <td>kqezasw54mtpyo5d</td>\n      <td>kqezasw54mtpyo5d@uregina.ca</td>\n      <td>Participant ID</td>\n      <td>kqezasw54mtpyo5d</td>\n      <td>Troop 33 22/23</td>\n      <td>NaN</td>\n      <td>NaN</td>\n      <td>NaN</td>\n      <td>NaN</td>\n      <td>NaN</td>\n      <td>NaN</td>\n    </tr>\n    <tr>\n      <th>22</th>\n      <td>krv9jp1sln4pm6ds</td>\n      <td>krv9jp1sln4pm6ds@uregina.ca</td>\n      <td>Participant ID</td>\n      <td>krv9jp1sln4pm6ds</td>\n      <td>Troop 33 22/23</td>\n      <td>152.0</td>\n      <td>Male</td>\n      <td>French</td>\n      <td>1995</td>\n      <td>5.0</td>\n      <td>4.0</td>\n    </tr>\n    <tr>\n      <th>23</th>\n      <td>l62xtuz9wrmzrvcg</td>\n      <td>l62xtuz9wrmzrvcg@uregina.ca</td>\n      <td>Participant ID</td>\n      <td>l62xtuz9wrmzrvcg</td>\n      <td>Troop 33 22/23</td>\n      <td>199.0</td>\n      <td>Male</td>\n      <td>English</td>\n      <td>1994</td>\n      <td>5.0</td>\n      <td>9.0</td>\n    </tr>\n    <tr>\n      <th>24</th>\n      <td>lz518ikc6pwr71b9</td>\n      <td>lz518ikc6pwr71b9@uregina.ca</td>\n      <td>Participant ID</td>\n      <td>lz518ikc6pwr71b9</td>\n      <td>Troop 33 22/23</td>\n      <td>NaN</td>\n      <td>NaN</td>\n      <td>NaN</td>\n      <td>NaN</td>\n      <td>NaN</td>\n      <td>NaN</td>\n    </tr>\n    <tr>\n      <th>25</th>\n      <td>qt32t8x3dyy7khkr</td>\n      <td>qt32t8x3dyy7khkr@uregina.ca</td>\n      <td>Participant ID</td>\n      <td>qt32t8x3dyy7khkr</td>\n      <td>Troop 33 22/23</td>\n      <td>170.0</td>\n      <td>Male</td>\n      <td>English</td>\n      <td>2000</td>\n      <td>5.0</td>\n      <td>9.0</td>\n    </tr>\n    <tr>\n      <th>26</th>\n      <td>r2xfpt65i6uwflgc</td>\n      <td>r2xfpt65i6uwflgc@uregina.ca</td>\n      <td>Participant ID</td>\n      <td>r2xfpt65i6uwflgc</td>\n      <td>Troop 33 22/23</td>\n      <td>NaN</td>\n      <td>NaN</td>\n      <td>NaN</td>\n      <td>NaN</td>\n      <td>NaN</td>\n      <td>NaN</td>\n    </tr>\n    <tr>\n      <th>27</th>\n      <td>uewm8qv9igd7bm3p</td>\n      <td>uewm8qv9igd7bm3p@uregina.ca</td>\n      <td>Participant ID</td>\n      <td>uewm8qv9igd7bm3p</td>\n      <td>Troop 33 22/23</td>\n      <td>NaN</td>\n      <td>NaN</td>\n      <td>NaN</td>\n      <td>NaN</td>\n      <td>NaN</td>\n      <td>NaN</td>\n    </tr>\n    <tr>\n      <th>28</th>\n      <td>w6dfed829cgjmvn7</td>\n      <td>w6dfed829cgjmvn7@uregina.ca</td>\n      <td>Participant ID</td>\n      <td>w6dfed829cgjmvn7</td>\n      <td>Troop 33 22/23</td>\n      <td>NaN</td>\n      <td>NaN</td>\n      <td>NaN</td>\n      <td>NaN</td>\n      <td>NaN</td>\n      <td>NaN</td>\n    </tr>\n    <tr>\n      <th>29</th>\n      <td>x8qh0eo7zpsx21kr</td>\n      <td>x8qh0eo7zpsx21kr@uregina.ca</td>\n      <td>Participant ID</td>\n      <td>x8qh0eo7zpsx21kr</td>\n      <td>Troop 33 22/23</td>\n      <td>136.0</td>\n      <td>Female</td>\n      <td>English</td>\n      <td>1993</td>\n      <td>5.0</td>\n      <td>5.0</td>\n    </tr>\n    <tr>\n      <th>30</th>\n      <td>xro0pvxfdha2axzb</td>\n      <td>xro0pvxfdha2axzb@uregina.ca</td>\n      <td>Participant ID</td>\n      <td>xro0pvxfdha2axzb</td>\n      <td>Troop 33 22/23</td>\n      <td>NaN</td>\n      <td>NaN</td>\n      <td>NaN</td>\n      <td>NaN</td>\n      <td>NaN</td>\n      <td>NaN</td>\n    </tr>\n    <tr>\n      <th>31</th>\n      <td>ytj8qo2wnnfpiwr8</td>\n      <td>ytj8qo2wnnfpiwr8@uregina.ca</td>\n      <td>Participant ID</td>\n      <td>ytj8qo2wnnfpiwr8</td>\n      <td>Troop 33 22/23</td>\n      <td>130.0</td>\n      <td>Female</td>\n      <td>English</td>\n      <td>1974</td>\n      <td>5.0</td>\n      <td>6.0</td>\n    </tr>\n  </tbody>\n</table>\n</div>"
     },
     "execution_count": 23,
     "metadata": {},
     "output_type": "execute_result"
    }
   ],
   "source": [
    "user_data_df"
   ],
   "metadata": {
    "collapsed": false,
    "pycharm": {
     "name": "#%%\n"
    }
   }
  },
  {
   "cell_type": "code",
   "execution_count": 24,
   "outputs": [],
   "source": [
    "user_data_df.to_csv(f\"{path}/Biometric report {troop_name}.csv\",index=False)"
   ],
   "metadata": {
    "collapsed": false,
    "pycharm": {
     "name": "#%%\n"
    }
   }
  },
  {
   "cell_type": "markdown",
   "source": [
    "## BYOD report making"
   ],
   "metadata": {
    "collapsed": false
   }
  },
  {
   "cell_type": "markdown",
   "source": [
    "it is making a dummy report as they are going forward set all byod=yes"
   ],
   "metadata": {
    "collapsed": false
   }
  },
  {
   "cell_type": "code",
   "execution_count": 25,
   "outputs": [],
   "source": [
    "byods = pd.Series([\"Yes\" for x in range(len(user_data_df.index))])"
   ],
   "metadata": {
    "collapsed": false,
    "pycharm": {
     "name": "#%%\n"
    }
   }
  },
  {
   "cell_type": "code",
   "execution_count": 26,
   "outputs": [],
   "source": [
    "byods_dataframe = pd.DataFrame()"
   ],
   "metadata": {
    "collapsed": false,
    "pycharm": {
     "name": "#%%\n"
    }
   }
  },
  {
   "cell_type": "code",
   "execution_count": 27,
   "outputs": [],
   "source": [
    "byods_dataframe['username'] = user_data_df['username']\n",
    "byods_dataframe['byod'] = byods"
   ],
   "metadata": {
    "collapsed": false,
    "pycharm": {
     "name": "#%%\n"
    }
   }
  },
  {
   "cell_type": "code",
   "execution_count": 28,
   "outputs": [],
   "source": [
    "byods_dataframe.to_csv(f\"{path}/BYOD report {troop_name}.csv\",index=False)"
   ],
   "metadata": {
    "collapsed": false,
    "pycharm": {
     "name": "#%%\n"
    }
   }
  },
  {
   "cell_type": "code",
   "execution_count": 29,
   "outputs": [
    {
     "data": {
      "text/plain": "            username byod\n0   0n8713eqhj8wnc4u  Yes\n1   1f4fimo8703eod9i  Yes\n2   1v1co8nsbvybqi33  Yes\n3   4ft4d5cywmwdbtyl  Yes\n4   4htlx3yszpp2f957  Yes\n5   4x335n1avkutv8q3  Yes\n6   5hbpvfkyn2cy37aa  Yes\n7   7uxir0o8y6t5jegh  Yes\n8   8jhlbsnepywug5vz  Yes\n9   9iqi1ekd1rqoaxtc  Yes\n10  ayi2u3pq7u2ycord  Yes\n11  bpp1nhh5v3t20bfk  Yes\n12  bu190oam0fgo9mzp  Yes\n13  cdr7014ofxui437i  Yes\n14  hgvr9d6wnl3ixd75  Yes\n15  hhr24yrd4hgpevj4  Yes\n16  hoicwm462dzv11v0  Yes\n17  hvi7peig0fjcgljy  Yes\n18  hzf1xbi1u9bar3xs  Yes\n19  ipxfpiydwy7u6108  Yes\n20  ko970fmccoxlw0r6  Yes\n21  kqezasw54mtpyo5d  Yes\n22  krv9jp1sln4pm6ds  Yes\n23  l62xtuz9wrmzrvcg  Yes\n24  lz518ikc6pwr71b9  Yes\n25  qt32t8x3dyy7khkr  Yes\n26  r2xfpt65i6uwflgc  Yes\n27  uewm8qv9igd7bm3p  Yes\n28  w6dfed829cgjmvn7  Yes\n29  x8qh0eo7zpsx21kr  Yes\n30  xro0pvxfdha2axzb  Yes\n31  ytj8qo2wnnfpiwr8  Yes",
      "text/html": "<div>\n<style scoped>\n    .dataframe tbody tr th:only-of-type {\n        vertical-align: middle;\n    }\n\n    .dataframe tbody tr th {\n        vertical-align: top;\n    }\n\n    .dataframe thead th {\n        text-align: right;\n    }\n</style>\n<table border=\"1\" class=\"dataframe\">\n  <thead>\n    <tr style=\"text-align: right;\">\n      <th></th>\n      <th>username</th>\n      <th>byod</th>\n    </tr>\n  </thead>\n  <tbody>\n    <tr>\n      <th>0</th>\n      <td>0n8713eqhj8wnc4u</td>\n      <td>Yes</td>\n    </tr>\n    <tr>\n      <th>1</th>\n      <td>1f4fimo8703eod9i</td>\n      <td>Yes</td>\n    </tr>\n    <tr>\n      <th>2</th>\n      <td>1v1co8nsbvybqi33</td>\n      <td>Yes</td>\n    </tr>\n    <tr>\n      <th>3</th>\n      <td>4ft4d5cywmwdbtyl</td>\n      <td>Yes</td>\n    </tr>\n    <tr>\n      <th>4</th>\n      <td>4htlx3yszpp2f957</td>\n      <td>Yes</td>\n    </tr>\n    <tr>\n      <th>5</th>\n      <td>4x335n1avkutv8q3</td>\n      <td>Yes</td>\n    </tr>\n    <tr>\n      <th>6</th>\n      <td>5hbpvfkyn2cy37aa</td>\n      <td>Yes</td>\n    </tr>\n    <tr>\n      <th>7</th>\n      <td>7uxir0o8y6t5jegh</td>\n      <td>Yes</td>\n    </tr>\n    <tr>\n      <th>8</th>\n      <td>8jhlbsnepywug5vz</td>\n      <td>Yes</td>\n    </tr>\n    <tr>\n      <th>9</th>\n      <td>9iqi1ekd1rqoaxtc</td>\n      <td>Yes</td>\n    </tr>\n    <tr>\n      <th>10</th>\n      <td>ayi2u3pq7u2ycord</td>\n      <td>Yes</td>\n    </tr>\n    <tr>\n      <th>11</th>\n      <td>bpp1nhh5v3t20bfk</td>\n      <td>Yes</td>\n    </tr>\n    <tr>\n      <th>12</th>\n      <td>bu190oam0fgo9mzp</td>\n      <td>Yes</td>\n    </tr>\n    <tr>\n      <th>13</th>\n      <td>cdr7014ofxui437i</td>\n      <td>Yes</td>\n    </tr>\n    <tr>\n      <th>14</th>\n      <td>hgvr9d6wnl3ixd75</td>\n      <td>Yes</td>\n    </tr>\n    <tr>\n      <th>15</th>\n      <td>hhr24yrd4hgpevj4</td>\n      <td>Yes</td>\n    </tr>\n    <tr>\n      <th>16</th>\n      <td>hoicwm462dzv11v0</td>\n      <td>Yes</td>\n    </tr>\n    <tr>\n      <th>17</th>\n      <td>hvi7peig0fjcgljy</td>\n      <td>Yes</td>\n    </tr>\n    <tr>\n      <th>18</th>\n      <td>hzf1xbi1u9bar3xs</td>\n      <td>Yes</td>\n    </tr>\n    <tr>\n      <th>19</th>\n      <td>ipxfpiydwy7u6108</td>\n      <td>Yes</td>\n    </tr>\n    <tr>\n      <th>20</th>\n      <td>ko970fmccoxlw0r6</td>\n      <td>Yes</td>\n    </tr>\n    <tr>\n      <th>21</th>\n      <td>kqezasw54mtpyo5d</td>\n      <td>Yes</td>\n    </tr>\n    <tr>\n      <th>22</th>\n      <td>krv9jp1sln4pm6ds</td>\n      <td>Yes</td>\n    </tr>\n    <tr>\n      <th>23</th>\n      <td>l62xtuz9wrmzrvcg</td>\n      <td>Yes</td>\n    </tr>\n    <tr>\n      <th>24</th>\n      <td>lz518ikc6pwr71b9</td>\n      <td>Yes</td>\n    </tr>\n    <tr>\n      <th>25</th>\n      <td>qt32t8x3dyy7khkr</td>\n      <td>Yes</td>\n    </tr>\n    <tr>\n      <th>26</th>\n      <td>r2xfpt65i6uwflgc</td>\n      <td>Yes</td>\n    </tr>\n    <tr>\n      <th>27</th>\n      <td>uewm8qv9igd7bm3p</td>\n      <td>Yes</td>\n    </tr>\n    <tr>\n      <th>28</th>\n      <td>w6dfed829cgjmvn7</td>\n      <td>Yes</td>\n    </tr>\n    <tr>\n      <th>29</th>\n      <td>x8qh0eo7zpsx21kr</td>\n      <td>Yes</td>\n    </tr>\n    <tr>\n      <th>30</th>\n      <td>xro0pvxfdha2axzb</td>\n      <td>Yes</td>\n    </tr>\n    <tr>\n      <th>31</th>\n      <td>ytj8qo2wnnfpiwr8</td>\n      <td>Yes</td>\n    </tr>\n  </tbody>\n</table>\n</div>"
     },
     "execution_count": 29,
     "metadata": {},
     "output_type": "execute_result"
    }
   ],
   "source": [
    "byods_dataframe"
   ],
   "metadata": {
    "collapsed": false,
    "pycharm": {
     "name": "#%%\n"
    }
   }
  },
  {
   "cell_type": "markdown",
   "source": [
    "# Finally\n",
    "\n",
    "copy the schedule file downloaded in step 3 to the \"Post onboarding reports file output\" folder, then rename it to ** Clinical interview schedule report for troop ##### **.\n",
    "\n",
    "Next these files should be sent to John and team via email, cc Donna. And upload them to the T drive :\n",
    "T:\\CCJS\\RCMP\\Participant and Inventory\\Team 2 - Troop Folders\\Troop #######\n",
    "\n",
    "in the email mention the number of participants.\n"
   ],
   "metadata": {
    "collapsed": false,
    "pycharm": {
     "name": "#%% md\n"
    }
   }
  }
 ],
 "metadata": {
  "kernelspec": {
   "display_name": "Python 3",
   "language": "python",
   "name": "python3"
  },
  "language_info": {
   "codemirror_mode": {
    "name": "ipython",
    "version": 2
   },
   "file_extension": ".py",
   "mimetype": "text/x-python",
   "name": "python",
   "nbconvert_exporter": "python",
   "pygments_lexer": "ipython2",
   "version": "2.7.6"
  }
 },
 "nbformat": 4,
 "nbformat_minor": 0
}