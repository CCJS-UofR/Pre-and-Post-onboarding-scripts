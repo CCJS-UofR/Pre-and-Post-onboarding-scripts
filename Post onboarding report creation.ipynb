{
 "cells": [
  {
   "cell_type": "code",
   "execution_count": 1,
   "metadata": {
    "collapsed": true
   },
   "outputs": [],
   "source": [
    "# Importing libraries\n",
    "import numpy as np\n",
    "import pandas as pd\n",
    "from datetime import date, datetime\n",
    "import tkinter as tk\n",
    "import tkinter.filedialog\n",
    "import os\n",
    "import ntpath\n",
    "import numpy as np"
   ]
  },
  {
   "cell_type": "code",
   "execution_count": 2,
   "outputs": [
    {
     "data": {
      "text/plain": "''"
     },
     "execution_count": 2,
     "metadata": {},
     "output_type": "execute_result"
    }
   ],
   "source": [
    "# tkinter setup\n",
    "\n",
    "root = tk.Tk()\n",
    "root.withdraw()  # used to hide tkinter window"
   ],
   "metadata": {
    "collapsed": false,
    "pycharm": {
     "name": "#%%\n"
    }
   }
  },
  {
   "cell_type": "code",
   "execution_count": 3,
   "outputs": [],
   "source": [
    "# Write the troop name here\n",
    "troop_id = input(\"Enter the name of the Troop such as Troop 37 22-23\")\n",
    "troop_name = \"for the \" + troop_id"
   ],
   "metadata": {
    "collapsed": false,
    "pycharm": {
     "name": "#%%\n"
    }
   }
  },
  {
   "cell_type": "code",
   "execution_count": 4,
   "outputs": [
    {
     "name": "stdout",
     "output_type": "stream",
     "text": [
      "Files output directory is set to: I:\\Templates, Scripts, and documents\\Report Scripts\\RCMP\\Consent and Onboarding data Script\\Post onboarding reports file output\n"
     ]
    }
   ],
   "source": [
    "output_dir_name = \"Post onboarding reports file output\"\n",
    "# create dir\n",
    "abs_path = os.getcwd()\n",
    "path = os.path.join(abs_path, output_dir_name)\n",
    "\n",
    "try:\n",
    "    if not os.path.exists(path):\n",
    "        os.mkdir(path)\n",
    "except OSError as error:\n",
    "    print(error)\n",
    "\n",
    "print(f\"Files output directory is set to: {path}\")"
   ],
   "metadata": {
    "collapsed": false,
    "pycharm": {
     "name": "#%%\n"
    }
   }
  },
  {
   "cell_type": "markdown",
   "source": [
    "### Generating the consent report"
   ],
   "metadata": {
    "collapsed": false
   }
  },
  {
   "cell_type": "code",
   "execution_count": 5,
   "outputs": [
    {
     "name": "stdout",
     "output_type": "stream",
     "text": [
      "You chose C:/Users/sam070/Downloads/user_acceptances (34).csv\n"
     ]
    }
   ],
   "source": [
    "currdir = os.getcwd()\n",
    "consent_file_path = tkinter.filedialog.askopenfilename(\n",
    "    parent=root, initialdir=currdir, title='Please choose the consent file collected from Moodle')\n",
    "if len(consent_file_path) > 0:\n",
    "    print(\"You chose %s\" % consent_file_path)\n",
    "\n",
    "consent_df = pd.read_csv(f'{consent_file_path}')"
   ],
   "metadata": {
    "collapsed": false,
    "pycharm": {
     "name": "#%%\n"
    }
   }
  },
  {
   "cell_type": "code",
   "execution_count": 6,
   "outputs": [],
   "source": [
    "consent_df['username'] = consent_df['User full name']"
   ],
   "metadata": {
    "collapsed": false,
    "pycharm": {
     "name": "#%%\n"
    }
   }
  },
  {
   "cell_type": "code",
   "execution_count": 7,
   "outputs": [],
   "source": [
    "consent_df.drop('Email address', axis=1,inplace=True)\n",
    "consent_df.drop('Respondent', axis=1,inplace=True)\n",
    "consent_df.drop('Remarks', axis=1,inplace=True)\n",
    "consent_df.drop('User full name', axis=1,inplace=True)"
   ],
   "metadata": {
    "collapsed": false,
    "pycharm": {
     "name": "#%%\n"
    }
   }
  },
  {
   "cell_type": "code",
   "execution_count": 8,
   "outputs": [],
   "source": [
    "consent_df['username'] = consent_df['username'].str.replace('Participant ID ','')"
   ],
   "metadata": {
    "collapsed": false,
    "pycharm": {
     "name": "#%%\n"
    }
   }
  },
  {
   "cell_type": "code",
   "execution_count": 9,
   "outputs": [
    {
     "data": {
      "text/plain": "      Response                     Date                        username\n0      Pending                      NaN                      Admin User\n1     Accepted  2020-02-29 11:12:57 CST                   Akiff Maredia\n2      Pending                      NaN    anonfirstname1 anonlastname1\n3      Pending                      NaN  anonfirstname32 anonlastname32\n4     Accepted  2021-05-25 15:22:19 CST                       Apple Dev\n...        ...                      ...                             ...\n3027  Accepted  2020-04-01 13:53:13 CST                  Test Developer\n3028   Pending                      NaN                       Test Test\n3029  Accepted  2021-03-02 09:26:41 CST                       Test user\n3030  Accepted  2021-03-02 10:04:00 CST                      Test User2\n3031  Accepted  2021-08-06 14:14:47 CST                     Web Service\n\n[3032 rows x 3 columns]",
      "text/html": "<div>\n<style scoped>\n    .dataframe tbody tr th:only-of-type {\n        vertical-align: middle;\n    }\n\n    .dataframe tbody tr th {\n        vertical-align: top;\n    }\n\n    .dataframe thead th {\n        text-align: right;\n    }\n</style>\n<table border=\"1\" class=\"dataframe\">\n  <thead>\n    <tr style=\"text-align: right;\">\n      <th></th>\n      <th>Response</th>\n      <th>Date</th>\n      <th>username</th>\n    </tr>\n  </thead>\n  <tbody>\n    <tr>\n      <th>0</th>\n      <td>Pending</td>\n      <td>NaN</td>\n      <td>Admin User</td>\n    </tr>\n    <tr>\n      <th>1</th>\n      <td>Accepted</td>\n      <td>2020-02-29 11:12:57 CST</td>\n      <td>Akiff Maredia</td>\n    </tr>\n    <tr>\n      <th>2</th>\n      <td>Pending</td>\n      <td>NaN</td>\n      <td>anonfirstname1 anonlastname1</td>\n    </tr>\n    <tr>\n      <th>3</th>\n      <td>Pending</td>\n      <td>NaN</td>\n      <td>anonfirstname32 anonlastname32</td>\n    </tr>\n    <tr>\n      <th>4</th>\n      <td>Accepted</td>\n      <td>2021-05-25 15:22:19 CST</td>\n      <td>Apple Dev</td>\n    </tr>\n    <tr>\n      <th>...</th>\n      <td>...</td>\n      <td>...</td>\n      <td>...</td>\n    </tr>\n    <tr>\n      <th>3027</th>\n      <td>Accepted</td>\n      <td>2020-04-01 13:53:13 CST</td>\n      <td>Test Developer</td>\n    </tr>\n    <tr>\n      <th>3028</th>\n      <td>Pending</td>\n      <td>NaN</td>\n      <td>Test Test</td>\n    </tr>\n    <tr>\n      <th>3029</th>\n      <td>Accepted</td>\n      <td>2021-03-02 09:26:41 CST</td>\n      <td>Test user</td>\n    </tr>\n    <tr>\n      <th>3030</th>\n      <td>Accepted</td>\n      <td>2021-03-02 10:04:00 CST</td>\n      <td>Test User2</td>\n    </tr>\n    <tr>\n      <th>3031</th>\n      <td>Accepted</td>\n      <td>2021-08-06 14:14:47 CST</td>\n      <td>Web Service</td>\n    </tr>\n  </tbody>\n</table>\n<p>3032 rows × 3 columns</p>\n</div>"
     },
     "execution_count": 9,
     "metadata": {},
     "output_type": "execute_result"
    }
   ],
   "source": [
    "consent_df"
   ],
   "metadata": {
    "collapsed": false,
    "pycharm": {
     "name": "#%%\n"
    }
   }
  },
  {
   "cell_type": "code",
   "execution_count": 10,
   "outputs": [
    {
     "name": "stdout",
     "output_type": "stream",
     "text": [
      "You chose T:/CCJS/RCMP/Participant and Inventory/Team 2 - Troop Folders/Troop 36 2022-23/Troop 36 2022-23.xlsx\n"
     ]
    }
   ],
   "source": [
    "currdir = os.getcwd()\n",
    "troop_file_path = tkinter.filedialog.askopenfilename(parent=root, initialdir=currdir, title='Please select a the Excel for current onboarding')\n",
    "if len(troop_file_path) > 0:\n",
    "    print(\"You chose %s\" % troop_file_path)"
   ],
   "metadata": {
    "collapsed": false,
    "pycharm": {
     "name": "#%%\n"
    }
   }
  },
  {
   "cell_type": "code",
   "execution_count": 11,
   "outputs": [],
   "source": [
    "troop_df = pd.read_excel(troop_file_path)\n",
    "troop_column = troop_df['Troop Number']"
   ],
   "metadata": {
    "collapsed": false,
    "pycharm": {
     "name": "#%%\n"
    }
   }
  },
  {
   "cell_type": "code",
   "execution_count": 12,
   "outputs": [
    {
     "data": {
      "text/plain": "    bag #    Participant ID    Troop Number\n0       1  yrt8xs813igditgz  Troop 36 22/23\n1       2  rji9hbbttmzgb6y4  Troop 36 22/23\n2       3  46qrzbdjn6g0n52v  Troop 36 22/23\n3       4  epi26cka2znken6w  Troop 36 22/23\n4       5  tsj74p5x2ql6prfl  Troop 36 22/23\n5       6  7djouhvdhlxc65ny  Troop 36 22/23\n6       7  nl3qdwp6er8xvu5d  Troop 36 22/23\n7       8  mqsnh4oabvy2mggn  Troop 36 22/23\n8       9  ax4c746fnw4juulw  Troop 36 22/23\n9      10  77el9hzjfccrd5zo  Troop 36 22/23\n10     11  xiju0v360vuo9qj4  Troop 36 22/23\n11     12  qmgp281sxrl4s000  Troop 36 22/23\n12     13  1uwkejl6mqs4tgd0  Troop 36 22/23\n13     14  w0i80tub2i7qw4qx  Troop 36 22/23\n14     15  fabd68qs9r8y1mwr  Troop 36 22/23\n15     16  qexbqig902xcxshh  Troop 36 22/23\n16     17  r4ne991oz2nt40rq  Troop 36 22/23\n17     18  9j5orkg82tv1ako4  Troop 36 22/23\n18     19  ijylony3nyt4j4k9  Troop 36 22/23\n19     20  3j7at5i5ucg8xcc0  Troop 36 22/23\n20     21  qaykfoffen4sqow9  Troop 36 22/23\n21     22  4zt7m0ocmho8zr01  Troop 36 22/23\n22     23  vhnyc0l8t5u4o3fl  Troop 36 22/23\n23     24  8imwv5fsqwptjh1i  Troop 36 22/23\n24     25  75nf2u8lw8ym4hiu  Troop 36 22/23\n25     26  cvf6er3n36qysbnf  Troop 36 22/23\n26     27  aotylbmrd881g8oo  Troop 36 22/23\n27     28  hc26aed182258rrw  Troop 36 22/23\n28     29  zjuvhdbbq47c8sws  Troop 36 22/23\n29     30  as3okqjxizifhq4s  Troop 36 22/23\n30     31  45kwy6s0tn5uc5xo  Troop 36 22/23\n31     32  vyfch6hgxdytyif8  Troop 36 22/23",
      "text/html": "<div>\n<style scoped>\n    .dataframe tbody tr th:only-of-type {\n        vertical-align: middle;\n    }\n\n    .dataframe tbody tr th {\n        vertical-align: top;\n    }\n\n    .dataframe thead th {\n        text-align: right;\n    }\n</style>\n<table border=\"1\" class=\"dataframe\">\n  <thead>\n    <tr style=\"text-align: right;\">\n      <th></th>\n      <th>bag #</th>\n      <th>Participant ID</th>\n      <th>Troop Number</th>\n    </tr>\n  </thead>\n  <tbody>\n    <tr>\n      <th>0</th>\n      <td>1</td>\n      <td>yrt8xs813igditgz</td>\n      <td>Troop 36 22/23</td>\n    </tr>\n    <tr>\n      <th>1</th>\n      <td>2</td>\n      <td>rji9hbbttmzgb6y4</td>\n      <td>Troop 36 22/23</td>\n    </tr>\n    <tr>\n      <th>2</th>\n      <td>3</td>\n      <td>46qrzbdjn6g0n52v</td>\n      <td>Troop 36 22/23</td>\n    </tr>\n    <tr>\n      <th>3</th>\n      <td>4</td>\n      <td>epi26cka2znken6w</td>\n      <td>Troop 36 22/23</td>\n    </tr>\n    <tr>\n      <th>4</th>\n      <td>5</td>\n      <td>tsj74p5x2ql6prfl</td>\n      <td>Troop 36 22/23</td>\n    </tr>\n    <tr>\n      <th>5</th>\n      <td>6</td>\n      <td>7djouhvdhlxc65ny</td>\n      <td>Troop 36 22/23</td>\n    </tr>\n    <tr>\n      <th>6</th>\n      <td>7</td>\n      <td>nl3qdwp6er8xvu5d</td>\n      <td>Troop 36 22/23</td>\n    </tr>\n    <tr>\n      <th>7</th>\n      <td>8</td>\n      <td>mqsnh4oabvy2mggn</td>\n      <td>Troop 36 22/23</td>\n    </tr>\n    <tr>\n      <th>8</th>\n      <td>9</td>\n      <td>ax4c746fnw4juulw</td>\n      <td>Troop 36 22/23</td>\n    </tr>\n    <tr>\n      <th>9</th>\n      <td>10</td>\n      <td>77el9hzjfccrd5zo</td>\n      <td>Troop 36 22/23</td>\n    </tr>\n    <tr>\n      <th>10</th>\n      <td>11</td>\n      <td>xiju0v360vuo9qj4</td>\n      <td>Troop 36 22/23</td>\n    </tr>\n    <tr>\n      <th>11</th>\n      <td>12</td>\n      <td>qmgp281sxrl4s000</td>\n      <td>Troop 36 22/23</td>\n    </tr>\n    <tr>\n      <th>12</th>\n      <td>13</td>\n      <td>1uwkejl6mqs4tgd0</td>\n      <td>Troop 36 22/23</td>\n    </tr>\n    <tr>\n      <th>13</th>\n      <td>14</td>\n      <td>w0i80tub2i7qw4qx</td>\n      <td>Troop 36 22/23</td>\n    </tr>\n    <tr>\n      <th>14</th>\n      <td>15</td>\n      <td>fabd68qs9r8y1mwr</td>\n      <td>Troop 36 22/23</td>\n    </tr>\n    <tr>\n      <th>15</th>\n      <td>16</td>\n      <td>qexbqig902xcxshh</td>\n      <td>Troop 36 22/23</td>\n    </tr>\n    <tr>\n      <th>16</th>\n      <td>17</td>\n      <td>r4ne991oz2nt40rq</td>\n      <td>Troop 36 22/23</td>\n    </tr>\n    <tr>\n      <th>17</th>\n      <td>18</td>\n      <td>9j5orkg82tv1ako4</td>\n      <td>Troop 36 22/23</td>\n    </tr>\n    <tr>\n      <th>18</th>\n      <td>19</td>\n      <td>ijylony3nyt4j4k9</td>\n      <td>Troop 36 22/23</td>\n    </tr>\n    <tr>\n      <th>19</th>\n      <td>20</td>\n      <td>3j7at5i5ucg8xcc0</td>\n      <td>Troop 36 22/23</td>\n    </tr>\n    <tr>\n      <th>20</th>\n      <td>21</td>\n      <td>qaykfoffen4sqow9</td>\n      <td>Troop 36 22/23</td>\n    </tr>\n    <tr>\n      <th>21</th>\n      <td>22</td>\n      <td>4zt7m0ocmho8zr01</td>\n      <td>Troop 36 22/23</td>\n    </tr>\n    <tr>\n      <th>22</th>\n      <td>23</td>\n      <td>vhnyc0l8t5u4o3fl</td>\n      <td>Troop 36 22/23</td>\n    </tr>\n    <tr>\n      <th>23</th>\n      <td>24</td>\n      <td>8imwv5fsqwptjh1i</td>\n      <td>Troop 36 22/23</td>\n    </tr>\n    <tr>\n      <th>24</th>\n      <td>25</td>\n      <td>75nf2u8lw8ym4hiu</td>\n      <td>Troop 36 22/23</td>\n    </tr>\n    <tr>\n      <th>25</th>\n      <td>26</td>\n      <td>cvf6er3n36qysbnf</td>\n      <td>Troop 36 22/23</td>\n    </tr>\n    <tr>\n      <th>26</th>\n      <td>27</td>\n      <td>aotylbmrd881g8oo</td>\n      <td>Troop 36 22/23</td>\n    </tr>\n    <tr>\n      <th>27</th>\n      <td>28</td>\n      <td>hc26aed182258rrw</td>\n      <td>Troop 36 22/23</td>\n    </tr>\n    <tr>\n      <th>28</th>\n      <td>29</td>\n      <td>zjuvhdbbq47c8sws</td>\n      <td>Troop 36 22/23</td>\n    </tr>\n    <tr>\n      <th>29</th>\n      <td>30</td>\n      <td>as3okqjxizifhq4s</td>\n      <td>Troop 36 22/23</td>\n    </tr>\n    <tr>\n      <th>30</th>\n      <td>31</td>\n      <td>45kwy6s0tn5uc5xo</td>\n      <td>Troop 36 22/23</td>\n    </tr>\n    <tr>\n      <th>31</th>\n      <td>32</td>\n      <td>vyfch6hgxdytyif8</td>\n      <td>Troop 36 22/23</td>\n    </tr>\n  </tbody>\n</table>\n</div>"
     },
     "execution_count": 12,
     "metadata": {},
     "output_type": "execute_result"
    }
   ],
   "source": [
    "troop_df"
   ],
   "metadata": {
    "collapsed": false,
    "pycharm": {
     "name": "#%%\n"
    }
   }
  },
  {
   "cell_type": "markdown",
   "source": [
    "#### Taking the usernames only from the Troop file"
   ],
   "metadata": {
    "collapsed": false
   }
  },
  {
   "cell_type": "code",
   "execution_count": 13,
   "outputs": [],
   "source": [
    "troop_df['username'] = troop_df['Participant ID'].str.lower()\n",
    "troop_df.drop('Participant ID', axis=1,inplace=True)\n",
    "troop_df.drop('Troop Number', axis=1,inplace=True)\n",
    "troop_df.drop('bag #', axis=1,inplace=True)"
   ],
   "metadata": {
    "collapsed": false,
    "pycharm": {
     "name": "#%%\n"
    }
   }
  },
  {
   "cell_type": "code",
   "execution_count": 14,
   "outputs": [
    {
     "data": {
      "text/plain": "            username\n0   yrt8xs813igditgz\n1   rji9hbbttmzgb6y4\n2   46qrzbdjn6g0n52v\n3   epi26cka2znken6w\n4   tsj74p5x2ql6prfl\n5   7djouhvdhlxc65ny\n6   nl3qdwp6er8xvu5d\n7   mqsnh4oabvy2mggn\n8   ax4c746fnw4juulw\n9   77el9hzjfccrd5zo\n10  xiju0v360vuo9qj4\n11  qmgp281sxrl4s000\n12  1uwkejl6mqs4tgd0\n13  w0i80tub2i7qw4qx\n14  fabd68qs9r8y1mwr\n15  qexbqig902xcxshh\n16  r4ne991oz2nt40rq\n17  9j5orkg82tv1ako4\n18  ijylony3nyt4j4k9\n19  3j7at5i5ucg8xcc0\n20  qaykfoffen4sqow9\n21  4zt7m0ocmho8zr01\n22  vhnyc0l8t5u4o3fl\n23  8imwv5fsqwptjh1i\n24  75nf2u8lw8ym4hiu\n25  cvf6er3n36qysbnf\n26  aotylbmrd881g8oo\n27  hc26aed182258rrw\n28  zjuvhdbbq47c8sws\n29  as3okqjxizifhq4s\n30  45kwy6s0tn5uc5xo\n31  vyfch6hgxdytyif8",
      "text/html": "<div>\n<style scoped>\n    .dataframe tbody tr th:only-of-type {\n        vertical-align: middle;\n    }\n\n    .dataframe tbody tr th {\n        vertical-align: top;\n    }\n\n    .dataframe thead th {\n        text-align: right;\n    }\n</style>\n<table border=\"1\" class=\"dataframe\">\n  <thead>\n    <tr style=\"text-align: right;\">\n      <th></th>\n      <th>username</th>\n    </tr>\n  </thead>\n  <tbody>\n    <tr>\n      <th>0</th>\n      <td>yrt8xs813igditgz</td>\n    </tr>\n    <tr>\n      <th>1</th>\n      <td>rji9hbbttmzgb6y4</td>\n    </tr>\n    <tr>\n      <th>2</th>\n      <td>46qrzbdjn6g0n52v</td>\n    </tr>\n    <tr>\n      <th>3</th>\n      <td>epi26cka2znken6w</td>\n    </tr>\n    <tr>\n      <th>4</th>\n      <td>tsj74p5x2ql6prfl</td>\n    </tr>\n    <tr>\n      <th>5</th>\n      <td>7djouhvdhlxc65ny</td>\n    </tr>\n    <tr>\n      <th>6</th>\n      <td>nl3qdwp6er8xvu5d</td>\n    </tr>\n    <tr>\n      <th>7</th>\n      <td>mqsnh4oabvy2mggn</td>\n    </tr>\n    <tr>\n      <th>8</th>\n      <td>ax4c746fnw4juulw</td>\n    </tr>\n    <tr>\n      <th>9</th>\n      <td>77el9hzjfccrd5zo</td>\n    </tr>\n    <tr>\n      <th>10</th>\n      <td>xiju0v360vuo9qj4</td>\n    </tr>\n    <tr>\n      <th>11</th>\n      <td>qmgp281sxrl4s000</td>\n    </tr>\n    <tr>\n      <th>12</th>\n      <td>1uwkejl6mqs4tgd0</td>\n    </tr>\n    <tr>\n      <th>13</th>\n      <td>w0i80tub2i7qw4qx</td>\n    </tr>\n    <tr>\n      <th>14</th>\n      <td>fabd68qs9r8y1mwr</td>\n    </tr>\n    <tr>\n      <th>15</th>\n      <td>qexbqig902xcxshh</td>\n    </tr>\n    <tr>\n      <th>16</th>\n      <td>r4ne991oz2nt40rq</td>\n    </tr>\n    <tr>\n      <th>17</th>\n      <td>9j5orkg82tv1ako4</td>\n    </tr>\n    <tr>\n      <th>18</th>\n      <td>ijylony3nyt4j4k9</td>\n    </tr>\n    <tr>\n      <th>19</th>\n      <td>3j7at5i5ucg8xcc0</td>\n    </tr>\n    <tr>\n      <th>20</th>\n      <td>qaykfoffen4sqow9</td>\n    </tr>\n    <tr>\n      <th>21</th>\n      <td>4zt7m0ocmho8zr01</td>\n    </tr>\n    <tr>\n      <th>22</th>\n      <td>vhnyc0l8t5u4o3fl</td>\n    </tr>\n    <tr>\n      <th>23</th>\n      <td>8imwv5fsqwptjh1i</td>\n    </tr>\n    <tr>\n      <th>24</th>\n      <td>75nf2u8lw8ym4hiu</td>\n    </tr>\n    <tr>\n      <th>25</th>\n      <td>cvf6er3n36qysbnf</td>\n    </tr>\n    <tr>\n      <th>26</th>\n      <td>aotylbmrd881g8oo</td>\n    </tr>\n    <tr>\n      <th>27</th>\n      <td>hc26aed182258rrw</td>\n    </tr>\n    <tr>\n      <th>28</th>\n      <td>zjuvhdbbq47c8sws</td>\n    </tr>\n    <tr>\n      <th>29</th>\n      <td>as3okqjxizifhq4s</td>\n    </tr>\n    <tr>\n      <th>30</th>\n      <td>45kwy6s0tn5uc5xo</td>\n    </tr>\n    <tr>\n      <th>31</th>\n      <td>vyfch6hgxdytyif8</td>\n    </tr>\n  </tbody>\n</table>\n</div>"
     },
     "execution_count": 14,
     "metadata": {},
     "output_type": "execute_result"
    }
   ],
   "source": [
    "troop_df"
   ],
   "metadata": {
    "collapsed": false,
    "pycharm": {
     "name": "#%%\n"
    }
   }
  },
  {
   "cell_type": "code",
   "execution_count": 15,
   "outputs": [],
   "source": [
    "merged_df = pd.merge(consent_df,troop_df, 'inner', 'username')"
   ],
   "metadata": {
    "collapsed": false,
    "pycharm": {
     "name": "#%%\n"
    }
   }
  },
  {
   "cell_type": "code",
   "execution_count": 16,
   "outputs": [
    {
     "data": {
      "text/plain": "    Response                     Date          username\n0   Accepted  2023-02-09 15:31:07 CST  yrt8xs813igditgz\n1   Accepted  2023-02-09 15:33:50 CST  rji9hbbttmzgb6y4\n2    Pending                      NaN  46qrzbdjn6g0n52v\n3   Accepted  2023-02-09 15:33:49 CST  epi26cka2znken6w\n4   Accepted  2023-02-09 15:33:49 CST  tsj74p5x2ql6prfl\n5   Accepted  2023-02-09 15:33:47 CST  7djouhvdhlxc65ny\n6   Accepted  2023-02-09 15:33:21 CST  nl3qdwp6er8xvu5d\n7   Accepted  2023-02-09 15:30:54 CST  mqsnh4oabvy2mggn\n8   Accepted  2023-02-09 15:32:41 CST  ax4c746fnw4juulw\n9    Pending                      NaN  77el9hzjfccrd5zo\n10  Accepted  2023-02-09 15:32:47 CST  xiju0v360vuo9qj4\n11   Pending                      NaN  qmgp281sxrl4s000\n12   Pending                      NaN  1uwkejl6mqs4tgd0\n13  Accepted  2023-02-09 15:33:45 CST  w0i80tub2i7qw4qx\n14  Accepted  2023-02-09 15:33:50 CST  fabd68qs9r8y1mwr\n15  Accepted  2023-02-09 15:30:59 CST  qexbqig902xcxshh\n16   Pending                      NaN  r4ne991oz2nt40rq\n17  Accepted  2023-02-09 15:33:51 CST  9j5orkg82tv1ako4\n18  Accepted  2023-02-09 15:33:13 CST  ijylony3nyt4j4k9\n19  Accepted  2023-02-09 15:33:50 CST  3j7at5i5ucg8xcc0\n20   Pending                      NaN  qaykfoffen4sqow9\n21   Pending                      NaN  4zt7m0ocmho8zr01\n22  Accepted  2023-02-09 15:33:50 CST  vhnyc0l8t5u4o3fl\n23   Pending                      NaN  8imwv5fsqwptjh1i\n24   Pending                      NaN  75nf2u8lw8ym4hiu\n25   Pending                      NaN  cvf6er3n36qysbnf\n26   Pending                      NaN  aotylbmrd881g8oo\n27   Pending                      NaN  hc26aed182258rrw\n28   Pending                      NaN  zjuvhdbbq47c8sws\n29   Pending                      NaN  as3okqjxizifhq4s\n30   Pending                      NaN  45kwy6s0tn5uc5xo\n31   Pending                      NaN  vyfch6hgxdytyif8",
      "text/html": "<div>\n<style scoped>\n    .dataframe tbody tr th:only-of-type {\n        vertical-align: middle;\n    }\n\n    .dataframe tbody tr th {\n        vertical-align: top;\n    }\n\n    .dataframe thead th {\n        text-align: right;\n    }\n</style>\n<table border=\"1\" class=\"dataframe\">\n  <thead>\n    <tr style=\"text-align: right;\">\n      <th></th>\n      <th>Response</th>\n      <th>Date</th>\n      <th>username</th>\n    </tr>\n  </thead>\n  <tbody>\n    <tr>\n      <th>0</th>\n      <td>Accepted</td>\n      <td>2023-02-09 15:31:07 CST</td>\n      <td>yrt8xs813igditgz</td>\n    </tr>\n    <tr>\n      <th>1</th>\n      <td>Accepted</td>\n      <td>2023-02-09 15:33:50 CST</td>\n      <td>rji9hbbttmzgb6y4</td>\n    </tr>\n    <tr>\n      <th>2</th>\n      <td>Pending</td>\n      <td>NaN</td>\n      <td>46qrzbdjn6g0n52v</td>\n    </tr>\n    <tr>\n      <th>3</th>\n      <td>Accepted</td>\n      <td>2023-02-09 15:33:49 CST</td>\n      <td>epi26cka2znken6w</td>\n    </tr>\n    <tr>\n      <th>4</th>\n      <td>Accepted</td>\n      <td>2023-02-09 15:33:49 CST</td>\n      <td>tsj74p5x2ql6prfl</td>\n    </tr>\n    <tr>\n      <th>5</th>\n      <td>Accepted</td>\n      <td>2023-02-09 15:33:47 CST</td>\n      <td>7djouhvdhlxc65ny</td>\n    </tr>\n    <tr>\n      <th>6</th>\n      <td>Accepted</td>\n      <td>2023-02-09 15:33:21 CST</td>\n      <td>nl3qdwp6er8xvu5d</td>\n    </tr>\n    <tr>\n      <th>7</th>\n      <td>Accepted</td>\n      <td>2023-02-09 15:30:54 CST</td>\n      <td>mqsnh4oabvy2mggn</td>\n    </tr>\n    <tr>\n      <th>8</th>\n      <td>Accepted</td>\n      <td>2023-02-09 15:32:41 CST</td>\n      <td>ax4c746fnw4juulw</td>\n    </tr>\n    <tr>\n      <th>9</th>\n      <td>Pending</td>\n      <td>NaN</td>\n      <td>77el9hzjfccrd5zo</td>\n    </tr>\n    <tr>\n      <th>10</th>\n      <td>Accepted</td>\n      <td>2023-02-09 15:32:47 CST</td>\n      <td>xiju0v360vuo9qj4</td>\n    </tr>\n    <tr>\n      <th>11</th>\n      <td>Pending</td>\n      <td>NaN</td>\n      <td>qmgp281sxrl4s000</td>\n    </tr>\n    <tr>\n      <th>12</th>\n      <td>Pending</td>\n      <td>NaN</td>\n      <td>1uwkejl6mqs4tgd0</td>\n    </tr>\n    <tr>\n      <th>13</th>\n      <td>Accepted</td>\n      <td>2023-02-09 15:33:45 CST</td>\n      <td>w0i80tub2i7qw4qx</td>\n    </tr>\n    <tr>\n      <th>14</th>\n      <td>Accepted</td>\n      <td>2023-02-09 15:33:50 CST</td>\n      <td>fabd68qs9r8y1mwr</td>\n    </tr>\n    <tr>\n      <th>15</th>\n      <td>Accepted</td>\n      <td>2023-02-09 15:30:59 CST</td>\n      <td>qexbqig902xcxshh</td>\n    </tr>\n    <tr>\n      <th>16</th>\n      <td>Pending</td>\n      <td>NaN</td>\n      <td>r4ne991oz2nt40rq</td>\n    </tr>\n    <tr>\n      <th>17</th>\n      <td>Accepted</td>\n      <td>2023-02-09 15:33:51 CST</td>\n      <td>9j5orkg82tv1ako4</td>\n    </tr>\n    <tr>\n      <th>18</th>\n      <td>Accepted</td>\n      <td>2023-02-09 15:33:13 CST</td>\n      <td>ijylony3nyt4j4k9</td>\n    </tr>\n    <tr>\n      <th>19</th>\n      <td>Accepted</td>\n      <td>2023-02-09 15:33:50 CST</td>\n      <td>3j7at5i5ucg8xcc0</td>\n    </tr>\n    <tr>\n      <th>20</th>\n      <td>Pending</td>\n      <td>NaN</td>\n      <td>qaykfoffen4sqow9</td>\n    </tr>\n    <tr>\n      <th>21</th>\n      <td>Pending</td>\n      <td>NaN</td>\n      <td>4zt7m0ocmho8zr01</td>\n    </tr>\n    <tr>\n      <th>22</th>\n      <td>Accepted</td>\n      <td>2023-02-09 15:33:50 CST</td>\n      <td>vhnyc0l8t5u4o3fl</td>\n    </tr>\n    <tr>\n      <th>23</th>\n      <td>Pending</td>\n      <td>NaN</td>\n      <td>8imwv5fsqwptjh1i</td>\n    </tr>\n    <tr>\n      <th>24</th>\n      <td>Pending</td>\n      <td>NaN</td>\n      <td>75nf2u8lw8ym4hiu</td>\n    </tr>\n    <tr>\n      <th>25</th>\n      <td>Pending</td>\n      <td>NaN</td>\n      <td>cvf6er3n36qysbnf</td>\n    </tr>\n    <tr>\n      <th>26</th>\n      <td>Pending</td>\n      <td>NaN</td>\n      <td>aotylbmrd881g8oo</td>\n    </tr>\n    <tr>\n      <th>27</th>\n      <td>Pending</td>\n      <td>NaN</td>\n      <td>hc26aed182258rrw</td>\n    </tr>\n    <tr>\n      <th>28</th>\n      <td>Pending</td>\n      <td>NaN</td>\n      <td>zjuvhdbbq47c8sws</td>\n    </tr>\n    <tr>\n      <th>29</th>\n      <td>Pending</td>\n      <td>NaN</td>\n      <td>as3okqjxizifhq4s</td>\n    </tr>\n    <tr>\n      <th>30</th>\n      <td>Pending</td>\n      <td>NaN</td>\n      <td>45kwy6s0tn5uc5xo</td>\n    </tr>\n    <tr>\n      <th>31</th>\n      <td>Pending</td>\n      <td>NaN</td>\n      <td>vyfch6hgxdytyif8</td>\n    </tr>\n  </tbody>\n</table>\n</div>"
     },
     "execution_count": 16,
     "metadata": {},
     "output_type": "execute_result"
    }
   ],
   "source": [
    "merged_df"
   ],
   "metadata": {
    "collapsed": false,
    "pycharm": {
     "name": "#%%\n"
    }
   }
  },
  {
   "cell_type": "code",
   "execution_count": 17,
   "outputs": [],
   "source": [
    "merged_df.to_excel(f\"{path}/Consent stats {troop_name}.xlsx\",index=False)"
   ],
   "metadata": {
    "collapsed": false,
    "pycharm": {
     "name": "#%%\n"
    }
   }
  },
  {
   "cell_type": "markdown",
   "source": [
    "### Biometric report"
   ],
   "metadata": {
    "collapsed": false
   }
  },
  {
   "cell_type": "code",
   "execution_count": 18,
   "outputs": [
    {
     "name": "stdout",
     "output_type": "stream",
     "text": [
      "You chose C:/Users/sam070/Downloads/Users (21).csv\n"
     ]
    }
   ],
   "source": [
    "currdir = os.getcwd()\n",
    "user_file_path = tkinter.filedialog.askopenfilename(parent=root, initialdir=currdir, title='Please choose the users CSV file from moodle with current onboarding troop ')\n",
    "if len(user_file_path) > 0:\n",
    "    print(\"You chose %s\" % user_file_path)"
   ],
   "metadata": {
    "collapsed": false,
    "pycharm": {
     "name": "#%%\n"
    }
   }
  },
  {
   "cell_type": "code",
   "execution_count": 19,
   "outputs": [],
   "source": [
    "user_data_df = pd.read_csv(user_file_path)"
   ],
   "metadata": {
    "collapsed": false,
    "pycharm": {
     "name": "#%%\n"
    }
   }
  },
  {
   "cell_type": "code",
   "execution_count": 20,
   "outputs": [],
   "source": [
    "user_data_df['profile_field_Sex'] = user_data_df['profile_field_Sex'].str.replace('<span lang=\"en\" class=\"multilang\">Male</span><span lang=\"fr\" class=\"multilang\"> Masculin</span>','Male')\n",
    "user_data_df['profile_field_Sex'] = user_data_df['profile_field_Sex'].str.replace('<span lang=\"en\" class=\"multilang\">Female</span><span lang=\"fr\" class=\"multilang\"> Féminin</span>','Female')"
   ],
   "metadata": {
    "collapsed": false,
    "pycharm": {
     "name": "#%%\n"
    }
   }
  },
  {
   "cell_type": "code",
   "execution_count": 21,
   "outputs": [],
   "source": [
    "user_data_df['profile_field_language_pref'] = user_data_df['profile_field_language_pref'].str.replace('<span lang=\"en\" class=\"multilang\">English</span><span lang=\"fr\" class=\"multilang\"> Anglais</span>','English')\n",
    "user_data_df['profile_field_language_pref'] = user_data_df['profile_field_language_pref'].str.replace('<span lang=\"en\" class=\"multilang\">French</span><span lang=\"fr\" class=\"multilang\"> Français</span>','French')"
   ],
   "metadata": {
    "collapsed": false,
    "pycharm": {
     "name": "#%%\n"
    }
   }
  },
  {
   "cell_type": "code",
   "execution_count": 22,
   "outputs": [],
   "source": [
    "user_data_df.drop(['id', 'idnumber', 'institution','phone1','phone2','city','url','icq','skype','aim','yahoo','msn','country','profile_field_Deployment','profile_field_iPhone','profile_field_Apple_Watch','profile_field_scgdeviceserialnumber','profile_field_SQ_1','profile_field_PR_1','profile_field_troopnumber','profile_field_consent','profile_field_removedfromstudy','profile_field_numdailysurveys','profile_field_nummonthlysurveys','profile_field_signedcommconsent','profile_field_phonelocked','profile_field_comments','profile_field_name','profile_field_newtroop','profile_field_oldtroop','profile_field_byod','profile_field_backtrooped','profile_field_dateoflastmonthly','profile_field_time1initialsurvey','profile_field_time2predsurvey','profile_field_annualsurvey3','profile_field_annualsurvey4','profile_field_annualsurvey5','profile_field_annualsurvey6','profile_field_annualsurvey7','profile_field_time1initialinterview','profile_field_time2predinterview','profile_field_time3annualinterview','profile_field_dateoflastdaily','profile_field_llarecordingnumber','profile_field_llarecordingdate','profile_field_lastwatchuploaddate','profile_field_kitReturnPhone',\n",
    "                   'profile_field_kitReturnWatch','profile_field_kitReturnBIO','profile_field_annualinterviewT4','profile_field_annualinterviewT5','profile_field_annualinterviewT6','profile_field_annualinterviewT7','profile_field_datefrstmsegd','profile_field_datelstmsged','profile_field_totalreminders','profile_field_phnelockednotes','profile_field_activitiesreqd','profile_field_compliance','profile_field_legend','profile_field_legdtsts'], inplace=True, axis=1)"
   ],
   "metadata": {
    "collapsed": false,
    "pycharm": {
     "name": "#%%\n"
    }
   }
  },
  {
   "cell_type": "code",
   "execution_count": 23,
   "outputs": [
    {
     "data": {
      "text/plain": "            username                        email       firstname  \\\n0   1uwkejl6mqs4tgd0  1uwkejl6mqs4tgd0@uregina.ca  Participant ID   \n1   3j7at5i5ucg8xcc0  3j7at5i5ucg8xcc0@uregina.ca  Participant ID   \n2   45kwy6s0tn5uc5xo  45kwy6s0tn5uc5xo@uregina.ca  Participant ID   \n3   46qrzbdjn6g0n52v  46qrzbdjn6g0n52v@uregina.ca  Participant ID   \n4   4zt7m0ocmho8zr01  4zt7m0ocmho8zr01@uregina.ca  Participant ID   \n5   75nf2u8lw8ym4hiu  75nf2u8lw8ym4hiu@uregina.ca  Participant ID   \n6   77el9hzjfccrd5zo  77el9hzjfccrd5zo@uregina.ca  Participant ID   \n7   7djouhvdhlxc65ny  7djouhvdhlxc65ny@uregina.ca  Participant ID   \n8   8imwv5fsqwptjh1i  8imwv5fsqwptjh1i@uregina.ca  Participant ID   \n9   9j5orkg82tv1ako4  9j5orkg82tv1ako4@uregina.ca  Participant ID   \n10  aotylbmrd881g8oo  aotylbmrd881g8oo@uregina.ca  Participant ID   \n11  as3okqjxizifhq4s  as3okqjxizifhq4s@uregina.ca  Participant ID   \n12  ax4c746fnw4juulw  ax4c746fnw4juulw@uregina.ca  Participant ID   \n13  cvf6er3n36qysbnf  cvf6er3n36qysbnf@uregina.ca  Participant ID   \n14  epi26cka2znken6w  epi26cka2znken6w@uregina.ca  Participant ID   \n15  fabd68qs9r8y1mwr  fabd68qs9r8y1mwr@uregina.ca  Participant ID   \n16  hc26aed182258rrw  hc26aed182258rrw@uregina.ca  Participant ID   \n17  ijylony3nyt4j4k9  ijylony3nyt4j4k9@uregina.ca  Participant ID   \n18  mqsnh4oabvy2mggn  mqsnh4oabvy2mggn@uregina.ca  Participant ID   \n19  nl3qdwp6er8xvu5d  nl3qdwp6er8xvu5d@uregina.ca  Participant ID   \n20  qaykfoffen4sqow9  qaykfoffen4sqow9@uregina.ca  Participant ID   \n21  qexbqig902xcxshh  qexbqig902xcxshh@uregina.ca  Participant ID   \n22  qmgp281sxrl4s000  qmgp281sxrl4s000@uregina.ca  Participant ID   \n23  r4ne991oz2nt40rq  r4ne991oz2nt40rq@uregina.ca  Participant ID   \n24  rji9hbbttmzgb6y4  rji9hbbttmzgb6y4@uregina.ca  Participant ID   \n25  tsj74p5x2ql6prfl  tsj74p5x2ql6prfl@uregina.ca  Participant ID   \n26  vhnyc0l8t5u4o3fl  vhnyc0l8t5u4o3fl@uregina.ca  Participant ID   \n27  vyfch6hgxdytyif8  vyfch6hgxdytyif8@uregina.ca  Participant ID   \n28  w0i80tub2i7qw4qx  w0i80tub2i7qw4qx@uregina.ca  Participant ID   \n29  xiju0v360vuo9qj4  xiju0v360vuo9qj4@uregina.ca  Participant ID   \n30  yrt8xs813igditgz  yrt8xs813igditgz@uregina.ca  Participant ID   \n31  zjuvhdbbq47c8sws  zjuvhdbbq47c8sws@uregina.ca  Participant ID   \n\n            lastname      department profile_field_Weight profile_field_Sex  \\\n0   1uwkejl6mqs4tgd0  Troop 36 22/23                  NaN               NaN   \n1   3j7at5i5ucg8xcc0  Troop 36 22/23                  200              Male   \n2   45kwy6s0tn5uc5xo  Troop 36 22/23                  NaN               NaN   \n3   46qrzbdjn6g0n52v  Troop 36 22/23                  NaN               NaN   \n4   4zt7m0ocmho8zr01  Troop 36 22/23                  NaN               NaN   \n5   75nf2u8lw8ym4hiu  Troop 36 22/23                  NaN               NaN   \n6   77el9hzjfccrd5zo  Troop 36 22/23                  NaN               NaN   \n7   7djouhvdhlxc65ny  Troop 36 22/23                  195              Male   \n8   8imwv5fsqwptjh1i  Troop 36 22/23                  NaN               NaN   \n9   9j5orkg82tv1ako4  Troop 36 22/23                  210              Male   \n10  aotylbmrd881g8oo  Troop 36 22/23                  NaN               NaN   \n11  as3okqjxizifhq4s  Troop 36 22/23                  NaN               NaN   \n12  ax4c746fnw4juulw  Troop 36 22/23                  140            Female   \n13  cvf6er3n36qysbnf  Troop 36 22/23                  NaN               NaN   \n14  epi26cka2znken6w  Troop 36 22/23                  170              Male   \n15  fabd68qs9r8y1mwr  Troop 36 22/23                  205              Male   \n16  hc26aed182258rrw  Troop 36 22/23                  NaN               NaN   \n17  ijylony3nyt4j4k9  Troop 36 22/23                  140              Male   \n18  mqsnh4oabvy2mggn  Troop 36 22/23                  150              Male   \n19  nl3qdwp6er8xvu5d  Troop 36 22/23                  176              Male   \n20  qaykfoffen4sqow9  Troop 36 22/23                  NaN               NaN   \n21  qexbqig902xcxshh  Troop 36 22/23                  150              Male   \n22  qmgp281sxrl4s000  Troop 36 22/23                  NaN               NaN   \n23  r4ne991oz2nt40rq  Troop 36 22/23                  NaN               NaN   \n24  rji9hbbttmzgb6y4  Troop 36 22/23                  198              Male   \n25  tsj74p5x2ql6prfl  Troop 36 22/23               190lbs              Male   \n26  vhnyc0l8t5u4o3fl  Troop 36 22/23                 185               Male   \n27  vyfch6hgxdytyif8  Troop 36 22/23                  NaN               NaN   \n28  w0i80tub2i7qw4qx  Troop 36 22/23                  140            Female   \n29  xiju0v360vuo9qj4  Troop 36 22/23                  154              Male   \n30  yrt8xs813igditgz  Troop 36 22/23                  185              Male   \n31  zjuvhdbbq47c8sws  Troop 36 22/23                  NaN               NaN   \n\n   profile_field_language_pref profile_field_Year_of_Birth2  \\\n0                          NaN                          NaN   \n1                      English                         2002   \n2                          NaN                          NaN   \n3                          NaN                          NaN   \n4                          NaN                          NaN   \n5                          NaN                          NaN   \n6                          NaN                          NaN   \n7                      English                         1988   \n8                          NaN                          NaN   \n9                      English                         1987   \n10                         NaN                          NaN   \n11                         NaN                          NaN   \n12                     English                         2001   \n13                         NaN                          NaN   \n14                     English                         1997   \n15                     English                         1981   \n16                         NaN                          NaN   \n17                     English                         1985   \n18                     English                         2001   \n19                     English                   1993-02-22   \n20                         NaN                          NaN   \n21                     English                         1999   \n22                         NaN                          NaN   \n23                         NaN                          NaN   \n24                     English                           22   \n25                     English                         1993   \n26                     English                         1997   \n27                         NaN                          NaN   \n28                     English                         2000   \n29                     English                         1992   \n30                     English                   1992-08-02   \n31                         NaN                          NaN   \n\n    profile_field_Feet  profile_field_Inches  \n0                  NaN                   NaN  \n1                  6.0                   5.0  \n2                  NaN                   NaN  \n3                  NaN                   NaN  \n4                  NaN                   NaN  \n5                  NaN                   NaN  \n6                  NaN                   NaN  \n7                  5.0                  11.0  \n8                  NaN                   NaN  \n9                  5.0                   6.0  \n10                 NaN                   NaN  \n11                 NaN                   NaN  \n12                 5.0                   1.0  \n13                 NaN                   NaN  \n14                 5.0                  10.0  \n15                 6.0                   0.0  \n16                 NaN                   NaN  \n17                 5.0                   6.0  \n18                 5.0                  11.0  \n19                 5.0                   9.0  \n20                 NaN                   NaN  \n21                 5.0                   5.0  \n22                 NaN                   NaN  \n23                 NaN                   NaN  \n24                 6.0                   6.0  \n25                 6.0                   1.0  \n26                 5.0                   8.0  \n27                 NaN                   NaN  \n28                 5.0                   8.0  \n29                 5.0                  10.0  \n30                 6.0                   0.0  \n31                 NaN                   NaN  ",
      "text/html": "<div>\n<style scoped>\n    .dataframe tbody tr th:only-of-type {\n        vertical-align: middle;\n    }\n\n    .dataframe tbody tr th {\n        vertical-align: top;\n    }\n\n    .dataframe thead th {\n        text-align: right;\n    }\n</style>\n<table border=\"1\" class=\"dataframe\">\n  <thead>\n    <tr style=\"text-align: right;\">\n      <th></th>\n      <th>username</th>\n      <th>email</th>\n      <th>firstname</th>\n      <th>lastname</th>\n      <th>department</th>\n      <th>profile_field_Weight</th>\n      <th>profile_field_Sex</th>\n      <th>profile_field_language_pref</th>\n      <th>profile_field_Year_of_Birth2</th>\n      <th>profile_field_Feet</th>\n      <th>profile_field_Inches</th>\n    </tr>\n  </thead>\n  <tbody>\n    <tr>\n      <th>0</th>\n      <td>1uwkejl6mqs4tgd0</td>\n      <td>1uwkejl6mqs4tgd0@uregina.ca</td>\n      <td>Participant ID</td>\n      <td>1uwkejl6mqs4tgd0</td>\n      <td>Troop 36 22/23</td>\n      <td>NaN</td>\n      <td>NaN</td>\n      <td>NaN</td>\n      <td>NaN</td>\n      <td>NaN</td>\n      <td>NaN</td>\n    </tr>\n    <tr>\n      <th>1</th>\n      <td>3j7at5i5ucg8xcc0</td>\n      <td>3j7at5i5ucg8xcc0@uregina.ca</td>\n      <td>Participant ID</td>\n      <td>3j7at5i5ucg8xcc0</td>\n      <td>Troop 36 22/23</td>\n      <td>200</td>\n      <td>Male</td>\n      <td>English</td>\n      <td>2002</td>\n      <td>6.0</td>\n      <td>5.0</td>\n    </tr>\n    <tr>\n      <th>2</th>\n      <td>45kwy6s0tn5uc5xo</td>\n      <td>45kwy6s0tn5uc5xo@uregina.ca</td>\n      <td>Participant ID</td>\n      <td>45kwy6s0tn5uc5xo</td>\n      <td>Troop 36 22/23</td>\n      <td>NaN</td>\n      <td>NaN</td>\n      <td>NaN</td>\n      <td>NaN</td>\n      <td>NaN</td>\n      <td>NaN</td>\n    </tr>\n    <tr>\n      <th>3</th>\n      <td>46qrzbdjn6g0n52v</td>\n      <td>46qrzbdjn6g0n52v@uregina.ca</td>\n      <td>Participant ID</td>\n      <td>46qrzbdjn6g0n52v</td>\n      <td>Troop 36 22/23</td>\n      <td>NaN</td>\n      <td>NaN</td>\n      <td>NaN</td>\n      <td>NaN</td>\n      <td>NaN</td>\n      <td>NaN</td>\n    </tr>\n    <tr>\n      <th>4</th>\n      <td>4zt7m0ocmho8zr01</td>\n      <td>4zt7m0ocmho8zr01@uregina.ca</td>\n      <td>Participant ID</td>\n      <td>4zt7m0ocmho8zr01</td>\n      <td>Troop 36 22/23</td>\n      <td>NaN</td>\n      <td>NaN</td>\n      <td>NaN</td>\n      <td>NaN</td>\n      <td>NaN</td>\n      <td>NaN</td>\n    </tr>\n    <tr>\n      <th>5</th>\n      <td>75nf2u8lw8ym4hiu</td>\n      <td>75nf2u8lw8ym4hiu@uregina.ca</td>\n      <td>Participant ID</td>\n      <td>75nf2u8lw8ym4hiu</td>\n      <td>Troop 36 22/23</td>\n      <td>NaN</td>\n      <td>NaN</td>\n      <td>NaN</td>\n      <td>NaN</td>\n      <td>NaN</td>\n      <td>NaN</td>\n    </tr>\n    <tr>\n      <th>6</th>\n      <td>77el9hzjfccrd5zo</td>\n      <td>77el9hzjfccrd5zo@uregina.ca</td>\n      <td>Participant ID</td>\n      <td>77el9hzjfccrd5zo</td>\n      <td>Troop 36 22/23</td>\n      <td>NaN</td>\n      <td>NaN</td>\n      <td>NaN</td>\n      <td>NaN</td>\n      <td>NaN</td>\n      <td>NaN</td>\n    </tr>\n    <tr>\n      <th>7</th>\n      <td>7djouhvdhlxc65ny</td>\n      <td>7djouhvdhlxc65ny@uregina.ca</td>\n      <td>Participant ID</td>\n      <td>7djouhvdhlxc65ny</td>\n      <td>Troop 36 22/23</td>\n      <td>195</td>\n      <td>Male</td>\n      <td>English</td>\n      <td>1988</td>\n      <td>5.0</td>\n      <td>11.0</td>\n    </tr>\n    <tr>\n      <th>8</th>\n      <td>8imwv5fsqwptjh1i</td>\n      <td>8imwv5fsqwptjh1i@uregina.ca</td>\n      <td>Participant ID</td>\n      <td>8imwv5fsqwptjh1i</td>\n      <td>Troop 36 22/23</td>\n      <td>NaN</td>\n      <td>NaN</td>\n      <td>NaN</td>\n      <td>NaN</td>\n      <td>NaN</td>\n      <td>NaN</td>\n    </tr>\n    <tr>\n      <th>9</th>\n      <td>9j5orkg82tv1ako4</td>\n      <td>9j5orkg82tv1ako4@uregina.ca</td>\n      <td>Participant ID</td>\n      <td>9j5orkg82tv1ako4</td>\n      <td>Troop 36 22/23</td>\n      <td>210</td>\n      <td>Male</td>\n      <td>English</td>\n      <td>1987</td>\n      <td>5.0</td>\n      <td>6.0</td>\n    </tr>\n    <tr>\n      <th>10</th>\n      <td>aotylbmrd881g8oo</td>\n      <td>aotylbmrd881g8oo@uregina.ca</td>\n      <td>Participant ID</td>\n      <td>aotylbmrd881g8oo</td>\n      <td>Troop 36 22/23</td>\n      <td>NaN</td>\n      <td>NaN</td>\n      <td>NaN</td>\n      <td>NaN</td>\n      <td>NaN</td>\n      <td>NaN</td>\n    </tr>\n    <tr>\n      <th>11</th>\n      <td>as3okqjxizifhq4s</td>\n      <td>as3okqjxizifhq4s@uregina.ca</td>\n      <td>Participant ID</td>\n      <td>as3okqjxizifhq4s</td>\n      <td>Troop 36 22/23</td>\n      <td>NaN</td>\n      <td>NaN</td>\n      <td>NaN</td>\n      <td>NaN</td>\n      <td>NaN</td>\n      <td>NaN</td>\n    </tr>\n    <tr>\n      <th>12</th>\n      <td>ax4c746fnw4juulw</td>\n      <td>ax4c746fnw4juulw@uregina.ca</td>\n      <td>Participant ID</td>\n      <td>ax4c746fnw4juulw</td>\n      <td>Troop 36 22/23</td>\n      <td>140</td>\n      <td>Female</td>\n      <td>English</td>\n      <td>2001</td>\n      <td>5.0</td>\n      <td>1.0</td>\n    </tr>\n    <tr>\n      <th>13</th>\n      <td>cvf6er3n36qysbnf</td>\n      <td>cvf6er3n36qysbnf@uregina.ca</td>\n      <td>Participant ID</td>\n      <td>cvf6er3n36qysbnf</td>\n      <td>Troop 36 22/23</td>\n      <td>NaN</td>\n      <td>NaN</td>\n      <td>NaN</td>\n      <td>NaN</td>\n      <td>NaN</td>\n      <td>NaN</td>\n    </tr>\n    <tr>\n      <th>14</th>\n      <td>epi26cka2znken6w</td>\n      <td>epi26cka2znken6w@uregina.ca</td>\n      <td>Participant ID</td>\n      <td>epi26cka2znken6w</td>\n      <td>Troop 36 22/23</td>\n      <td>170</td>\n      <td>Male</td>\n      <td>English</td>\n      <td>1997</td>\n      <td>5.0</td>\n      <td>10.0</td>\n    </tr>\n    <tr>\n      <th>15</th>\n      <td>fabd68qs9r8y1mwr</td>\n      <td>fabd68qs9r8y1mwr@uregina.ca</td>\n      <td>Participant ID</td>\n      <td>fabd68qs9r8y1mwr</td>\n      <td>Troop 36 22/23</td>\n      <td>205</td>\n      <td>Male</td>\n      <td>English</td>\n      <td>1981</td>\n      <td>6.0</td>\n      <td>0.0</td>\n    </tr>\n    <tr>\n      <th>16</th>\n      <td>hc26aed182258rrw</td>\n      <td>hc26aed182258rrw@uregina.ca</td>\n      <td>Participant ID</td>\n      <td>hc26aed182258rrw</td>\n      <td>Troop 36 22/23</td>\n      <td>NaN</td>\n      <td>NaN</td>\n      <td>NaN</td>\n      <td>NaN</td>\n      <td>NaN</td>\n      <td>NaN</td>\n    </tr>\n    <tr>\n      <th>17</th>\n      <td>ijylony3nyt4j4k9</td>\n      <td>ijylony3nyt4j4k9@uregina.ca</td>\n      <td>Participant ID</td>\n      <td>ijylony3nyt4j4k9</td>\n      <td>Troop 36 22/23</td>\n      <td>140</td>\n      <td>Male</td>\n      <td>English</td>\n      <td>1985</td>\n      <td>5.0</td>\n      <td>6.0</td>\n    </tr>\n    <tr>\n      <th>18</th>\n      <td>mqsnh4oabvy2mggn</td>\n      <td>mqsnh4oabvy2mggn@uregina.ca</td>\n      <td>Participant ID</td>\n      <td>mqsnh4oabvy2mggn</td>\n      <td>Troop 36 22/23</td>\n      <td>150</td>\n      <td>Male</td>\n      <td>English</td>\n      <td>2001</td>\n      <td>5.0</td>\n      <td>11.0</td>\n    </tr>\n    <tr>\n      <th>19</th>\n      <td>nl3qdwp6er8xvu5d</td>\n      <td>nl3qdwp6er8xvu5d@uregina.ca</td>\n      <td>Participant ID</td>\n      <td>nl3qdwp6er8xvu5d</td>\n      <td>Troop 36 22/23</td>\n      <td>176</td>\n      <td>Male</td>\n      <td>English</td>\n      <td>1993-02-22</td>\n      <td>5.0</td>\n      <td>9.0</td>\n    </tr>\n    <tr>\n      <th>20</th>\n      <td>qaykfoffen4sqow9</td>\n      <td>qaykfoffen4sqow9@uregina.ca</td>\n      <td>Participant ID</td>\n      <td>qaykfoffen4sqow9</td>\n      <td>Troop 36 22/23</td>\n      <td>NaN</td>\n      <td>NaN</td>\n      <td>NaN</td>\n      <td>NaN</td>\n      <td>NaN</td>\n      <td>NaN</td>\n    </tr>\n    <tr>\n      <th>21</th>\n      <td>qexbqig902xcxshh</td>\n      <td>qexbqig902xcxshh@uregina.ca</td>\n      <td>Participant ID</td>\n      <td>qexbqig902xcxshh</td>\n      <td>Troop 36 22/23</td>\n      <td>150</td>\n      <td>Male</td>\n      <td>English</td>\n      <td>1999</td>\n      <td>5.0</td>\n      <td>5.0</td>\n    </tr>\n    <tr>\n      <th>22</th>\n      <td>qmgp281sxrl4s000</td>\n      <td>qmgp281sxrl4s000@uregina.ca</td>\n      <td>Participant ID</td>\n      <td>qmgp281sxrl4s000</td>\n      <td>Troop 36 22/23</td>\n      <td>NaN</td>\n      <td>NaN</td>\n      <td>NaN</td>\n      <td>NaN</td>\n      <td>NaN</td>\n      <td>NaN</td>\n    </tr>\n    <tr>\n      <th>23</th>\n      <td>r4ne991oz2nt40rq</td>\n      <td>r4ne991oz2nt40rq@uregina.ca</td>\n      <td>Participant ID</td>\n      <td>r4ne991oz2nt40rq</td>\n      <td>Troop 36 22/23</td>\n      <td>NaN</td>\n      <td>NaN</td>\n      <td>NaN</td>\n      <td>NaN</td>\n      <td>NaN</td>\n      <td>NaN</td>\n    </tr>\n    <tr>\n      <th>24</th>\n      <td>rji9hbbttmzgb6y4</td>\n      <td>rji9hbbttmzgb6y4@uregina.ca</td>\n      <td>Participant ID</td>\n      <td>rji9hbbttmzgb6y4</td>\n      <td>Troop 36 22/23</td>\n      <td>198</td>\n      <td>Male</td>\n      <td>English</td>\n      <td>22</td>\n      <td>6.0</td>\n      <td>6.0</td>\n    </tr>\n    <tr>\n      <th>25</th>\n      <td>tsj74p5x2ql6prfl</td>\n      <td>tsj74p5x2ql6prfl@uregina.ca</td>\n      <td>Participant ID</td>\n      <td>tsj74p5x2ql6prfl</td>\n      <td>Troop 36 22/23</td>\n      <td>190lbs</td>\n      <td>Male</td>\n      <td>English</td>\n      <td>1993</td>\n      <td>6.0</td>\n      <td>1.0</td>\n    </tr>\n    <tr>\n      <th>26</th>\n      <td>vhnyc0l8t5u4o3fl</td>\n      <td>vhnyc0l8t5u4o3fl@uregina.ca</td>\n      <td>Participant ID</td>\n      <td>vhnyc0l8t5u4o3fl</td>\n      <td>Troop 36 22/23</td>\n      <td>185</td>\n      <td>Male</td>\n      <td>English</td>\n      <td>1997</td>\n      <td>5.0</td>\n      <td>8.0</td>\n    </tr>\n    <tr>\n      <th>27</th>\n      <td>vyfch6hgxdytyif8</td>\n      <td>vyfch6hgxdytyif8@uregina.ca</td>\n      <td>Participant ID</td>\n      <td>vyfch6hgxdytyif8</td>\n      <td>Troop 36 22/23</td>\n      <td>NaN</td>\n      <td>NaN</td>\n      <td>NaN</td>\n      <td>NaN</td>\n      <td>NaN</td>\n      <td>NaN</td>\n    </tr>\n    <tr>\n      <th>28</th>\n      <td>w0i80tub2i7qw4qx</td>\n      <td>w0i80tub2i7qw4qx@uregina.ca</td>\n      <td>Participant ID</td>\n      <td>w0i80tub2i7qw4qx</td>\n      <td>Troop 36 22/23</td>\n      <td>140</td>\n      <td>Female</td>\n      <td>English</td>\n      <td>2000</td>\n      <td>5.0</td>\n      <td>8.0</td>\n    </tr>\n    <tr>\n      <th>29</th>\n      <td>xiju0v360vuo9qj4</td>\n      <td>xiju0v360vuo9qj4@uregina.ca</td>\n      <td>Participant ID</td>\n      <td>xiju0v360vuo9qj4</td>\n      <td>Troop 36 22/23</td>\n      <td>154</td>\n      <td>Male</td>\n      <td>English</td>\n      <td>1992</td>\n      <td>5.0</td>\n      <td>10.0</td>\n    </tr>\n    <tr>\n      <th>30</th>\n      <td>yrt8xs813igditgz</td>\n      <td>yrt8xs813igditgz@uregina.ca</td>\n      <td>Participant ID</td>\n      <td>yrt8xs813igditgz</td>\n      <td>Troop 36 22/23</td>\n      <td>185</td>\n      <td>Male</td>\n      <td>English</td>\n      <td>1992-08-02</td>\n      <td>6.0</td>\n      <td>0.0</td>\n    </tr>\n    <tr>\n      <th>31</th>\n      <td>zjuvhdbbq47c8sws</td>\n      <td>zjuvhdbbq47c8sws@uregina.ca</td>\n      <td>Participant ID</td>\n      <td>zjuvhdbbq47c8sws</td>\n      <td>Troop 36 22/23</td>\n      <td>NaN</td>\n      <td>NaN</td>\n      <td>NaN</td>\n      <td>NaN</td>\n      <td>NaN</td>\n      <td>NaN</td>\n    </tr>\n  </tbody>\n</table>\n</div>"
     },
     "execution_count": 23,
     "metadata": {},
     "output_type": "execute_result"
    }
   ],
   "source": [
    "user_data_df"
   ],
   "metadata": {
    "collapsed": false,
    "pycharm": {
     "name": "#%%\n"
    }
   }
  },
  {
   "cell_type": "code",
   "execution_count": 24,
   "outputs": [],
   "source": [
    "user_data_df.to_csv(f\"{path}/Biometric report {troop_name}.csv\",index=False)"
   ],
   "metadata": {
    "collapsed": false,
    "pycharm": {
     "name": "#%%\n"
    }
   }
  },
  {
   "cell_type": "markdown",
   "source": [
    "## BYOD report making"
   ],
   "metadata": {
    "collapsed": false
   }
  },
  {
   "cell_type": "markdown",
   "source": [
    "it is making a dummy report as they are going forward set all byod=yes"
   ],
   "metadata": {
    "collapsed": false
   }
  },
  {
   "cell_type": "code",
   "execution_count": 25,
   "outputs": [],
   "source": [
    "byods = pd.Series([\"Yes\" for x in range(len(user_data_df.index))])"
   ],
   "metadata": {
    "collapsed": false,
    "pycharm": {
     "name": "#%%\n"
    }
   }
  },
  {
   "cell_type": "code",
   "execution_count": 26,
   "outputs": [],
   "source": [
    "byods_dataframe = pd.DataFrame()"
   ],
   "metadata": {
    "collapsed": false,
    "pycharm": {
     "name": "#%%\n"
    }
   }
  },
  {
   "cell_type": "code",
   "execution_count": 27,
   "outputs": [],
   "source": [
    "byods_dataframe['username'] = user_data_df['username']\n",
    "byods_dataframe['byod'] = byods"
   ],
   "metadata": {
    "collapsed": false,
    "pycharm": {
     "name": "#%%\n"
    }
   }
  },
  {
   "cell_type": "code",
   "execution_count": 28,
   "outputs": [],
   "source": [
    "byods_dataframe.to_csv(f\"{path}/BYOD report {troop_name}.csv\",index=False)"
   ],
   "metadata": {
    "collapsed": false,
    "pycharm": {
     "name": "#%%\n"
    }
   }
  },
  {
   "cell_type": "code",
   "execution_count": 29,
   "outputs": [
    {
     "data": {
      "text/plain": "            username byod\n0   1uwkejl6mqs4tgd0  Yes\n1   3j7at5i5ucg8xcc0  Yes\n2   45kwy6s0tn5uc5xo  Yes\n3   46qrzbdjn6g0n52v  Yes\n4   4zt7m0ocmho8zr01  Yes\n5   75nf2u8lw8ym4hiu  Yes\n6   77el9hzjfccrd5zo  Yes\n7   7djouhvdhlxc65ny  Yes\n8   8imwv5fsqwptjh1i  Yes\n9   9j5orkg82tv1ako4  Yes\n10  aotylbmrd881g8oo  Yes\n11  as3okqjxizifhq4s  Yes\n12  ax4c746fnw4juulw  Yes\n13  cvf6er3n36qysbnf  Yes\n14  epi26cka2znken6w  Yes\n15  fabd68qs9r8y1mwr  Yes\n16  hc26aed182258rrw  Yes\n17  ijylony3nyt4j4k9  Yes\n18  mqsnh4oabvy2mggn  Yes\n19  nl3qdwp6er8xvu5d  Yes\n20  qaykfoffen4sqow9  Yes\n21  qexbqig902xcxshh  Yes\n22  qmgp281sxrl4s000  Yes\n23  r4ne991oz2nt40rq  Yes\n24  rji9hbbttmzgb6y4  Yes\n25  tsj74p5x2ql6prfl  Yes\n26  vhnyc0l8t5u4o3fl  Yes\n27  vyfch6hgxdytyif8  Yes\n28  w0i80tub2i7qw4qx  Yes\n29  xiju0v360vuo9qj4  Yes\n30  yrt8xs813igditgz  Yes\n31  zjuvhdbbq47c8sws  Yes",
      "text/html": "<div>\n<style scoped>\n    .dataframe tbody tr th:only-of-type {\n        vertical-align: middle;\n    }\n\n    .dataframe tbody tr th {\n        vertical-align: top;\n    }\n\n    .dataframe thead th {\n        text-align: right;\n    }\n</style>\n<table border=\"1\" class=\"dataframe\">\n  <thead>\n    <tr style=\"text-align: right;\">\n      <th></th>\n      <th>username</th>\n      <th>byod</th>\n    </tr>\n  </thead>\n  <tbody>\n    <tr>\n      <th>0</th>\n      <td>1uwkejl6mqs4tgd0</td>\n      <td>Yes</td>\n    </tr>\n    <tr>\n      <th>1</th>\n      <td>3j7at5i5ucg8xcc0</td>\n      <td>Yes</td>\n    </tr>\n    <tr>\n      <th>2</th>\n      <td>45kwy6s0tn5uc5xo</td>\n      <td>Yes</td>\n    </tr>\n    <tr>\n      <th>3</th>\n      <td>46qrzbdjn6g0n52v</td>\n      <td>Yes</td>\n    </tr>\n    <tr>\n      <th>4</th>\n      <td>4zt7m0ocmho8zr01</td>\n      <td>Yes</td>\n    </tr>\n    <tr>\n      <th>5</th>\n      <td>75nf2u8lw8ym4hiu</td>\n      <td>Yes</td>\n    </tr>\n    <tr>\n      <th>6</th>\n      <td>77el9hzjfccrd5zo</td>\n      <td>Yes</td>\n    </tr>\n    <tr>\n      <th>7</th>\n      <td>7djouhvdhlxc65ny</td>\n      <td>Yes</td>\n    </tr>\n    <tr>\n      <th>8</th>\n      <td>8imwv5fsqwptjh1i</td>\n      <td>Yes</td>\n    </tr>\n    <tr>\n      <th>9</th>\n      <td>9j5orkg82tv1ako4</td>\n      <td>Yes</td>\n    </tr>\n    <tr>\n      <th>10</th>\n      <td>aotylbmrd881g8oo</td>\n      <td>Yes</td>\n    </tr>\n    <tr>\n      <th>11</th>\n      <td>as3okqjxizifhq4s</td>\n      <td>Yes</td>\n    </tr>\n    <tr>\n      <th>12</th>\n      <td>ax4c746fnw4juulw</td>\n      <td>Yes</td>\n    </tr>\n    <tr>\n      <th>13</th>\n      <td>cvf6er3n36qysbnf</td>\n      <td>Yes</td>\n    </tr>\n    <tr>\n      <th>14</th>\n      <td>epi26cka2znken6w</td>\n      <td>Yes</td>\n    </tr>\n    <tr>\n      <th>15</th>\n      <td>fabd68qs9r8y1mwr</td>\n      <td>Yes</td>\n    </tr>\n    <tr>\n      <th>16</th>\n      <td>hc26aed182258rrw</td>\n      <td>Yes</td>\n    </tr>\n    <tr>\n      <th>17</th>\n      <td>ijylony3nyt4j4k9</td>\n      <td>Yes</td>\n    </tr>\n    <tr>\n      <th>18</th>\n      <td>mqsnh4oabvy2mggn</td>\n      <td>Yes</td>\n    </tr>\n    <tr>\n      <th>19</th>\n      <td>nl3qdwp6er8xvu5d</td>\n      <td>Yes</td>\n    </tr>\n    <tr>\n      <th>20</th>\n      <td>qaykfoffen4sqow9</td>\n      <td>Yes</td>\n    </tr>\n    <tr>\n      <th>21</th>\n      <td>qexbqig902xcxshh</td>\n      <td>Yes</td>\n    </tr>\n    <tr>\n      <th>22</th>\n      <td>qmgp281sxrl4s000</td>\n      <td>Yes</td>\n    </tr>\n    <tr>\n      <th>23</th>\n      <td>r4ne991oz2nt40rq</td>\n      <td>Yes</td>\n    </tr>\n    <tr>\n      <th>24</th>\n      <td>rji9hbbttmzgb6y4</td>\n      <td>Yes</td>\n    </tr>\n    <tr>\n      <th>25</th>\n      <td>tsj74p5x2ql6prfl</td>\n      <td>Yes</td>\n    </tr>\n    <tr>\n      <th>26</th>\n      <td>vhnyc0l8t5u4o3fl</td>\n      <td>Yes</td>\n    </tr>\n    <tr>\n      <th>27</th>\n      <td>vyfch6hgxdytyif8</td>\n      <td>Yes</td>\n    </tr>\n    <tr>\n      <th>28</th>\n      <td>w0i80tub2i7qw4qx</td>\n      <td>Yes</td>\n    </tr>\n    <tr>\n      <th>29</th>\n      <td>xiju0v360vuo9qj4</td>\n      <td>Yes</td>\n    </tr>\n    <tr>\n      <th>30</th>\n      <td>yrt8xs813igditgz</td>\n      <td>Yes</td>\n    </tr>\n    <tr>\n      <th>31</th>\n      <td>zjuvhdbbq47c8sws</td>\n      <td>Yes</td>\n    </tr>\n  </tbody>\n</table>\n</div>"
     },
     "execution_count": 29,
     "metadata": {},
     "output_type": "execute_result"
    }
   ],
   "source": [
    "byods_dataframe"
   ],
   "metadata": {
    "collapsed": false,
    "pycharm": {
     "name": "#%%\n"
    }
   }
  },
  {
   "cell_type": "code",
   "execution_count": null,
   "outputs": [],
   "source": [
    "from tkinter import messagebox\n",
    "messagebox.showinfo(\"Success\", \"Post onboarding Script completed running!!\")"
   ],
   "metadata": {
    "collapsed": false,
    "pycharm": {
     "name": "#%%\n"
    }
   }
  },
  {
   "cell_type": "markdown",
   "source": [
    "# Finally\n",
    "Now with this script you have 3 files. Download the clinical interview schedule export file as mentioned in the wiki.\n",
    "copy the schedule file downloaded to the \"Post onboarding reports file output\" folder, then rename it to ** Clinical interview schedule report for troop ##### **.\n",
    "\n",
    "Next these files should be sent to John and team via email, cc Donna. And upload them to the T drive :\n",
    "T:\\CCJS\\RCMP\\Participant and Inventory\\Team 2 - Troop Folders\\Troop #######\n",
    "\n",
    "in the email mention the number of participants.\n"
   ],
   "metadata": {
    "collapsed": false,
    "pycharm": {
     "name": "#%% md\n"
    }
   }
  }
 ],
 "metadata": {
  "kernelspec": {
   "display_name": "Python 3",
   "language": "python",
   "name": "python3"
  },
  "language_info": {
   "codemirror_mode": {
    "name": "ipython",
    "version": 2
   },
   "file_extension": ".py",
   "mimetype": "text/x-python",
   "name": "python",
   "nbconvert_exporter": "python",
   "pygments_lexer": "ipython2",
   "version": "2.7.6"
  }
 },
 "nbformat": 4,
 "nbformat_minor": 0
}