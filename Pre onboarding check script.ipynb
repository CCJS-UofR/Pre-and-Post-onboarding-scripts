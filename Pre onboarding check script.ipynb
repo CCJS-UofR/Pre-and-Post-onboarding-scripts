{
 "cells": [
  {
   "cell_type": "code",
   "execution_count": 1,
   "metadata": {
    "collapsed": true
   },
   "outputs": [],
   "source": [
    "# Importing libraries\n",
    "import numpy as np\n",
    "import pandas as pd\n",
    "from datetime import date, datetime\n",
    "import tkinter as tk\n",
    "import tkinter.filedialog\n",
    "import os\n",
    "import ntpath\n",
    "import numpy as np"
   ]
  },
  {
   "cell_type": "code",
   "execution_count": 2,
   "outputs": [
    {
     "data": {
      "text/plain": "''"
     },
     "execution_count": 2,
     "metadata": {},
     "output_type": "execute_result"
    }
   ],
   "source": [
    "# tkinter setup\n",
    "\n",
    "root = tk.Tk()\n",
    "root.withdraw()  # used to hide tkinter window"
   ],
   "metadata": {
    "collapsed": false,
    "pycharm": {
     "name": "#%%\n"
    }
   }
  },
  {
   "cell_type": "code",
   "execution_count": 3,
   "outputs": [],
   "source": [
    "# Write the troop name here\n",
    "troop_id = input(\"Enter the name of the Troop such as Troop 34 22-23\")\n",
    "troop_name = \"for the \" + troop_id"
   ],
   "metadata": {
    "collapsed": false,
    "pycharm": {
     "name": "#%%\n"
    }
   }
  },
  {
   "cell_type": "code",
   "execution_count": 4,
   "outputs": [
    {
     "name": "stdout",
     "output_type": "stream",
     "text": [
      "Files output directory is set to: I:\\Templates, Scripts, and documents\\Report Scripts\\RCMP\\Consent and Onboarding data Script\\Upload file output\n"
     ]
    }
   ],
   "source": [
    "output_dir_name = \"Upload file output\"\n",
    "# create dir\n",
    "abs_path = os.getcwd()\n",
    "path = os.path.join(abs_path, output_dir_name)\n",
    "\n",
    "try:\n",
    "    if not os.path.exists(path):\n",
    "        os.mkdir(path)\n",
    "except OSError as error:\n",
    "    print(error)\n",
    "\n",
    "print(f\"Files output directory is set to: {path}\")"
   ],
   "metadata": {
    "collapsed": false,
    "pycharm": {
     "name": "#%%\n"
    }
   }
  },
  {
   "cell_type": "markdown",
   "source": [
    "# Pre-Onboarding Check"
   ],
   "metadata": {
    "collapsed": false,
    "pycharm": {
     "name": "#%% md\n"
    }
   }
  },
  {
   "cell_type": "markdown",
   "source": [
    "### Generating the consent report"
   ],
   "metadata": {
    "collapsed": false,
    "pycharm": {
     "name": "#%% md\n"
    }
   }
  },
  {
   "cell_type": "code",
   "execution_count": 5,
   "outputs": [
    {
     "name": "stdout",
     "output_type": "stream",
     "text": [
      "You chose C:/Users/sam070/Downloads/user_acceptances (32).csv\n"
     ]
    }
   ],
   "source": [
    "currdir = os.getcwd()\n",
    "consent_file_path = tkinter.filedialog.askopenfilename(\n",
    "    parent=root, initialdir=currdir, title='Please choose the consent file collected from Moodle')\n",
    "if len(consent_file_path) > 0:\n",
    "    print(\"You chose %s\" % consent_file_path)\n",
    "\n",
    "consent_df = pd.read_csv(f'{consent_file_path}')"
   ],
   "metadata": {
    "collapsed": false,
    "pycharm": {
     "name": "#%%\n"
    }
   }
  },
  {
   "cell_type": "code",
   "execution_count": 6,
   "outputs": [],
   "source": [
    "consent_df['username'] = consent_df['User full name']"
   ],
   "metadata": {
    "collapsed": false,
    "pycharm": {
     "name": "#%%\n"
    }
   }
  },
  {
   "cell_type": "code",
   "execution_count": 7,
   "outputs": [],
   "source": [
    "consent_df.drop('Email address', axis=1,inplace=True)\n",
    "consent_df.drop('Respondent', axis=1,inplace=True)\n",
    "consent_df.drop('Remarks', axis=1,inplace=True)\n",
    "consent_df.drop('User full name', axis=1,inplace=True)"
   ],
   "metadata": {
    "collapsed": false,
    "pycharm": {
     "name": "#%%\n"
    }
   }
  },
  {
   "cell_type": "code",
   "execution_count": 8,
   "outputs": [],
   "source": [
    "consent_df['username'] = consent_df['username'].str.replace('Participant ID ','')"
   ],
   "metadata": {
    "collapsed": false,
    "pycharm": {
     "name": "#%%\n"
    }
   }
  },
  {
   "cell_type": "code",
   "execution_count": 9,
   "outputs": [
    {
     "data": {
      "text/plain": "      Response                     Date                        username\n0      Pending                      NaN                      Admin User\n1     Accepted  2020-02-29 11:12:57 CST                   Akiff Maredia\n2      Pending                      NaN    anonfirstname1 anonlastname1\n3      Pending                      NaN  anonfirstname32 anonlastname32\n4     Accepted  2021-05-25 15:22:19 CST                       Apple Dev\n...        ...                      ...                             ...\n3023  Accepted  2020-04-01 13:53:13 CST                  Test Developer\n3024   Pending                      NaN                       Test Test\n3025  Accepted  2021-03-02 09:26:41 CST                       Test user\n3026  Accepted  2021-03-02 10:04:00 CST                      Test User2\n3027  Accepted  2021-08-06 14:14:47 CST                     Web Service\n\n[3028 rows x 3 columns]",
      "text/html": "<div>\n<style scoped>\n    .dataframe tbody tr th:only-of-type {\n        vertical-align: middle;\n    }\n\n    .dataframe tbody tr th {\n        vertical-align: top;\n    }\n\n    .dataframe thead th {\n        text-align: right;\n    }\n</style>\n<table border=\"1\" class=\"dataframe\">\n  <thead>\n    <tr style=\"text-align: right;\">\n      <th></th>\n      <th>Response</th>\n      <th>Date</th>\n      <th>username</th>\n    </tr>\n  </thead>\n  <tbody>\n    <tr>\n      <th>0</th>\n      <td>Pending</td>\n      <td>NaN</td>\n      <td>Admin User</td>\n    </tr>\n    <tr>\n      <th>1</th>\n      <td>Accepted</td>\n      <td>2020-02-29 11:12:57 CST</td>\n      <td>Akiff Maredia</td>\n    </tr>\n    <tr>\n      <th>2</th>\n      <td>Pending</td>\n      <td>NaN</td>\n      <td>anonfirstname1 anonlastname1</td>\n    </tr>\n    <tr>\n      <th>3</th>\n      <td>Pending</td>\n      <td>NaN</td>\n      <td>anonfirstname32 anonlastname32</td>\n    </tr>\n    <tr>\n      <th>4</th>\n      <td>Accepted</td>\n      <td>2021-05-25 15:22:19 CST</td>\n      <td>Apple Dev</td>\n    </tr>\n    <tr>\n      <th>...</th>\n      <td>...</td>\n      <td>...</td>\n      <td>...</td>\n    </tr>\n    <tr>\n      <th>3023</th>\n      <td>Accepted</td>\n      <td>2020-04-01 13:53:13 CST</td>\n      <td>Test Developer</td>\n    </tr>\n    <tr>\n      <th>3024</th>\n      <td>Pending</td>\n      <td>NaN</td>\n      <td>Test Test</td>\n    </tr>\n    <tr>\n      <th>3025</th>\n      <td>Accepted</td>\n      <td>2021-03-02 09:26:41 CST</td>\n      <td>Test user</td>\n    </tr>\n    <tr>\n      <th>3026</th>\n      <td>Accepted</td>\n      <td>2021-03-02 10:04:00 CST</td>\n      <td>Test User2</td>\n    </tr>\n    <tr>\n      <th>3027</th>\n      <td>Accepted</td>\n      <td>2021-08-06 14:14:47 CST</td>\n      <td>Web Service</td>\n    </tr>\n  </tbody>\n</table>\n<p>3028 rows × 3 columns</p>\n</div>"
     },
     "execution_count": 9,
     "metadata": {},
     "output_type": "execute_result"
    }
   ],
   "source": [
    "consent_df"
   ],
   "metadata": {
    "collapsed": false,
    "pycharm": {
     "name": "#%%\n"
    }
   }
  },
  {
   "cell_type": "code",
   "execution_count": 10,
   "outputs": [
    {
     "name": "stdout",
     "output_type": "stream",
     "text": [
      "You chose T:/CCJS/RCMP/Participant and Inventory/Team 2 - Troop Folders/Troop 34 2022-23/Troop 34 2022-23.xlsx\n"
     ]
    }
   ],
   "source": [
    "currdir = os.getcwd()\n",
    "troop_file_path = tkinter.filedialog.askopenfilename(parent=root, initialdir=currdir, title='Please select a the Excel for current onboarding')\n",
    "if len(troop_file_path) > 0:\n",
    "    print(\"You chose %s\" % troop_file_path)"
   ],
   "metadata": {
    "collapsed": false,
    "pycharm": {
     "name": "#%%\n"
    }
   }
  },
  {
   "cell_type": "code",
   "execution_count": 11,
   "outputs": [],
   "source": [
    "troop_df = pd.read_excel(troop_file_path)\n",
    "troop_column = troop_df['Troop Number']"
   ],
   "metadata": {
    "collapsed": false,
    "pycharm": {
     "name": "#%%\n"
    }
   }
  },
  {
   "cell_type": "code",
   "execution_count": 12,
   "outputs": [
    {
     "data": {
      "text/plain": "    bag #    Participant ID    Troop Number\n0       1  fo3y0l50y6y1gerj  Troop 34 22/23\n1       2  z7l6004ec78e2pqw  Troop 34 22/23\n2       3  w1t1nu3rief2yivr  Troop 34 22/23\n3       4  jyn1pc48ppfco8ar  Troop 34 22/23\n4       5  58omdccl4j27ib65  Troop 34 22/23\n5       6  ucdbxei5oerjkst5  Troop 34 22/23\n6       7  v7vtjy16o55g5r8i  Troop 34 22/23\n7       8  jx376oja9k8uf7no  Troop 34 22/23\n8       9  jii5dxo0045v8pcw  Troop 34 22/23\n9      10  dy542d35xqjqxnrm  Troop 34 22/23\n10     11  wv8n4wzttl9b7bvr  Troop 34 22/23\n11     12  wtp2zz45v17fm4z4  Troop 34 22/23\n12     13  rjy3rtjmxtj1s7hj  Troop 34 22/23\n13     14  9e29y6em5t8c602s  Troop 34 22/23\n14     15  39e1e0cuspx24lca  Troop 34 22/23\n15     16  drsfq2kligx5dmxt  Troop 34 22/23\n16     17  rvd9txg7b7v7daq7  Troop 34 22/23\n17     18  yg8a1du11f1sarii  Troop 34 22/23\n18     19  svemqz86g9ybj6tr  Troop 34 22/23\n19     20  k1p1gplpdkmh9pxl  Troop 34 22/23\n20     21  kwy8wlycavja6jus  Troop 34 22/23\n21     22  ygr7u5xeraj53qb9  Troop 34 22/23\n22     23  m9v96ics0c8iona5  Troop 34 22/23\n23     24  xs662ut0mof3ww2o  Troop 34 22/23\n24     25  9oobderk0884dbbb  Troop 34 22/23\n25     26  kmw5n73q4ug9zst1  Troop 34 22/23\n26     27  5f2kopt2jk5s63h3  Troop 34 22/23\n27     28  725fa30e8le91tr1  Troop 34 22/23\n28     29  cd90shag7dkgpja4  Troop 34 22/23\n29     30  s9gmfnugqf59pqrg  Troop 34 22/23\n30     31  u96x8yw7qvtp9fjk  Troop 34 22/23\n31     32  vpaoezen5esmp87o  Troop 34 22/23",
      "text/html": "<div>\n<style scoped>\n    .dataframe tbody tr th:only-of-type {\n        vertical-align: middle;\n    }\n\n    .dataframe tbody tr th {\n        vertical-align: top;\n    }\n\n    .dataframe thead th {\n        text-align: right;\n    }\n</style>\n<table border=\"1\" class=\"dataframe\">\n  <thead>\n    <tr style=\"text-align: right;\">\n      <th></th>\n      <th>bag #</th>\n      <th>Participant ID</th>\n      <th>Troop Number</th>\n    </tr>\n  </thead>\n  <tbody>\n    <tr>\n      <th>0</th>\n      <td>1</td>\n      <td>fo3y0l50y6y1gerj</td>\n      <td>Troop 34 22/23</td>\n    </tr>\n    <tr>\n      <th>1</th>\n      <td>2</td>\n      <td>z7l6004ec78e2pqw</td>\n      <td>Troop 34 22/23</td>\n    </tr>\n    <tr>\n      <th>2</th>\n      <td>3</td>\n      <td>w1t1nu3rief2yivr</td>\n      <td>Troop 34 22/23</td>\n    </tr>\n    <tr>\n      <th>3</th>\n      <td>4</td>\n      <td>jyn1pc48ppfco8ar</td>\n      <td>Troop 34 22/23</td>\n    </tr>\n    <tr>\n      <th>4</th>\n      <td>5</td>\n      <td>58omdccl4j27ib65</td>\n      <td>Troop 34 22/23</td>\n    </tr>\n    <tr>\n      <th>5</th>\n      <td>6</td>\n      <td>ucdbxei5oerjkst5</td>\n      <td>Troop 34 22/23</td>\n    </tr>\n    <tr>\n      <th>6</th>\n      <td>7</td>\n      <td>v7vtjy16o55g5r8i</td>\n      <td>Troop 34 22/23</td>\n    </tr>\n    <tr>\n      <th>7</th>\n      <td>8</td>\n      <td>jx376oja9k8uf7no</td>\n      <td>Troop 34 22/23</td>\n    </tr>\n    <tr>\n      <th>8</th>\n      <td>9</td>\n      <td>jii5dxo0045v8pcw</td>\n      <td>Troop 34 22/23</td>\n    </tr>\n    <tr>\n      <th>9</th>\n      <td>10</td>\n      <td>dy542d35xqjqxnrm</td>\n      <td>Troop 34 22/23</td>\n    </tr>\n    <tr>\n      <th>10</th>\n      <td>11</td>\n      <td>wv8n4wzttl9b7bvr</td>\n      <td>Troop 34 22/23</td>\n    </tr>\n    <tr>\n      <th>11</th>\n      <td>12</td>\n      <td>wtp2zz45v17fm4z4</td>\n      <td>Troop 34 22/23</td>\n    </tr>\n    <tr>\n      <th>12</th>\n      <td>13</td>\n      <td>rjy3rtjmxtj1s7hj</td>\n      <td>Troop 34 22/23</td>\n    </tr>\n    <tr>\n      <th>13</th>\n      <td>14</td>\n      <td>9e29y6em5t8c602s</td>\n      <td>Troop 34 22/23</td>\n    </tr>\n    <tr>\n      <th>14</th>\n      <td>15</td>\n      <td>39e1e0cuspx24lca</td>\n      <td>Troop 34 22/23</td>\n    </tr>\n    <tr>\n      <th>15</th>\n      <td>16</td>\n      <td>drsfq2kligx5dmxt</td>\n      <td>Troop 34 22/23</td>\n    </tr>\n    <tr>\n      <th>16</th>\n      <td>17</td>\n      <td>rvd9txg7b7v7daq7</td>\n      <td>Troop 34 22/23</td>\n    </tr>\n    <tr>\n      <th>17</th>\n      <td>18</td>\n      <td>yg8a1du11f1sarii</td>\n      <td>Troop 34 22/23</td>\n    </tr>\n    <tr>\n      <th>18</th>\n      <td>19</td>\n      <td>svemqz86g9ybj6tr</td>\n      <td>Troop 34 22/23</td>\n    </tr>\n    <tr>\n      <th>19</th>\n      <td>20</td>\n      <td>k1p1gplpdkmh9pxl</td>\n      <td>Troop 34 22/23</td>\n    </tr>\n    <tr>\n      <th>20</th>\n      <td>21</td>\n      <td>kwy8wlycavja6jus</td>\n      <td>Troop 34 22/23</td>\n    </tr>\n    <tr>\n      <th>21</th>\n      <td>22</td>\n      <td>ygr7u5xeraj53qb9</td>\n      <td>Troop 34 22/23</td>\n    </tr>\n    <tr>\n      <th>22</th>\n      <td>23</td>\n      <td>m9v96ics0c8iona5</td>\n      <td>Troop 34 22/23</td>\n    </tr>\n    <tr>\n      <th>23</th>\n      <td>24</td>\n      <td>xs662ut0mof3ww2o</td>\n      <td>Troop 34 22/23</td>\n    </tr>\n    <tr>\n      <th>24</th>\n      <td>25</td>\n      <td>9oobderk0884dbbb</td>\n      <td>Troop 34 22/23</td>\n    </tr>\n    <tr>\n      <th>25</th>\n      <td>26</td>\n      <td>kmw5n73q4ug9zst1</td>\n      <td>Troop 34 22/23</td>\n    </tr>\n    <tr>\n      <th>26</th>\n      <td>27</td>\n      <td>5f2kopt2jk5s63h3</td>\n      <td>Troop 34 22/23</td>\n    </tr>\n    <tr>\n      <th>27</th>\n      <td>28</td>\n      <td>725fa30e8le91tr1</td>\n      <td>Troop 34 22/23</td>\n    </tr>\n    <tr>\n      <th>28</th>\n      <td>29</td>\n      <td>cd90shag7dkgpja4</td>\n      <td>Troop 34 22/23</td>\n    </tr>\n    <tr>\n      <th>29</th>\n      <td>30</td>\n      <td>s9gmfnugqf59pqrg</td>\n      <td>Troop 34 22/23</td>\n    </tr>\n    <tr>\n      <th>30</th>\n      <td>31</td>\n      <td>u96x8yw7qvtp9fjk</td>\n      <td>Troop 34 22/23</td>\n    </tr>\n    <tr>\n      <th>31</th>\n      <td>32</td>\n      <td>vpaoezen5esmp87o</td>\n      <td>Troop 34 22/23</td>\n    </tr>\n  </tbody>\n</table>\n</div>"
     },
     "execution_count": 12,
     "metadata": {},
     "output_type": "execute_result"
    }
   ],
   "source": [
    "troop_df"
   ],
   "metadata": {
    "collapsed": false,
    "pycharm": {
     "name": "#%%\n"
    }
   }
  },
  {
   "cell_type": "code",
   "execution_count": 13,
   "outputs": [],
   "source": [
    "troop_df['username'] = troop_df['Participant ID'].str.lower()\n",
    "troop_df.drop('Participant ID', axis=1,inplace=True)\n",
    "troop_df.drop('Troop Number', axis=1,inplace=True)\n",
    "troop_df.drop('bag #', axis=1,inplace=True)"
   ],
   "metadata": {
    "collapsed": false,
    "pycharm": {
     "name": "#%%\n"
    }
   }
  },
  {
   "cell_type": "code",
   "execution_count": 14,
   "outputs": [
    {
     "data": {
      "text/plain": "            username\n0   fo3y0l50y6y1gerj\n1   z7l6004ec78e2pqw\n2   w1t1nu3rief2yivr\n3   jyn1pc48ppfco8ar\n4   58omdccl4j27ib65\n5   ucdbxei5oerjkst5\n6   v7vtjy16o55g5r8i\n7   jx376oja9k8uf7no\n8   jii5dxo0045v8pcw\n9   dy542d35xqjqxnrm\n10  wv8n4wzttl9b7bvr\n11  wtp2zz45v17fm4z4\n12  rjy3rtjmxtj1s7hj\n13  9e29y6em5t8c602s\n14  39e1e0cuspx24lca\n15  drsfq2kligx5dmxt\n16  rvd9txg7b7v7daq7\n17  yg8a1du11f1sarii\n18  svemqz86g9ybj6tr\n19  k1p1gplpdkmh9pxl\n20  kwy8wlycavja6jus\n21  ygr7u5xeraj53qb9\n22  m9v96ics0c8iona5\n23  xs662ut0mof3ww2o\n24  9oobderk0884dbbb\n25  kmw5n73q4ug9zst1\n26  5f2kopt2jk5s63h3\n27  725fa30e8le91tr1\n28  cd90shag7dkgpja4\n29  s9gmfnugqf59pqrg\n30  u96x8yw7qvtp9fjk\n31  vpaoezen5esmp87o",
      "text/html": "<div>\n<style scoped>\n    .dataframe tbody tr th:only-of-type {\n        vertical-align: middle;\n    }\n\n    .dataframe tbody tr th {\n        vertical-align: top;\n    }\n\n    .dataframe thead th {\n        text-align: right;\n    }\n</style>\n<table border=\"1\" class=\"dataframe\">\n  <thead>\n    <tr style=\"text-align: right;\">\n      <th></th>\n      <th>username</th>\n    </tr>\n  </thead>\n  <tbody>\n    <tr>\n      <th>0</th>\n      <td>fo3y0l50y6y1gerj</td>\n    </tr>\n    <tr>\n      <th>1</th>\n      <td>z7l6004ec78e2pqw</td>\n    </tr>\n    <tr>\n      <th>2</th>\n      <td>w1t1nu3rief2yivr</td>\n    </tr>\n    <tr>\n      <th>3</th>\n      <td>jyn1pc48ppfco8ar</td>\n    </tr>\n    <tr>\n      <th>4</th>\n      <td>58omdccl4j27ib65</td>\n    </tr>\n    <tr>\n      <th>5</th>\n      <td>ucdbxei5oerjkst5</td>\n    </tr>\n    <tr>\n      <th>6</th>\n      <td>v7vtjy16o55g5r8i</td>\n    </tr>\n    <tr>\n      <th>7</th>\n      <td>jx376oja9k8uf7no</td>\n    </tr>\n    <tr>\n      <th>8</th>\n      <td>jii5dxo0045v8pcw</td>\n    </tr>\n    <tr>\n      <th>9</th>\n      <td>dy542d35xqjqxnrm</td>\n    </tr>\n    <tr>\n      <th>10</th>\n      <td>wv8n4wzttl9b7bvr</td>\n    </tr>\n    <tr>\n      <th>11</th>\n      <td>wtp2zz45v17fm4z4</td>\n    </tr>\n    <tr>\n      <th>12</th>\n      <td>rjy3rtjmxtj1s7hj</td>\n    </tr>\n    <tr>\n      <th>13</th>\n      <td>9e29y6em5t8c602s</td>\n    </tr>\n    <tr>\n      <th>14</th>\n      <td>39e1e0cuspx24lca</td>\n    </tr>\n    <tr>\n      <th>15</th>\n      <td>drsfq2kligx5dmxt</td>\n    </tr>\n    <tr>\n      <th>16</th>\n      <td>rvd9txg7b7v7daq7</td>\n    </tr>\n    <tr>\n      <th>17</th>\n      <td>yg8a1du11f1sarii</td>\n    </tr>\n    <tr>\n      <th>18</th>\n      <td>svemqz86g9ybj6tr</td>\n    </tr>\n    <tr>\n      <th>19</th>\n      <td>k1p1gplpdkmh9pxl</td>\n    </tr>\n    <tr>\n      <th>20</th>\n      <td>kwy8wlycavja6jus</td>\n    </tr>\n    <tr>\n      <th>21</th>\n      <td>ygr7u5xeraj53qb9</td>\n    </tr>\n    <tr>\n      <th>22</th>\n      <td>m9v96ics0c8iona5</td>\n    </tr>\n    <tr>\n      <th>23</th>\n      <td>xs662ut0mof3ww2o</td>\n    </tr>\n    <tr>\n      <th>24</th>\n      <td>9oobderk0884dbbb</td>\n    </tr>\n    <tr>\n      <th>25</th>\n      <td>kmw5n73q4ug9zst1</td>\n    </tr>\n    <tr>\n      <th>26</th>\n      <td>5f2kopt2jk5s63h3</td>\n    </tr>\n    <tr>\n      <th>27</th>\n      <td>725fa30e8le91tr1</td>\n    </tr>\n    <tr>\n      <th>28</th>\n      <td>cd90shag7dkgpja4</td>\n    </tr>\n    <tr>\n      <th>29</th>\n      <td>s9gmfnugqf59pqrg</td>\n    </tr>\n    <tr>\n      <th>30</th>\n      <td>u96x8yw7qvtp9fjk</td>\n    </tr>\n    <tr>\n      <th>31</th>\n      <td>vpaoezen5esmp87o</td>\n    </tr>\n  </tbody>\n</table>\n</div>"
     },
     "execution_count": 14,
     "metadata": {},
     "output_type": "execute_result"
    }
   ],
   "source": [
    "troop_df"
   ],
   "metadata": {
    "collapsed": false,
    "pycharm": {
     "name": "#%%\n"
    }
   }
  },
  {
   "cell_type": "code",
   "execution_count": 15,
   "outputs": [],
   "source": [
    "merged_df = pd.merge(consent_df,troop_df, 'inner', 'username')"
   ],
   "metadata": {
    "collapsed": false,
    "pycharm": {
     "name": "#%%\n"
    }
   }
  },
  {
   "cell_type": "code",
   "execution_count": 16,
   "outputs": [
    {
     "data": {
      "text/plain": "   Response Date          username\n0   Pending  NaN  fo3y0l50y6y1gerj\n1   Pending  NaN  z7l6004ec78e2pqw\n2   Pending  NaN  w1t1nu3rief2yivr\n3   Pending  NaN  jyn1pc48ppfco8ar\n4   Pending  NaN  58omdccl4j27ib65\n5   Pending  NaN  ucdbxei5oerjkst5\n6   Pending  NaN  v7vtjy16o55g5r8i\n7   Pending  NaN  jx376oja9k8uf7no\n8   Pending  NaN  jii5dxo0045v8pcw\n9   Pending  NaN  dy542d35xqjqxnrm\n10  Pending  NaN  wv8n4wzttl9b7bvr\n11  Pending  NaN  wtp2zz45v17fm4z4\n12  Pending  NaN  rjy3rtjmxtj1s7hj\n13  Pending  NaN  9e29y6em5t8c602s\n14  Pending  NaN  39e1e0cuspx24lca\n15  Pending  NaN  drsfq2kligx5dmxt\n16  Pending  NaN  rvd9txg7b7v7daq7\n17  Pending  NaN  yg8a1du11f1sarii\n18  Pending  NaN  svemqz86g9ybj6tr\n19  Pending  NaN  k1p1gplpdkmh9pxl\n20  Pending  NaN  kwy8wlycavja6jus\n21  Pending  NaN  ygr7u5xeraj53qb9\n22  Pending  NaN  m9v96ics0c8iona5\n23  Pending  NaN  xs662ut0mof3ww2o\n24  Pending  NaN  9oobderk0884dbbb\n25  Pending  NaN  kmw5n73q4ug9zst1\n26  Pending  NaN  5f2kopt2jk5s63h3\n27  Pending  NaN  725fa30e8le91tr1\n28  Pending  NaN  cd90shag7dkgpja4\n29  Pending  NaN  s9gmfnugqf59pqrg\n30  Pending  NaN  u96x8yw7qvtp9fjk\n31  Pending  NaN  vpaoezen5esmp87o",
      "text/html": "<div>\n<style scoped>\n    .dataframe tbody tr th:only-of-type {\n        vertical-align: middle;\n    }\n\n    .dataframe tbody tr th {\n        vertical-align: top;\n    }\n\n    .dataframe thead th {\n        text-align: right;\n    }\n</style>\n<table border=\"1\" class=\"dataframe\">\n  <thead>\n    <tr style=\"text-align: right;\">\n      <th></th>\n      <th>Response</th>\n      <th>Date</th>\n      <th>username</th>\n    </tr>\n  </thead>\n  <tbody>\n    <tr>\n      <th>0</th>\n      <td>Pending</td>\n      <td>NaN</td>\n      <td>fo3y0l50y6y1gerj</td>\n    </tr>\n    <tr>\n      <th>1</th>\n      <td>Pending</td>\n      <td>NaN</td>\n      <td>z7l6004ec78e2pqw</td>\n    </tr>\n    <tr>\n      <th>2</th>\n      <td>Pending</td>\n      <td>NaN</td>\n      <td>w1t1nu3rief2yivr</td>\n    </tr>\n    <tr>\n      <th>3</th>\n      <td>Pending</td>\n      <td>NaN</td>\n      <td>jyn1pc48ppfco8ar</td>\n    </tr>\n    <tr>\n      <th>4</th>\n      <td>Pending</td>\n      <td>NaN</td>\n      <td>58omdccl4j27ib65</td>\n    </tr>\n    <tr>\n      <th>5</th>\n      <td>Pending</td>\n      <td>NaN</td>\n      <td>ucdbxei5oerjkst5</td>\n    </tr>\n    <tr>\n      <th>6</th>\n      <td>Pending</td>\n      <td>NaN</td>\n      <td>v7vtjy16o55g5r8i</td>\n    </tr>\n    <tr>\n      <th>7</th>\n      <td>Pending</td>\n      <td>NaN</td>\n      <td>jx376oja9k8uf7no</td>\n    </tr>\n    <tr>\n      <th>8</th>\n      <td>Pending</td>\n      <td>NaN</td>\n      <td>jii5dxo0045v8pcw</td>\n    </tr>\n    <tr>\n      <th>9</th>\n      <td>Pending</td>\n      <td>NaN</td>\n      <td>dy542d35xqjqxnrm</td>\n    </tr>\n    <tr>\n      <th>10</th>\n      <td>Pending</td>\n      <td>NaN</td>\n      <td>wv8n4wzttl9b7bvr</td>\n    </tr>\n    <tr>\n      <th>11</th>\n      <td>Pending</td>\n      <td>NaN</td>\n      <td>wtp2zz45v17fm4z4</td>\n    </tr>\n    <tr>\n      <th>12</th>\n      <td>Pending</td>\n      <td>NaN</td>\n      <td>rjy3rtjmxtj1s7hj</td>\n    </tr>\n    <tr>\n      <th>13</th>\n      <td>Pending</td>\n      <td>NaN</td>\n      <td>9e29y6em5t8c602s</td>\n    </tr>\n    <tr>\n      <th>14</th>\n      <td>Pending</td>\n      <td>NaN</td>\n      <td>39e1e0cuspx24lca</td>\n    </tr>\n    <tr>\n      <th>15</th>\n      <td>Pending</td>\n      <td>NaN</td>\n      <td>drsfq2kligx5dmxt</td>\n    </tr>\n    <tr>\n      <th>16</th>\n      <td>Pending</td>\n      <td>NaN</td>\n      <td>rvd9txg7b7v7daq7</td>\n    </tr>\n    <tr>\n      <th>17</th>\n      <td>Pending</td>\n      <td>NaN</td>\n      <td>yg8a1du11f1sarii</td>\n    </tr>\n    <tr>\n      <th>18</th>\n      <td>Pending</td>\n      <td>NaN</td>\n      <td>svemqz86g9ybj6tr</td>\n    </tr>\n    <tr>\n      <th>19</th>\n      <td>Pending</td>\n      <td>NaN</td>\n      <td>k1p1gplpdkmh9pxl</td>\n    </tr>\n    <tr>\n      <th>20</th>\n      <td>Pending</td>\n      <td>NaN</td>\n      <td>kwy8wlycavja6jus</td>\n    </tr>\n    <tr>\n      <th>21</th>\n      <td>Pending</td>\n      <td>NaN</td>\n      <td>ygr7u5xeraj53qb9</td>\n    </tr>\n    <tr>\n      <th>22</th>\n      <td>Pending</td>\n      <td>NaN</td>\n      <td>m9v96ics0c8iona5</td>\n    </tr>\n    <tr>\n      <th>23</th>\n      <td>Pending</td>\n      <td>NaN</td>\n      <td>xs662ut0mof3ww2o</td>\n    </tr>\n    <tr>\n      <th>24</th>\n      <td>Pending</td>\n      <td>NaN</td>\n      <td>9oobderk0884dbbb</td>\n    </tr>\n    <tr>\n      <th>25</th>\n      <td>Pending</td>\n      <td>NaN</td>\n      <td>kmw5n73q4ug9zst1</td>\n    </tr>\n    <tr>\n      <th>26</th>\n      <td>Pending</td>\n      <td>NaN</td>\n      <td>5f2kopt2jk5s63h3</td>\n    </tr>\n    <tr>\n      <th>27</th>\n      <td>Pending</td>\n      <td>NaN</td>\n      <td>725fa30e8le91tr1</td>\n    </tr>\n    <tr>\n      <th>28</th>\n      <td>Pending</td>\n      <td>NaN</td>\n      <td>cd90shag7dkgpja4</td>\n    </tr>\n    <tr>\n      <th>29</th>\n      <td>Pending</td>\n      <td>NaN</td>\n      <td>s9gmfnugqf59pqrg</td>\n    </tr>\n    <tr>\n      <th>30</th>\n      <td>Pending</td>\n      <td>NaN</td>\n      <td>u96x8yw7qvtp9fjk</td>\n    </tr>\n    <tr>\n      <th>31</th>\n      <td>Pending</td>\n      <td>NaN</td>\n      <td>vpaoezen5esmp87o</td>\n    </tr>\n  </tbody>\n</table>\n</div>"
     },
     "execution_count": 16,
     "metadata": {},
     "output_type": "execute_result"
    }
   ],
   "source": [
    "merged_df"
   ],
   "metadata": {
    "collapsed": false,
    "pycharm": {
     "name": "#%%\n"
    }
   }
  },
  {
   "cell_type": "code",
   "execution_count": 17,
   "outputs": [],
   "source": [
    "merged_df.to_excel(f\"{path}/Consent stats {troop_name}.xlsx\",index=False)"
   ],
   "metadata": {
    "collapsed": false,
    "pycharm": {
     "name": "#%%\n"
    }
   }
  },
  {
   "cell_type": "markdown",
   "source": [
    "### Generating the Qualtrics Link generation file"
   ],
   "metadata": {
    "collapsed": false
   }
  },
  {
   "cell_type": "code",
   "execution_count": 18,
   "outputs": [],
   "source": [
    "partcipant_id_strings = pd.Series([\"Participant ID\" for x in range(len(merged_df.index))])\n",
    "emails = merged_df['username'] + '@rcmpstudy.ca'\n",
    "troopnumbers = troop_column\n",
    "qualtrics_frame = pd.DataFrame()\n",
    "qualtrics_frame['Email'] = emails\n",
    "qualtrics_frame['First Name'] = partcipant_id_strings\n",
    "qualtrics_frame['Last Name'] = merged_df['username']\n",
    "qualtrics_frame['E'] = \"\"\n",
    "qualtrics_frame['L'] = \"\"\n",
    "qualtrics_frame['firstname'] = merged_df['username']\n",
    "qualtrics_frame['troopnumber'] = troopnumbers\n",
    "qualtrics_frame.to_csv(f\"{path}/qualtrics link creation file.csv\",index=False)"
   ],
   "metadata": {
    "collapsed": false,
    "pycharm": {
     "name": "#%%\n"
    }
   }
  },
  {
   "cell_type": "markdown",
   "source": [
    "### Generating upload file to Reset Password, set Byod=Yes,consent=No"
   ],
   "metadata": {
    "collapsed": false,
    "pycharm": {
     "name": "#%% md\n"
    }
   }
  },
  {
   "cell_type": "code",
   "execution_count": 19,
   "outputs": [],
   "source": [
    "passwords = pd.Series([\"Redserge#1\" for x in range(len(merged_df.index))])\n",
    "consents = pd.Series([\"No\" for x in range(len(merged_df.index))])\n",
    "byod_data = pd.Series([\"Yes\" for x in range(len(merged_df.index))])"
   ],
   "metadata": {
    "collapsed": false,
    "pycharm": {
     "name": "#%%\n"
    }
   }
  },
  {
   "cell_type": "code",
   "execution_count": 20,
   "outputs": [],
   "source": [
    "upload_dataframe = pd.DataFrame()"
   ],
   "metadata": {
    "collapsed": false,
    "pycharm": {
     "name": "#%%\n"
    }
   }
  },
  {
   "cell_type": "code",
   "execution_count": 21,
   "outputs": [],
   "source": [
    "upload_dataframe['password'] = passwords\n",
    "upload_dataframe['profile_field_consent'] = consents\n",
    "upload_dataframe['profile_field_byod'] = byod_data\n",
    "upload_dataframe['username'] = merged_df['username']"
   ],
   "metadata": {
    "collapsed": false,
    "pycharm": {
     "name": "#%%\n"
    }
   }
  },
  {
   "cell_type": "code",
   "execution_count": 22,
   "outputs": [
    {
     "data": {
      "text/plain": "      password profile_field_consent profile_field_byod          username\n0   Redserge#1                    No                Yes  fo3y0l50y6y1gerj\n1   Redserge#1                    No                Yes  z7l6004ec78e2pqw\n2   Redserge#1                    No                Yes  w1t1nu3rief2yivr\n3   Redserge#1                    No                Yes  jyn1pc48ppfco8ar\n4   Redserge#1                    No                Yes  58omdccl4j27ib65\n5   Redserge#1                    No                Yes  ucdbxei5oerjkst5\n6   Redserge#1                    No                Yes  v7vtjy16o55g5r8i\n7   Redserge#1                    No                Yes  jx376oja9k8uf7no\n8   Redserge#1                    No                Yes  jii5dxo0045v8pcw\n9   Redserge#1                    No                Yes  dy542d35xqjqxnrm\n10  Redserge#1                    No                Yes  wv8n4wzttl9b7bvr\n11  Redserge#1                    No                Yes  wtp2zz45v17fm4z4\n12  Redserge#1                    No                Yes  rjy3rtjmxtj1s7hj\n13  Redserge#1                    No                Yes  9e29y6em5t8c602s\n14  Redserge#1                    No                Yes  39e1e0cuspx24lca\n15  Redserge#1                    No                Yes  drsfq2kligx5dmxt\n16  Redserge#1                    No                Yes  rvd9txg7b7v7daq7\n17  Redserge#1                    No                Yes  yg8a1du11f1sarii\n18  Redserge#1                    No                Yes  svemqz86g9ybj6tr\n19  Redserge#1                    No                Yes  k1p1gplpdkmh9pxl\n20  Redserge#1                    No                Yes  kwy8wlycavja6jus\n21  Redserge#1                    No                Yes  ygr7u5xeraj53qb9\n22  Redserge#1                    No                Yes  m9v96ics0c8iona5\n23  Redserge#1                    No                Yes  xs662ut0mof3ww2o\n24  Redserge#1                    No                Yes  9oobderk0884dbbb\n25  Redserge#1                    No                Yes  kmw5n73q4ug9zst1\n26  Redserge#1                    No                Yes  5f2kopt2jk5s63h3\n27  Redserge#1                    No                Yes  725fa30e8le91tr1\n28  Redserge#1                    No                Yes  cd90shag7dkgpja4\n29  Redserge#1                    No                Yes  s9gmfnugqf59pqrg\n30  Redserge#1                    No                Yes  u96x8yw7qvtp9fjk\n31  Redserge#1                    No                Yes  vpaoezen5esmp87o",
      "text/html": "<div>\n<style scoped>\n    .dataframe tbody tr th:only-of-type {\n        vertical-align: middle;\n    }\n\n    .dataframe tbody tr th {\n        vertical-align: top;\n    }\n\n    .dataframe thead th {\n        text-align: right;\n    }\n</style>\n<table border=\"1\" class=\"dataframe\">\n  <thead>\n    <tr style=\"text-align: right;\">\n      <th></th>\n      <th>password</th>\n      <th>profile_field_consent</th>\n      <th>profile_field_byod</th>\n      <th>username</th>\n    </tr>\n  </thead>\n  <tbody>\n    <tr>\n      <th>0</th>\n      <td>Redserge#1</td>\n      <td>No</td>\n      <td>Yes</td>\n      <td>fo3y0l50y6y1gerj</td>\n    </tr>\n    <tr>\n      <th>1</th>\n      <td>Redserge#1</td>\n      <td>No</td>\n      <td>Yes</td>\n      <td>z7l6004ec78e2pqw</td>\n    </tr>\n    <tr>\n      <th>2</th>\n      <td>Redserge#1</td>\n      <td>No</td>\n      <td>Yes</td>\n      <td>w1t1nu3rief2yivr</td>\n    </tr>\n    <tr>\n      <th>3</th>\n      <td>Redserge#1</td>\n      <td>No</td>\n      <td>Yes</td>\n      <td>jyn1pc48ppfco8ar</td>\n    </tr>\n    <tr>\n      <th>4</th>\n      <td>Redserge#1</td>\n      <td>No</td>\n      <td>Yes</td>\n      <td>58omdccl4j27ib65</td>\n    </tr>\n    <tr>\n      <th>5</th>\n      <td>Redserge#1</td>\n      <td>No</td>\n      <td>Yes</td>\n      <td>ucdbxei5oerjkst5</td>\n    </tr>\n    <tr>\n      <th>6</th>\n      <td>Redserge#1</td>\n      <td>No</td>\n      <td>Yes</td>\n      <td>v7vtjy16o55g5r8i</td>\n    </tr>\n    <tr>\n      <th>7</th>\n      <td>Redserge#1</td>\n      <td>No</td>\n      <td>Yes</td>\n      <td>jx376oja9k8uf7no</td>\n    </tr>\n    <tr>\n      <th>8</th>\n      <td>Redserge#1</td>\n      <td>No</td>\n      <td>Yes</td>\n      <td>jii5dxo0045v8pcw</td>\n    </tr>\n    <tr>\n      <th>9</th>\n      <td>Redserge#1</td>\n      <td>No</td>\n      <td>Yes</td>\n      <td>dy542d35xqjqxnrm</td>\n    </tr>\n    <tr>\n      <th>10</th>\n      <td>Redserge#1</td>\n      <td>No</td>\n      <td>Yes</td>\n      <td>wv8n4wzttl9b7bvr</td>\n    </tr>\n    <tr>\n      <th>11</th>\n      <td>Redserge#1</td>\n      <td>No</td>\n      <td>Yes</td>\n      <td>wtp2zz45v17fm4z4</td>\n    </tr>\n    <tr>\n      <th>12</th>\n      <td>Redserge#1</td>\n      <td>No</td>\n      <td>Yes</td>\n      <td>rjy3rtjmxtj1s7hj</td>\n    </tr>\n    <tr>\n      <th>13</th>\n      <td>Redserge#1</td>\n      <td>No</td>\n      <td>Yes</td>\n      <td>9e29y6em5t8c602s</td>\n    </tr>\n    <tr>\n      <th>14</th>\n      <td>Redserge#1</td>\n      <td>No</td>\n      <td>Yes</td>\n      <td>39e1e0cuspx24lca</td>\n    </tr>\n    <tr>\n      <th>15</th>\n      <td>Redserge#1</td>\n      <td>No</td>\n      <td>Yes</td>\n      <td>drsfq2kligx5dmxt</td>\n    </tr>\n    <tr>\n      <th>16</th>\n      <td>Redserge#1</td>\n      <td>No</td>\n      <td>Yes</td>\n      <td>rvd9txg7b7v7daq7</td>\n    </tr>\n    <tr>\n      <th>17</th>\n      <td>Redserge#1</td>\n      <td>No</td>\n      <td>Yes</td>\n      <td>yg8a1du11f1sarii</td>\n    </tr>\n    <tr>\n      <th>18</th>\n      <td>Redserge#1</td>\n      <td>No</td>\n      <td>Yes</td>\n      <td>svemqz86g9ybj6tr</td>\n    </tr>\n    <tr>\n      <th>19</th>\n      <td>Redserge#1</td>\n      <td>No</td>\n      <td>Yes</td>\n      <td>k1p1gplpdkmh9pxl</td>\n    </tr>\n    <tr>\n      <th>20</th>\n      <td>Redserge#1</td>\n      <td>No</td>\n      <td>Yes</td>\n      <td>kwy8wlycavja6jus</td>\n    </tr>\n    <tr>\n      <th>21</th>\n      <td>Redserge#1</td>\n      <td>No</td>\n      <td>Yes</td>\n      <td>ygr7u5xeraj53qb9</td>\n    </tr>\n    <tr>\n      <th>22</th>\n      <td>Redserge#1</td>\n      <td>No</td>\n      <td>Yes</td>\n      <td>m9v96ics0c8iona5</td>\n    </tr>\n    <tr>\n      <th>23</th>\n      <td>Redserge#1</td>\n      <td>No</td>\n      <td>Yes</td>\n      <td>xs662ut0mof3ww2o</td>\n    </tr>\n    <tr>\n      <th>24</th>\n      <td>Redserge#1</td>\n      <td>No</td>\n      <td>Yes</td>\n      <td>9oobderk0884dbbb</td>\n    </tr>\n    <tr>\n      <th>25</th>\n      <td>Redserge#1</td>\n      <td>No</td>\n      <td>Yes</td>\n      <td>kmw5n73q4ug9zst1</td>\n    </tr>\n    <tr>\n      <th>26</th>\n      <td>Redserge#1</td>\n      <td>No</td>\n      <td>Yes</td>\n      <td>5f2kopt2jk5s63h3</td>\n    </tr>\n    <tr>\n      <th>27</th>\n      <td>Redserge#1</td>\n      <td>No</td>\n      <td>Yes</td>\n      <td>725fa30e8le91tr1</td>\n    </tr>\n    <tr>\n      <th>28</th>\n      <td>Redserge#1</td>\n      <td>No</td>\n      <td>Yes</td>\n      <td>cd90shag7dkgpja4</td>\n    </tr>\n    <tr>\n      <th>29</th>\n      <td>Redserge#1</td>\n      <td>No</td>\n      <td>Yes</td>\n      <td>s9gmfnugqf59pqrg</td>\n    </tr>\n    <tr>\n      <th>30</th>\n      <td>Redserge#1</td>\n      <td>No</td>\n      <td>Yes</td>\n      <td>u96x8yw7qvtp9fjk</td>\n    </tr>\n    <tr>\n      <th>31</th>\n      <td>Redserge#1</td>\n      <td>No</td>\n      <td>Yes</td>\n      <td>vpaoezen5esmp87o</td>\n    </tr>\n  </tbody>\n</table>\n</div>"
     },
     "execution_count": 22,
     "metadata": {},
     "output_type": "execute_result"
    }
   ],
   "source": [
    "upload_dataframe"
   ],
   "metadata": {
    "collapsed": false,
    "pycharm": {
     "name": "#%%\n"
    }
   }
  },
  {
   "cell_type": "code",
   "execution_count": 23,
   "outputs": [],
   "source": [
    "upload_dataframe.to_csv(f\"{path}/moodle upload file set pswd,byod,pfieldconsent {troop_name}.csv\",index=False)"
   ],
   "metadata": {
    "collapsed": false,
    "pycharm": {
     "name": "#%%\n"
    }
   }
  },
  {
   "cell_type": "code",
   "execution_count": 24,
   "outputs": [
    {
     "data": {
      "text/plain": "'ok'"
     },
     "execution_count": 24,
     "metadata": {},
     "output_type": "execute_result"
    }
   ],
   "source": [
    "from tkinter import messagebox\n",
    "messagebox.showinfo(\"Success\", \"Script completed running\")"
   ],
   "metadata": {
    "collapsed": false,
    "pycharm": {
     "name": "#%%\n"
    }
   }
  }
 ],
 "metadata": {
  "kernelspec": {
   "display_name": "Python 3",
   "language": "python",
   "name": "python3"
  },
  "language_info": {
   "codemirror_mode": {
    "name": "ipython",
    "version": 2
   },
   "file_extension": ".py",
   "mimetype": "text/x-python",
   "name": "python",
   "nbconvert_exporter": "python",
   "pygments_lexer": "ipython2",
   "version": "2.7.6"
  }
 },
 "nbformat": 4,
 "nbformat_minor": 0
}