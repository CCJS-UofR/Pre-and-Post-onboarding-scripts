{
 "cells": [
  {
   "cell_type": "code",
   "execution_count": 1,
   "metadata": {
    "collapsed": true
   },
   "outputs": [],
   "source": [
    "# Importing libraries\n",
    "import numpy as np\n",
    "import pandas as pd\n",
    "from datetime import date, datetime\n",
    "import tkinter as tk\n",
    "import tkinter.filedialog\n",
    "import os\n",
    "import ntpath\n",
    "import numpy as np"
   ]
  },
  {
   "cell_type": "code",
   "execution_count": 2,
   "outputs": [
    {
     "data": {
      "text/plain": "''"
     },
     "execution_count": 2,
     "metadata": {},
     "output_type": "execute_result"
    }
   ],
   "source": [
    "# tkinter setup\n",
    "\n",
    "root = tk.Tk()\n",
    "root.withdraw()  # used to hide tkinter window"
   ],
   "metadata": {
    "collapsed": false,
    "pycharm": {
     "name": "#%%\n"
    }
   }
  },
  {
   "cell_type": "code",
   "execution_count": 3,
   "outputs": [],
   "source": [
    "# Write the troop name here\n",
    "troop_id = input(\"Enter the name of the Troop such as Troop 37 22-23\")\n",
    "troop_name = \"for the \" + troop_id"
   ],
   "metadata": {
    "collapsed": false,
    "pycharm": {
     "name": "#%%\n"
    }
   }
  },
  {
   "cell_type": "code",
   "execution_count": 4,
   "outputs": [
    {
     "name": "stdout",
     "output_type": "stream",
     "text": [
      "Files output directory is set to: I:\\Templates, Scripts, and documents\\Report Scripts\\RCMP\\Consent and Onboarding data Script\\Upload file output\n"
     ]
    }
   ],
   "source": [
    "output_dir_name = \"Upload file output\"\n",
    "# create dir\n",
    "abs_path = os.getcwd()\n",
    "path = os.path.join(abs_path, output_dir_name)\n",
    "\n",
    "try:\n",
    "    if not os.path.exists(path):\n",
    "        os.mkdir(path)\n",
    "except OSError as error:\n",
    "    print(error)\n",
    "\n",
    "print(f\"Files output directory is set to: {path}\")"
   ],
   "metadata": {
    "collapsed": false,
    "pycharm": {
     "name": "#%%\n"
    }
   }
  },
  {
   "cell_type": "markdown",
   "source": [
    "# Pre-Onboarding Check"
   ],
   "metadata": {
    "collapsed": false,
    "pycharm": {
     "name": "#%% md\n"
    }
   }
  },
  {
   "cell_type": "markdown",
   "source": [
    "### Generating the consent report"
   ],
   "metadata": {
    "collapsed": false,
    "pycharm": {
     "name": "#%% md\n"
    }
   }
  },
  {
   "cell_type": "code",
   "execution_count": 5,
   "outputs": [
    {
     "name": "stdout",
     "output_type": "stream",
     "text": [
      "You chose C:/Users/sam070/Downloads/user_acceptances (35).csv\n"
     ]
    }
   ],
   "source": [
    "currdir = os.getcwd()\n",
    "consent_file_path = tkinter.filedialog.askopenfilename(\n",
    "    parent=root, initialdir=currdir, title='Please choose the consent file collected from Moodle')\n",
    "if len(consent_file_path) > 0:\n",
    "    print(\"You chose %s\" % consent_file_path)\n",
    "\n",
    "consent_df = pd.read_csv(f'{consent_file_path}')"
   ],
   "metadata": {
    "collapsed": false,
    "pycharm": {
     "name": "#%%\n"
    }
   }
  },
  {
   "cell_type": "code",
   "execution_count": 6,
   "outputs": [],
   "source": [
    "consent_df['username'] = consent_df['User full name']"
   ],
   "metadata": {
    "collapsed": false,
    "pycharm": {
     "name": "#%%\n"
    }
   }
  },
  {
   "cell_type": "code",
   "execution_count": 7,
   "outputs": [],
   "source": [
    "consent_df.drop('Email address', axis=1,inplace=True)\n",
    "consent_df.drop('Respondent', axis=1,inplace=True)\n",
    "consent_df.drop('Remarks', axis=1,inplace=True)\n",
    "consent_df.drop('User full name', axis=1,inplace=True)"
   ],
   "metadata": {
    "collapsed": false,
    "pycharm": {
     "name": "#%%\n"
    }
   }
  },
  {
   "cell_type": "code",
   "execution_count": 8,
   "outputs": [],
   "source": [
    "consent_df['username'] = consent_df['username'].str.replace('Participant ID ','')"
   ],
   "metadata": {
    "collapsed": false,
    "pycharm": {
     "name": "#%%\n"
    }
   }
  },
  {
   "cell_type": "code",
   "execution_count": 9,
   "outputs": [
    {
     "data": {
      "text/plain": "      Response                     Date                        username\n0      Pending                      NaN                      Admin User\n1     Accepted  2020-02-29 11:12:57 CST                   Akiff Maredia\n2      Pending                      NaN    anonfirstname1 anonlastname1\n3      Pending                      NaN  anonfirstname32 anonlastname32\n4     Accepted  2021-05-25 15:22:19 CST                       Apple Dev\n...        ...                      ...                             ...\n3027  Accepted  2020-04-01 13:53:13 CST                  Test Developer\n3028   Pending                      NaN                       Test Test\n3029  Accepted  2021-03-02 09:26:41 CST                       Test user\n3030  Accepted  2021-03-02 10:04:00 CST                      Test User2\n3031  Accepted  2021-08-06 14:14:47 CST                     Web Service\n\n[3032 rows x 3 columns]",
      "text/html": "<div>\n<style scoped>\n    .dataframe tbody tr th:only-of-type {\n        vertical-align: middle;\n    }\n\n    .dataframe tbody tr th {\n        vertical-align: top;\n    }\n\n    .dataframe thead th {\n        text-align: right;\n    }\n</style>\n<table border=\"1\" class=\"dataframe\">\n  <thead>\n    <tr style=\"text-align: right;\">\n      <th></th>\n      <th>Response</th>\n      <th>Date</th>\n      <th>username</th>\n    </tr>\n  </thead>\n  <tbody>\n    <tr>\n      <th>0</th>\n      <td>Pending</td>\n      <td>NaN</td>\n      <td>Admin User</td>\n    </tr>\n    <tr>\n      <th>1</th>\n      <td>Accepted</td>\n      <td>2020-02-29 11:12:57 CST</td>\n      <td>Akiff Maredia</td>\n    </tr>\n    <tr>\n      <th>2</th>\n      <td>Pending</td>\n      <td>NaN</td>\n      <td>anonfirstname1 anonlastname1</td>\n    </tr>\n    <tr>\n      <th>3</th>\n      <td>Pending</td>\n      <td>NaN</td>\n      <td>anonfirstname32 anonlastname32</td>\n    </tr>\n    <tr>\n      <th>4</th>\n      <td>Accepted</td>\n      <td>2021-05-25 15:22:19 CST</td>\n      <td>Apple Dev</td>\n    </tr>\n    <tr>\n      <th>...</th>\n      <td>...</td>\n      <td>...</td>\n      <td>...</td>\n    </tr>\n    <tr>\n      <th>3027</th>\n      <td>Accepted</td>\n      <td>2020-04-01 13:53:13 CST</td>\n      <td>Test Developer</td>\n    </tr>\n    <tr>\n      <th>3028</th>\n      <td>Pending</td>\n      <td>NaN</td>\n      <td>Test Test</td>\n    </tr>\n    <tr>\n      <th>3029</th>\n      <td>Accepted</td>\n      <td>2021-03-02 09:26:41 CST</td>\n      <td>Test user</td>\n    </tr>\n    <tr>\n      <th>3030</th>\n      <td>Accepted</td>\n      <td>2021-03-02 10:04:00 CST</td>\n      <td>Test User2</td>\n    </tr>\n    <tr>\n      <th>3031</th>\n      <td>Accepted</td>\n      <td>2021-08-06 14:14:47 CST</td>\n      <td>Web Service</td>\n    </tr>\n  </tbody>\n</table>\n<p>3032 rows × 3 columns</p>\n</div>"
     },
     "execution_count": 9,
     "metadata": {},
     "output_type": "execute_result"
    }
   ],
   "source": [
    "consent_df"
   ],
   "metadata": {
    "collapsed": false,
    "pycharm": {
     "name": "#%%\n"
    }
   }
  },
  {
   "cell_type": "code",
   "execution_count": 10,
   "outputs": [
    {
     "name": "stdout",
     "output_type": "stream",
     "text": [
      "You chose T:/CCJS/RCMP/Participant and Inventory/Team 2 - Troop Folders/Troop 37 2022-23/Troop 37 2022-23.xlsx\n"
     ]
    }
   ],
   "source": [
    "currdir = os.getcwd()\n",
    "troop_file_path = tkinter.filedialog.askopenfilename(parent=root, initialdir=currdir, title='Please select a the Excel for current onboarding')\n",
    "if len(troop_file_path) > 0:\n",
    "    print(\"You chose %s\" % troop_file_path)"
   ],
   "metadata": {
    "collapsed": false,
    "pycharm": {
     "name": "#%%\n"
    }
   }
  },
  {
   "cell_type": "code",
   "execution_count": 11,
   "outputs": [],
   "source": [
    "troop_df = pd.read_excel(troop_file_path)\n",
    "troop_column = troop_df['Troop Number']"
   ],
   "metadata": {
    "collapsed": false,
    "pycharm": {
     "name": "#%%\n"
    }
   }
  },
  {
   "cell_type": "code",
   "execution_count": 12,
   "outputs": [
    {
     "data": {
      "text/plain": "    bag #    Participant ID    Troop Number\n0       1  iehsrixnjpq0dv09  Troop 37 22/23\n1       2  u9kykg7836kqntq1  Troop 37 22/23\n2       3  5nzzi3k26dba42us  Troop 37 22/23\n3       4  avoepulg30yzzj5q  Troop 37 22/23\n4       5  9xcbcdyuyhoeucoz  Troop 37 22/23\n5       6  k6bc6faqrx55um83  Troop 37 22/23\n6       7  jpysd71nj27icos6  Troop 37 22/23\n7       8  wes4zohk8lfxlglt  Troop 37 22/23\n8       9  ojexsb0522s4nbdw  Troop 37 22/23\n9      10  dvsif1rk3ondxdxr  Troop 37 22/23\n10     11  bp2ztrneb5e56uzl  Troop 37 22/23\n11     12  uk49qe5jhfjhvt56  Troop 37 22/23\n12     13  6p74ou5qysehc4hk  Troop 37 22/23\n13     14  5fao6sep1kxosecu  Troop 37 22/23\n14     15  jycl87bjvfovsde0  Troop 37 22/23\n15     16  7qutem7gkohv39vw  Troop 37 22/23\n16     17  wzclkjxw3wi9gjmm  Troop 37 22/23\n17     18  h46dkty0pu11h5yx  Troop 37 22/23\n18     19  q9jq2km87g3xconc  Troop 37 22/23\n19     20  77ihnena7aijtyuv  Troop 37 22/23\n20     21  9ksrfnm4qty3dmn6  Troop 37 22/23\n21     22  ajr3euh6o0n7b6ah  Troop 37 22/23\n22     23  3wk72i3czj1piats  Troop 37 22/23\n23     24  d4cgit67cyo37bs6  Troop 37 22/23\n24     25  fvk7l6jk19rpx12l  Troop 37 22/23\n25     26  b91yxlqzf2xsgthh  Troop 37 22/23\n26     27  zjkbtet9cn4d5bfm  Troop 37 22/23\n27     28  n082kupz8uf7k62h  Troop 37 22/23\n28     29  6juvg3sig3rytph0  Troop 37 22/23\n29     30  yabqg3vbowkcy06z  Troop 37 22/23\n30     31  2wa9y8d5zm498vjm  Troop 37 22/23\n31     32  8eldbfmbj1h0wija  Troop 37 22/23",
      "text/html": "<div>\n<style scoped>\n    .dataframe tbody tr th:only-of-type {\n        vertical-align: middle;\n    }\n\n    .dataframe tbody tr th {\n        vertical-align: top;\n    }\n\n    .dataframe thead th {\n        text-align: right;\n    }\n</style>\n<table border=\"1\" class=\"dataframe\">\n  <thead>\n    <tr style=\"text-align: right;\">\n      <th></th>\n      <th>bag #</th>\n      <th>Participant ID</th>\n      <th>Troop Number</th>\n    </tr>\n  </thead>\n  <tbody>\n    <tr>\n      <th>0</th>\n      <td>1</td>\n      <td>iehsrixnjpq0dv09</td>\n      <td>Troop 37 22/23</td>\n    </tr>\n    <tr>\n      <th>1</th>\n      <td>2</td>\n      <td>u9kykg7836kqntq1</td>\n      <td>Troop 37 22/23</td>\n    </tr>\n    <tr>\n      <th>2</th>\n      <td>3</td>\n      <td>5nzzi3k26dba42us</td>\n      <td>Troop 37 22/23</td>\n    </tr>\n    <tr>\n      <th>3</th>\n      <td>4</td>\n      <td>avoepulg30yzzj5q</td>\n      <td>Troop 37 22/23</td>\n    </tr>\n    <tr>\n      <th>4</th>\n      <td>5</td>\n      <td>9xcbcdyuyhoeucoz</td>\n      <td>Troop 37 22/23</td>\n    </tr>\n    <tr>\n      <th>5</th>\n      <td>6</td>\n      <td>k6bc6faqrx55um83</td>\n      <td>Troop 37 22/23</td>\n    </tr>\n    <tr>\n      <th>6</th>\n      <td>7</td>\n      <td>jpysd71nj27icos6</td>\n      <td>Troop 37 22/23</td>\n    </tr>\n    <tr>\n      <th>7</th>\n      <td>8</td>\n      <td>wes4zohk8lfxlglt</td>\n      <td>Troop 37 22/23</td>\n    </tr>\n    <tr>\n      <th>8</th>\n      <td>9</td>\n      <td>ojexsb0522s4nbdw</td>\n      <td>Troop 37 22/23</td>\n    </tr>\n    <tr>\n      <th>9</th>\n      <td>10</td>\n      <td>dvsif1rk3ondxdxr</td>\n      <td>Troop 37 22/23</td>\n    </tr>\n    <tr>\n      <th>10</th>\n      <td>11</td>\n      <td>bp2ztrneb5e56uzl</td>\n      <td>Troop 37 22/23</td>\n    </tr>\n    <tr>\n      <th>11</th>\n      <td>12</td>\n      <td>uk49qe5jhfjhvt56</td>\n      <td>Troop 37 22/23</td>\n    </tr>\n    <tr>\n      <th>12</th>\n      <td>13</td>\n      <td>6p74ou5qysehc4hk</td>\n      <td>Troop 37 22/23</td>\n    </tr>\n    <tr>\n      <th>13</th>\n      <td>14</td>\n      <td>5fao6sep1kxosecu</td>\n      <td>Troop 37 22/23</td>\n    </tr>\n    <tr>\n      <th>14</th>\n      <td>15</td>\n      <td>jycl87bjvfovsde0</td>\n      <td>Troop 37 22/23</td>\n    </tr>\n    <tr>\n      <th>15</th>\n      <td>16</td>\n      <td>7qutem7gkohv39vw</td>\n      <td>Troop 37 22/23</td>\n    </tr>\n    <tr>\n      <th>16</th>\n      <td>17</td>\n      <td>wzclkjxw3wi9gjmm</td>\n      <td>Troop 37 22/23</td>\n    </tr>\n    <tr>\n      <th>17</th>\n      <td>18</td>\n      <td>h46dkty0pu11h5yx</td>\n      <td>Troop 37 22/23</td>\n    </tr>\n    <tr>\n      <th>18</th>\n      <td>19</td>\n      <td>q9jq2km87g3xconc</td>\n      <td>Troop 37 22/23</td>\n    </tr>\n    <tr>\n      <th>19</th>\n      <td>20</td>\n      <td>77ihnena7aijtyuv</td>\n      <td>Troop 37 22/23</td>\n    </tr>\n    <tr>\n      <th>20</th>\n      <td>21</td>\n      <td>9ksrfnm4qty3dmn6</td>\n      <td>Troop 37 22/23</td>\n    </tr>\n    <tr>\n      <th>21</th>\n      <td>22</td>\n      <td>ajr3euh6o0n7b6ah</td>\n      <td>Troop 37 22/23</td>\n    </tr>\n    <tr>\n      <th>22</th>\n      <td>23</td>\n      <td>3wk72i3czj1piats</td>\n      <td>Troop 37 22/23</td>\n    </tr>\n    <tr>\n      <th>23</th>\n      <td>24</td>\n      <td>d4cgit67cyo37bs6</td>\n      <td>Troop 37 22/23</td>\n    </tr>\n    <tr>\n      <th>24</th>\n      <td>25</td>\n      <td>fvk7l6jk19rpx12l</td>\n      <td>Troop 37 22/23</td>\n    </tr>\n    <tr>\n      <th>25</th>\n      <td>26</td>\n      <td>b91yxlqzf2xsgthh</td>\n      <td>Troop 37 22/23</td>\n    </tr>\n    <tr>\n      <th>26</th>\n      <td>27</td>\n      <td>zjkbtet9cn4d5bfm</td>\n      <td>Troop 37 22/23</td>\n    </tr>\n    <tr>\n      <th>27</th>\n      <td>28</td>\n      <td>n082kupz8uf7k62h</td>\n      <td>Troop 37 22/23</td>\n    </tr>\n    <tr>\n      <th>28</th>\n      <td>29</td>\n      <td>6juvg3sig3rytph0</td>\n      <td>Troop 37 22/23</td>\n    </tr>\n    <tr>\n      <th>29</th>\n      <td>30</td>\n      <td>yabqg3vbowkcy06z</td>\n      <td>Troop 37 22/23</td>\n    </tr>\n    <tr>\n      <th>30</th>\n      <td>31</td>\n      <td>2wa9y8d5zm498vjm</td>\n      <td>Troop 37 22/23</td>\n    </tr>\n    <tr>\n      <th>31</th>\n      <td>32</td>\n      <td>8eldbfmbj1h0wija</td>\n      <td>Troop 37 22/23</td>\n    </tr>\n  </tbody>\n</table>\n</div>"
     },
     "execution_count": 12,
     "metadata": {},
     "output_type": "execute_result"
    }
   ],
   "source": [
    "troop_df"
   ],
   "metadata": {
    "collapsed": false,
    "pycharm": {
     "name": "#%%\n"
    }
   }
  },
  {
   "cell_type": "code",
   "execution_count": 13,
   "outputs": [],
   "source": [
    "troop_df['username'] = troop_df['Participant ID'].str.lower()\n",
    "troop_df.drop('Participant ID', axis=1,inplace=True)\n",
    "troop_df.drop('Troop Number', axis=1,inplace=True)\n",
    "troop_df.drop('bag #', axis=1,inplace=True)"
   ],
   "metadata": {
    "collapsed": false,
    "pycharm": {
     "name": "#%%\n"
    }
   }
  },
  {
   "cell_type": "code",
   "execution_count": 14,
   "outputs": [
    {
     "data": {
      "text/plain": "            username\n0   iehsrixnjpq0dv09\n1   u9kykg7836kqntq1\n2   5nzzi3k26dba42us\n3   avoepulg30yzzj5q\n4   9xcbcdyuyhoeucoz\n5   k6bc6faqrx55um83\n6   jpysd71nj27icos6\n7   wes4zohk8lfxlglt\n8   ojexsb0522s4nbdw\n9   dvsif1rk3ondxdxr\n10  bp2ztrneb5e56uzl\n11  uk49qe5jhfjhvt56\n12  6p74ou5qysehc4hk\n13  5fao6sep1kxosecu\n14  jycl87bjvfovsde0\n15  7qutem7gkohv39vw\n16  wzclkjxw3wi9gjmm\n17  h46dkty0pu11h5yx\n18  q9jq2km87g3xconc\n19  77ihnena7aijtyuv\n20  9ksrfnm4qty3dmn6\n21  ajr3euh6o0n7b6ah\n22  3wk72i3czj1piats\n23  d4cgit67cyo37bs6\n24  fvk7l6jk19rpx12l\n25  b91yxlqzf2xsgthh\n26  zjkbtet9cn4d5bfm\n27  n082kupz8uf7k62h\n28  6juvg3sig3rytph0\n29  yabqg3vbowkcy06z\n30  2wa9y8d5zm498vjm\n31  8eldbfmbj1h0wija",
      "text/html": "<div>\n<style scoped>\n    .dataframe tbody tr th:only-of-type {\n        vertical-align: middle;\n    }\n\n    .dataframe tbody tr th {\n        vertical-align: top;\n    }\n\n    .dataframe thead th {\n        text-align: right;\n    }\n</style>\n<table border=\"1\" class=\"dataframe\">\n  <thead>\n    <tr style=\"text-align: right;\">\n      <th></th>\n      <th>username</th>\n    </tr>\n  </thead>\n  <tbody>\n    <tr>\n      <th>0</th>\n      <td>iehsrixnjpq0dv09</td>\n    </tr>\n    <tr>\n      <th>1</th>\n      <td>u9kykg7836kqntq1</td>\n    </tr>\n    <tr>\n      <th>2</th>\n      <td>5nzzi3k26dba42us</td>\n    </tr>\n    <tr>\n      <th>3</th>\n      <td>avoepulg30yzzj5q</td>\n    </tr>\n    <tr>\n      <th>4</th>\n      <td>9xcbcdyuyhoeucoz</td>\n    </tr>\n    <tr>\n      <th>5</th>\n      <td>k6bc6faqrx55um83</td>\n    </tr>\n    <tr>\n      <th>6</th>\n      <td>jpysd71nj27icos6</td>\n    </tr>\n    <tr>\n      <th>7</th>\n      <td>wes4zohk8lfxlglt</td>\n    </tr>\n    <tr>\n      <th>8</th>\n      <td>ojexsb0522s4nbdw</td>\n    </tr>\n    <tr>\n      <th>9</th>\n      <td>dvsif1rk3ondxdxr</td>\n    </tr>\n    <tr>\n      <th>10</th>\n      <td>bp2ztrneb5e56uzl</td>\n    </tr>\n    <tr>\n      <th>11</th>\n      <td>uk49qe5jhfjhvt56</td>\n    </tr>\n    <tr>\n      <th>12</th>\n      <td>6p74ou5qysehc4hk</td>\n    </tr>\n    <tr>\n      <th>13</th>\n      <td>5fao6sep1kxosecu</td>\n    </tr>\n    <tr>\n      <th>14</th>\n      <td>jycl87bjvfovsde0</td>\n    </tr>\n    <tr>\n      <th>15</th>\n      <td>7qutem7gkohv39vw</td>\n    </tr>\n    <tr>\n      <th>16</th>\n      <td>wzclkjxw3wi9gjmm</td>\n    </tr>\n    <tr>\n      <th>17</th>\n      <td>h46dkty0pu11h5yx</td>\n    </tr>\n    <tr>\n      <th>18</th>\n      <td>q9jq2km87g3xconc</td>\n    </tr>\n    <tr>\n      <th>19</th>\n      <td>77ihnena7aijtyuv</td>\n    </tr>\n    <tr>\n      <th>20</th>\n      <td>9ksrfnm4qty3dmn6</td>\n    </tr>\n    <tr>\n      <th>21</th>\n      <td>ajr3euh6o0n7b6ah</td>\n    </tr>\n    <tr>\n      <th>22</th>\n      <td>3wk72i3czj1piats</td>\n    </tr>\n    <tr>\n      <th>23</th>\n      <td>d4cgit67cyo37bs6</td>\n    </tr>\n    <tr>\n      <th>24</th>\n      <td>fvk7l6jk19rpx12l</td>\n    </tr>\n    <tr>\n      <th>25</th>\n      <td>b91yxlqzf2xsgthh</td>\n    </tr>\n    <tr>\n      <th>26</th>\n      <td>zjkbtet9cn4d5bfm</td>\n    </tr>\n    <tr>\n      <th>27</th>\n      <td>n082kupz8uf7k62h</td>\n    </tr>\n    <tr>\n      <th>28</th>\n      <td>6juvg3sig3rytph0</td>\n    </tr>\n    <tr>\n      <th>29</th>\n      <td>yabqg3vbowkcy06z</td>\n    </tr>\n    <tr>\n      <th>30</th>\n      <td>2wa9y8d5zm498vjm</td>\n    </tr>\n    <tr>\n      <th>31</th>\n      <td>8eldbfmbj1h0wija</td>\n    </tr>\n  </tbody>\n</table>\n</div>"
     },
     "execution_count": 14,
     "metadata": {},
     "output_type": "execute_result"
    }
   ],
   "source": [
    "troop_df"
   ],
   "metadata": {
    "collapsed": false,
    "pycharm": {
     "name": "#%%\n"
    }
   }
  },
  {
   "cell_type": "code",
   "execution_count": 15,
   "outputs": [],
   "source": [
    "merged_df = pd.merge(consent_df,troop_df, 'inner', 'username')"
   ],
   "metadata": {
    "collapsed": false,
    "pycharm": {
     "name": "#%%\n"
    }
   }
  },
  {
   "cell_type": "code",
   "execution_count": 16,
   "outputs": [
    {
     "data": {
      "text/plain": "   Response Date          username\n0   Pending  NaN  iehsrixnjpq0dv09\n1   Pending  NaN  u9kykg7836kqntq1\n2   Pending  NaN  5nzzi3k26dba42us\n3   Pending  NaN  avoepulg30yzzj5q\n4   Pending  NaN  9xcbcdyuyhoeucoz\n5   Pending  NaN  k6bc6faqrx55um83\n6   Pending  NaN  jpysd71nj27icos6\n7   Pending  NaN  wes4zohk8lfxlglt\n8   Pending  NaN  ojexsb0522s4nbdw\n9   Pending  NaN  dvsif1rk3ondxdxr\n10  Pending  NaN  bp2ztrneb5e56uzl\n11  Pending  NaN  uk49qe5jhfjhvt56\n12  Pending  NaN  6p74ou5qysehc4hk\n13  Pending  NaN  5fao6sep1kxosecu\n14  Pending  NaN  jycl87bjvfovsde0\n15  Pending  NaN  7qutem7gkohv39vw\n16  Pending  NaN  wzclkjxw3wi9gjmm\n17  Pending  NaN  h46dkty0pu11h5yx\n18  Pending  NaN  q9jq2km87g3xconc\n19  Pending  NaN  77ihnena7aijtyuv\n20  Pending  NaN  9ksrfnm4qty3dmn6\n21  Pending  NaN  ajr3euh6o0n7b6ah\n22  Pending  NaN  3wk72i3czj1piats\n23  Pending  NaN  d4cgit67cyo37bs6\n24  Pending  NaN  fvk7l6jk19rpx12l\n25  Pending  NaN  b91yxlqzf2xsgthh\n26  Pending  NaN  zjkbtet9cn4d5bfm\n27  Pending  NaN  n082kupz8uf7k62h\n28  Pending  NaN  6juvg3sig3rytph0\n29  Pending  NaN  yabqg3vbowkcy06z\n30  Pending  NaN  2wa9y8d5zm498vjm\n31  Pending  NaN  8eldbfmbj1h0wija",
      "text/html": "<div>\n<style scoped>\n    .dataframe tbody tr th:only-of-type {\n        vertical-align: middle;\n    }\n\n    .dataframe tbody tr th {\n        vertical-align: top;\n    }\n\n    .dataframe thead th {\n        text-align: right;\n    }\n</style>\n<table border=\"1\" class=\"dataframe\">\n  <thead>\n    <tr style=\"text-align: right;\">\n      <th></th>\n      <th>Response</th>\n      <th>Date</th>\n      <th>username</th>\n    </tr>\n  </thead>\n  <tbody>\n    <tr>\n      <th>0</th>\n      <td>Pending</td>\n      <td>NaN</td>\n      <td>iehsrixnjpq0dv09</td>\n    </tr>\n    <tr>\n      <th>1</th>\n      <td>Pending</td>\n      <td>NaN</td>\n      <td>u9kykg7836kqntq1</td>\n    </tr>\n    <tr>\n      <th>2</th>\n      <td>Pending</td>\n      <td>NaN</td>\n      <td>5nzzi3k26dba42us</td>\n    </tr>\n    <tr>\n      <th>3</th>\n      <td>Pending</td>\n      <td>NaN</td>\n      <td>avoepulg30yzzj5q</td>\n    </tr>\n    <tr>\n      <th>4</th>\n      <td>Pending</td>\n      <td>NaN</td>\n      <td>9xcbcdyuyhoeucoz</td>\n    </tr>\n    <tr>\n      <th>5</th>\n      <td>Pending</td>\n      <td>NaN</td>\n      <td>k6bc6faqrx55um83</td>\n    </tr>\n    <tr>\n      <th>6</th>\n      <td>Pending</td>\n      <td>NaN</td>\n      <td>jpysd71nj27icos6</td>\n    </tr>\n    <tr>\n      <th>7</th>\n      <td>Pending</td>\n      <td>NaN</td>\n      <td>wes4zohk8lfxlglt</td>\n    </tr>\n    <tr>\n      <th>8</th>\n      <td>Pending</td>\n      <td>NaN</td>\n      <td>ojexsb0522s4nbdw</td>\n    </tr>\n    <tr>\n      <th>9</th>\n      <td>Pending</td>\n      <td>NaN</td>\n      <td>dvsif1rk3ondxdxr</td>\n    </tr>\n    <tr>\n      <th>10</th>\n      <td>Pending</td>\n      <td>NaN</td>\n      <td>bp2ztrneb5e56uzl</td>\n    </tr>\n    <tr>\n      <th>11</th>\n      <td>Pending</td>\n      <td>NaN</td>\n      <td>uk49qe5jhfjhvt56</td>\n    </tr>\n    <tr>\n      <th>12</th>\n      <td>Pending</td>\n      <td>NaN</td>\n      <td>6p74ou5qysehc4hk</td>\n    </tr>\n    <tr>\n      <th>13</th>\n      <td>Pending</td>\n      <td>NaN</td>\n      <td>5fao6sep1kxosecu</td>\n    </tr>\n    <tr>\n      <th>14</th>\n      <td>Pending</td>\n      <td>NaN</td>\n      <td>jycl87bjvfovsde0</td>\n    </tr>\n    <tr>\n      <th>15</th>\n      <td>Pending</td>\n      <td>NaN</td>\n      <td>7qutem7gkohv39vw</td>\n    </tr>\n    <tr>\n      <th>16</th>\n      <td>Pending</td>\n      <td>NaN</td>\n      <td>wzclkjxw3wi9gjmm</td>\n    </tr>\n    <tr>\n      <th>17</th>\n      <td>Pending</td>\n      <td>NaN</td>\n      <td>h46dkty0pu11h5yx</td>\n    </tr>\n    <tr>\n      <th>18</th>\n      <td>Pending</td>\n      <td>NaN</td>\n      <td>q9jq2km87g3xconc</td>\n    </tr>\n    <tr>\n      <th>19</th>\n      <td>Pending</td>\n      <td>NaN</td>\n      <td>77ihnena7aijtyuv</td>\n    </tr>\n    <tr>\n      <th>20</th>\n      <td>Pending</td>\n      <td>NaN</td>\n      <td>9ksrfnm4qty3dmn6</td>\n    </tr>\n    <tr>\n      <th>21</th>\n      <td>Pending</td>\n      <td>NaN</td>\n      <td>ajr3euh6o0n7b6ah</td>\n    </tr>\n    <tr>\n      <th>22</th>\n      <td>Pending</td>\n      <td>NaN</td>\n      <td>3wk72i3czj1piats</td>\n    </tr>\n    <tr>\n      <th>23</th>\n      <td>Pending</td>\n      <td>NaN</td>\n      <td>d4cgit67cyo37bs6</td>\n    </tr>\n    <tr>\n      <th>24</th>\n      <td>Pending</td>\n      <td>NaN</td>\n      <td>fvk7l6jk19rpx12l</td>\n    </tr>\n    <tr>\n      <th>25</th>\n      <td>Pending</td>\n      <td>NaN</td>\n      <td>b91yxlqzf2xsgthh</td>\n    </tr>\n    <tr>\n      <th>26</th>\n      <td>Pending</td>\n      <td>NaN</td>\n      <td>zjkbtet9cn4d5bfm</td>\n    </tr>\n    <tr>\n      <th>27</th>\n      <td>Pending</td>\n      <td>NaN</td>\n      <td>n082kupz8uf7k62h</td>\n    </tr>\n    <tr>\n      <th>28</th>\n      <td>Pending</td>\n      <td>NaN</td>\n      <td>6juvg3sig3rytph0</td>\n    </tr>\n    <tr>\n      <th>29</th>\n      <td>Pending</td>\n      <td>NaN</td>\n      <td>yabqg3vbowkcy06z</td>\n    </tr>\n    <tr>\n      <th>30</th>\n      <td>Pending</td>\n      <td>NaN</td>\n      <td>2wa9y8d5zm498vjm</td>\n    </tr>\n    <tr>\n      <th>31</th>\n      <td>Pending</td>\n      <td>NaN</td>\n      <td>8eldbfmbj1h0wija</td>\n    </tr>\n  </tbody>\n</table>\n</div>"
     },
     "execution_count": 16,
     "metadata": {},
     "output_type": "execute_result"
    }
   ],
   "source": [
    "merged_df"
   ],
   "metadata": {
    "collapsed": false,
    "pycharm": {
     "name": "#%%\n"
    }
   }
  },
  {
   "cell_type": "code",
   "execution_count": 17,
   "outputs": [],
   "source": [
    "merged_df.to_excel(f\"{path}/Consent stats {troop_name}.xlsx\",index=False)"
   ],
   "metadata": {
    "collapsed": false,
    "pycharm": {
     "name": "#%%\n"
    }
   }
  },
  {
   "cell_type": "markdown",
   "source": [
    "### Generating the Qualtrics Link generation file"
   ],
   "metadata": {
    "collapsed": false
   }
  },
  {
   "cell_type": "code",
   "execution_count": 18,
   "outputs": [],
   "source": [
    "partcipant_id_strings = pd.Series([\"Participant ID\" for x in range(len(merged_df.index))])\n",
    "emails = merged_df['username'] + '@rcmpstudy.ca'\n",
    "troopnumbers = troop_column\n",
    "qualtrics_frame = pd.DataFrame()\n",
    "qualtrics_frame['Email'] = emails\n",
    "qualtrics_frame['First Name'] = partcipant_id_strings\n",
    "qualtrics_frame['Last Name'] = merged_df['username']\n",
    "qualtrics_frame['E'] = \"\"\n",
    "qualtrics_frame['L'] = \"\"\n",
    "qualtrics_frame['firstname'] = merged_df['username']\n",
    "qualtrics_frame['troopnumber'] = troopnumbers\n",
    "qualtrics_frame.to_csv(f\"{path}/qualtrics link creation file.csv\",index=False)"
   ],
   "metadata": {
    "collapsed": false,
    "pycharm": {
     "name": "#%%\n"
    }
   }
  },
  {
   "cell_type": "markdown",
   "source": [
    "### Generating upload file to Reset Password, set Byod=Yes,consent=No"
   ],
   "metadata": {
    "collapsed": false,
    "pycharm": {
     "name": "#%% md\n"
    }
   }
  },
  {
   "cell_type": "code",
   "execution_count": 19,
   "outputs": [],
   "source": [
    "passwords = pd.Series([\"Redserge#1\" for x in range(len(merged_df.index))])\n",
    "consents = pd.Series([\"No\" for x in range(len(merged_df.index))])\n",
    "byod_data = pd.Series([\"Yes\" for x in range(len(merged_df.index))])"
   ],
   "metadata": {
    "collapsed": false,
    "pycharm": {
     "name": "#%%\n"
    }
   }
  },
  {
   "cell_type": "code",
   "execution_count": 20,
   "outputs": [],
   "source": [
    "upload_dataframe = pd.DataFrame()"
   ],
   "metadata": {
    "collapsed": false,
    "pycharm": {
     "name": "#%%\n"
    }
   }
  },
  {
   "cell_type": "code",
   "execution_count": 21,
   "outputs": [],
   "source": [
    "upload_dataframe['password'] = passwords\n",
    "upload_dataframe['profile_field_consent'] = consents\n",
    "upload_dataframe['profile_field_byod'] = byod_data\n",
    "upload_dataframe['username'] = merged_df['username']"
   ],
   "metadata": {
    "collapsed": false,
    "pycharm": {
     "name": "#%%\n"
    }
   }
  },
  {
   "cell_type": "code",
   "execution_count": 22,
   "outputs": [
    {
     "data": {
      "text/plain": "      password profile_field_consent profile_field_byod          username\n0   Redserge#1                    No                Yes  iehsrixnjpq0dv09\n1   Redserge#1                    No                Yes  u9kykg7836kqntq1\n2   Redserge#1                    No                Yes  5nzzi3k26dba42us\n3   Redserge#1                    No                Yes  avoepulg30yzzj5q\n4   Redserge#1                    No                Yes  9xcbcdyuyhoeucoz\n5   Redserge#1                    No                Yes  k6bc6faqrx55um83\n6   Redserge#1                    No                Yes  jpysd71nj27icos6\n7   Redserge#1                    No                Yes  wes4zohk8lfxlglt\n8   Redserge#1                    No                Yes  ojexsb0522s4nbdw\n9   Redserge#1                    No                Yes  dvsif1rk3ondxdxr\n10  Redserge#1                    No                Yes  bp2ztrneb5e56uzl\n11  Redserge#1                    No                Yes  uk49qe5jhfjhvt56\n12  Redserge#1                    No                Yes  6p74ou5qysehc4hk\n13  Redserge#1                    No                Yes  5fao6sep1kxosecu\n14  Redserge#1                    No                Yes  jycl87bjvfovsde0\n15  Redserge#1                    No                Yes  7qutem7gkohv39vw\n16  Redserge#1                    No                Yes  wzclkjxw3wi9gjmm\n17  Redserge#1                    No                Yes  h46dkty0pu11h5yx\n18  Redserge#1                    No                Yes  q9jq2km87g3xconc\n19  Redserge#1                    No                Yes  77ihnena7aijtyuv\n20  Redserge#1                    No                Yes  9ksrfnm4qty3dmn6\n21  Redserge#1                    No                Yes  ajr3euh6o0n7b6ah\n22  Redserge#1                    No                Yes  3wk72i3czj1piats\n23  Redserge#1                    No                Yes  d4cgit67cyo37bs6\n24  Redserge#1                    No                Yes  fvk7l6jk19rpx12l\n25  Redserge#1                    No                Yes  b91yxlqzf2xsgthh\n26  Redserge#1                    No                Yes  zjkbtet9cn4d5bfm\n27  Redserge#1                    No                Yes  n082kupz8uf7k62h\n28  Redserge#1                    No                Yes  6juvg3sig3rytph0\n29  Redserge#1                    No                Yes  yabqg3vbowkcy06z\n30  Redserge#1                    No                Yes  2wa9y8d5zm498vjm\n31  Redserge#1                    No                Yes  8eldbfmbj1h0wija",
      "text/html": "<div>\n<style scoped>\n    .dataframe tbody tr th:only-of-type {\n        vertical-align: middle;\n    }\n\n    .dataframe tbody tr th {\n        vertical-align: top;\n    }\n\n    .dataframe thead th {\n        text-align: right;\n    }\n</style>\n<table border=\"1\" class=\"dataframe\">\n  <thead>\n    <tr style=\"text-align: right;\">\n      <th></th>\n      <th>password</th>\n      <th>profile_field_consent</th>\n      <th>profile_field_byod</th>\n      <th>username</th>\n    </tr>\n  </thead>\n  <tbody>\n    <tr>\n      <th>0</th>\n      <td>Redserge#1</td>\n      <td>No</td>\n      <td>Yes</td>\n      <td>iehsrixnjpq0dv09</td>\n    </tr>\n    <tr>\n      <th>1</th>\n      <td>Redserge#1</td>\n      <td>No</td>\n      <td>Yes</td>\n      <td>u9kykg7836kqntq1</td>\n    </tr>\n    <tr>\n      <th>2</th>\n      <td>Redserge#1</td>\n      <td>No</td>\n      <td>Yes</td>\n      <td>5nzzi3k26dba42us</td>\n    </tr>\n    <tr>\n      <th>3</th>\n      <td>Redserge#1</td>\n      <td>No</td>\n      <td>Yes</td>\n      <td>avoepulg30yzzj5q</td>\n    </tr>\n    <tr>\n      <th>4</th>\n      <td>Redserge#1</td>\n      <td>No</td>\n      <td>Yes</td>\n      <td>9xcbcdyuyhoeucoz</td>\n    </tr>\n    <tr>\n      <th>5</th>\n      <td>Redserge#1</td>\n      <td>No</td>\n      <td>Yes</td>\n      <td>k6bc6faqrx55um83</td>\n    </tr>\n    <tr>\n      <th>6</th>\n      <td>Redserge#1</td>\n      <td>No</td>\n      <td>Yes</td>\n      <td>jpysd71nj27icos6</td>\n    </tr>\n    <tr>\n      <th>7</th>\n      <td>Redserge#1</td>\n      <td>No</td>\n      <td>Yes</td>\n      <td>wes4zohk8lfxlglt</td>\n    </tr>\n    <tr>\n      <th>8</th>\n      <td>Redserge#1</td>\n      <td>No</td>\n      <td>Yes</td>\n      <td>ojexsb0522s4nbdw</td>\n    </tr>\n    <tr>\n      <th>9</th>\n      <td>Redserge#1</td>\n      <td>No</td>\n      <td>Yes</td>\n      <td>dvsif1rk3ondxdxr</td>\n    </tr>\n    <tr>\n      <th>10</th>\n      <td>Redserge#1</td>\n      <td>No</td>\n      <td>Yes</td>\n      <td>bp2ztrneb5e56uzl</td>\n    </tr>\n    <tr>\n      <th>11</th>\n      <td>Redserge#1</td>\n      <td>No</td>\n      <td>Yes</td>\n      <td>uk49qe5jhfjhvt56</td>\n    </tr>\n    <tr>\n      <th>12</th>\n      <td>Redserge#1</td>\n      <td>No</td>\n      <td>Yes</td>\n      <td>6p74ou5qysehc4hk</td>\n    </tr>\n    <tr>\n      <th>13</th>\n      <td>Redserge#1</td>\n      <td>No</td>\n      <td>Yes</td>\n      <td>5fao6sep1kxosecu</td>\n    </tr>\n    <tr>\n      <th>14</th>\n      <td>Redserge#1</td>\n      <td>No</td>\n      <td>Yes</td>\n      <td>jycl87bjvfovsde0</td>\n    </tr>\n    <tr>\n      <th>15</th>\n      <td>Redserge#1</td>\n      <td>No</td>\n      <td>Yes</td>\n      <td>7qutem7gkohv39vw</td>\n    </tr>\n    <tr>\n      <th>16</th>\n      <td>Redserge#1</td>\n      <td>No</td>\n      <td>Yes</td>\n      <td>wzclkjxw3wi9gjmm</td>\n    </tr>\n    <tr>\n      <th>17</th>\n      <td>Redserge#1</td>\n      <td>No</td>\n      <td>Yes</td>\n      <td>h46dkty0pu11h5yx</td>\n    </tr>\n    <tr>\n      <th>18</th>\n      <td>Redserge#1</td>\n      <td>No</td>\n      <td>Yes</td>\n      <td>q9jq2km87g3xconc</td>\n    </tr>\n    <tr>\n      <th>19</th>\n      <td>Redserge#1</td>\n      <td>No</td>\n      <td>Yes</td>\n      <td>77ihnena7aijtyuv</td>\n    </tr>\n    <tr>\n      <th>20</th>\n      <td>Redserge#1</td>\n      <td>No</td>\n      <td>Yes</td>\n      <td>9ksrfnm4qty3dmn6</td>\n    </tr>\n    <tr>\n      <th>21</th>\n      <td>Redserge#1</td>\n      <td>No</td>\n      <td>Yes</td>\n      <td>ajr3euh6o0n7b6ah</td>\n    </tr>\n    <tr>\n      <th>22</th>\n      <td>Redserge#1</td>\n      <td>No</td>\n      <td>Yes</td>\n      <td>3wk72i3czj1piats</td>\n    </tr>\n    <tr>\n      <th>23</th>\n      <td>Redserge#1</td>\n      <td>No</td>\n      <td>Yes</td>\n      <td>d4cgit67cyo37bs6</td>\n    </tr>\n    <tr>\n      <th>24</th>\n      <td>Redserge#1</td>\n      <td>No</td>\n      <td>Yes</td>\n      <td>fvk7l6jk19rpx12l</td>\n    </tr>\n    <tr>\n      <th>25</th>\n      <td>Redserge#1</td>\n      <td>No</td>\n      <td>Yes</td>\n      <td>b91yxlqzf2xsgthh</td>\n    </tr>\n    <tr>\n      <th>26</th>\n      <td>Redserge#1</td>\n      <td>No</td>\n      <td>Yes</td>\n      <td>zjkbtet9cn4d5bfm</td>\n    </tr>\n    <tr>\n      <th>27</th>\n      <td>Redserge#1</td>\n      <td>No</td>\n      <td>Yes</td>\n      <td>n082kupz8uf7k62h</td>\n    </tr>\n    <tr>\n      <th>28</th>\n      <td>Redserge#1</td>\n      <td>No</td>\n      <td>Yes</td>\n      <td>6juvg3sig3rytph0</td>\n    </tr>\n    <tr>\n      <th>29</th>\n      <td>Redserge#1</td>\n      <td>No</td>\n      <td>Yes</td>\n      <td>yabqg3vbowkcy06z</td>\n    </tr>\n    <tr>\n      <th>30</th>\n      <td>Redserge#1</td>\n      <td>No</td>\n      <td>Yes</td>\n      <td>2wa9y8d5zm498vjm</td>\n    </tr>\n    <tr>\n      <th>31</th>\n      <td>Redserge#1</td>\n      <td>No</td>\n      <td>Yes</td>\n      <td>8eldbfmbj1h0wija</td>\n    </tr>\n  </tbody>\n</table>\n</div>"
     },
     "execution_count": 22,
     "metadata": {},
     "output_type": "execute_result"
    }
   ],
   "source": [
    "upload_dataframe"
   ],
   "metadata": {
    "collapsed": false,
    "pycharm": {
     "name": "#%%\n"
    }
   }
  },
  {
   "cell_type": "code",
   "execution_count": 23,
   "outputs": [],
   "source": [
    "upload_dataframe.to_csv(f\"{path}/moodle upload file set pswd,byod,pfieldconsent {troop_name}.csv\",index=False)"
   ],
   "metadata": {
    "collapsed": false,
    "pycharm": {
     "name": "#%%\n"
    }
   }
  },
  {
   "cell_type": "code",
   "execution_count": 24,
   "outputs": [
    {
     "data": {
      "text/plain": "'ok'"
     },
     "execution_count": 24,
     "metadata": {},
     "output_type": "execute_result"
    }
   ],
   "source": [
    "from tkinter import messagebox\n",
    "messagebox.showinfo(\"Success\", \"Script completed running\")"
   ],
   "metadata": {
    "collapsed": false,
    "pycharm": {
     "name": "#%%\n"
    }
   }
  }
 ],
 "metadata": {
  "kernelspec": {
   "display_name": "Python 3",
   "language": "python",
   "name": "python3"
  },
  "language_info": {
   "codemirror_mode": {
    "name": "ipython",
    "version": 2
   },
   "file_extension": ".py",
   "mimetype": "text/x-python",
   "name": "python",
   "nbconvert_exporter": "python",
   "pygments_lexer": "ipython2",
   "version": "2.7.6"
  }
 },
 "nbformat": 4,
 "nbformat_minor": 0
}